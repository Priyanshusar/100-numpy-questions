{
  "cells": [
    {
      "cell_type": "markdown",
      "id": "d46e26d4",
      "metadata": {
        "id": "d46e26d4"
      },
      "source": [
        "# 100 numpy exercises\n",
        "\n",
        "This is a collection of exercises that have been collected in the numpy mailing list, on stack overflow\n",
        "and in the numpy documentation. The goal of this collection is to offer a quick reference for both old\n",
        "and new users but also to provide a set of exercises for those who teach.\n",
        "\n",
        "\n",
        "If you find an error or think you've a better way to solve some of them, feel\n",
        "free to open an issue at <https://github.com/rougier/numpy-100>."
      ]
    },
    {
      "cell_type": "markdown",
      "id": "1ce7c53f",
      "metadata": {
        "id": "1ce7c53f"
      },
      "source": [
        "Run the `initialize.py` module, then for each question you can query the\n",
        "answer or an hint with `hint(n)` or `answer(n)` for `n` question number."
      ]
    },
    {
      "cell_type": "markdown",
      "id": "dcc6b1ac",
      "metadata": {
        "id": "dcc6b1ac"
      },
      "source": [
        "#### 1. Import the numpy package under the name `np` (★☆☆)"
      ]
    },
    {
      "cell_type": "code",
      "execution_count": null,
      "id": "6c52078e",
      "metadata": {
        "id": "6c52078e"
      },
      "outputs": [],
      "source": [
        "import numpy as np\n"
      ]
    },
    {
      "cell_type": "markdown",
      "id": "118ded29",
      "metadata": {
        "id": "118ded29"
      },
      "source": [
        "#### 2. Print the numpy version and the configuration (★☆☆)"
      ]
    },
    {
      "cell_type": "code",
      "execution_count": null,
      "id": "023a2c52",
      "metadata": {
        "colab": {
          "base_uri": "https://localhost:8080/"
        },
        "id": "023a2c52",
        "outputId": "f6cb2a6e-ff83-4ea5-bfd1-dac09ee9d696"
      },
      "outputs": [
        {
          "output_type": "stream",
          "name": "stdout",
          "text": [
            "2.0.2\n",
            "Build Dependencies:\n",
            "  blas:\n",
            "    detection method: pkgconfig\n",
            "    found: true\n",
            "    include directory: /opt/_internal/cpython-3.11.8/lib/python3.11/site-packages/scipy_openblas64/include\n",
            "    lib directory: /opt/_internal/cpython-3.11.8/lib/python3.11/site-packages/scipy_openblas64/lib\n",
            "    name: scipy-openblas\n",
            "    openblas configuration: OpenBLAS 0.3.27  USE64BITINT DYNAMIC_ARCH NO_AFFINITY\n",
            "      Zen MAX_THREADS=64\n",
            "    pc file directory: /project/.openblas\n",
            "    version: 0.3.27\n",
            "  lapack:\n",
            "    detection method: pkgconfig\n",
            "    found: true\n",
            "    include directory: /opt/_internal/cpython-3.11.8/lib/python3.11/site-packages/scipy_openblas64/include\n",
            "    lib directory: /opt/_internal/cpython-3.11.8/lib/python3.11/site-packages/scipy_openblas64/lib\n",
            "    name: scipy-openblas\n",
            "    openblas configuration: OpenBLAS 0.3.27  USE64BITINT DYNAMIC_ARCH NO_AFFINITY\n",
            "      Zen MAX_THREADS=64\n",
            "    pc file directory: /project/.openblas\n",
            "    version: 0.3.27\n",
            "Compilers:\n",
            "  c:\n",
            "    commands: cc\n",
            "    linker: ld.bfd\n",
            "    name: gcc\n",
            "    version: 10.2.1\n",
            "  c++:\n",
            "    commands: c++\n",
            "    linker: ld.bfd\n",
            "    name: gcc\n",
            "    version: 10.2.1\n",
            "  cython:\n",
            "    commands: cython\n",
            "    linker: cython\n",
            "    name: cython\n",
            "    version: 3.0.11\n",
            "Machine Information:\n",
            "  build:\n",
            "    cpu: x86_64\n",
            "    endian: little\n",
            "    family: x86_64\n",
            "    system: linux\n",
            "  host:\n",
            "    cpu: x86_64\n",
            "    endian: little\n",
            "    family: x86_64\n",
            "    system: linux\n",
            "Python Information:\n",
            "  path: /tmp/build-env-zm_4loqi/bin/python\n",
            "  version: '3.11'\n",
            "SIMD Extensions:\n",
            "  baseline:\n",
            "  - SSE\n",
            "  - SSE2\n",
            "  - SSE3\n",
            "  found:\n",
            "  - SSSE3\n",
            "  - SSE41\n",
            "  - POPCNT\n",
            "  - SSE42\n",
            "  - AVX\n",
            "  - F16C\n",
            "  - FMA3\n",
            "  - AVX2\n",
            "  not found:\n",
            "  - AVX512F\n",
            "  - AVX512CD\n",
            "  - AVX512_KNL\n",
            "  - AVX512_KNM\n",
            "  - AVX512_SKX\n",
            "  - AVX512_CLX\n",
            "  - AVX512_CNL\n",
            "  - AVX512_ICL\n",
            "\n"
          ]
        }
      ],
      "source": [
        "print(np.__version__)\n",
        "np.show_config()\n"
      ]
    },
    {
      "cell_type": "markdown",
      "id": "172b913a",
      "metadata": {
        "id": "172b913a"
      },
      "source": [
        "#### 3. Create a null vector of size 10 (★☆☆)"
      ]
    },
    {
      "cell_type": "code",
      "execution_count": null,
      "id": "df54025a",
      "metadata": {
        "colab": {
          "base_uri": "https://localhost:8080/"
        },
        "id": "df54025a",
        "outputId": "3b60cb99-b2de-4bb5-b721-904561975d0d"
      },
      "outputs": [
        {
          "output_type": "execute_result",
          "data": {
            "text/plain": [
              "array([0., 0., 0., 0., 0., 0., 0., 0., 0., 0.])"
            ]
          },
          "metadata": {},
          "execution_count": 3
        }
      ],
      "source": [
        "np.zeros(10)\n"
      ]
    },
    {
      "cell_type": "markdown",
      "id": "95ee9e07",
      "metadata": {
        "id": "95ee9e07"
      },
      "source": [
        "#### 4. How to find the memory size of any array (★☆☆)"
      ]
    },
    {
      "cell_type": "code",
      "execution_count": null,
      "id": "5c5b0950",
      "metadata": {
        "colab": {
          "base_uri": "https://localhost:8080/"
        },
        "id": "5c5b0950",
        "outputId": "d005e8e4-7188-4c4f-ed4a-95318360f8a7"
      },
      "outputs": [
        {
          "output_type": "stream",
          "name": "stdout",
          "text": [
            "80 bytes\n",
            "80\n"
          ]
        }
      ],
      "source": [
        "Z = np.zeros(10)\n",
        "print(f\"{Z.size * Z.itemsize} bytes\")  # OR\n",
        "print(Z.nbytes)\n"
      ]
    },
    {
      "cell_type": "markdown",
      "id": "45fca154",
      "metadata": {
        "id": "45fca154"
      },
      "source": [
        "#### 5. How to get the documentation of the numpy add function from the command line? (★☆☆)"
      ]
    },
    {
      "cell_type": "code",
      "execution_count": null,
      "id": "fcb1248a",
      "metadata": {
        "colab": {
          "base_uri": "https://localhost:8080/"
        },
        "id": "fcb1248a",
        "outputId": "9a9cc22d-ced3-4c9f-bc0c-ad312cece4ee"
      },
      "outputs": [
        {
          "output_type": "stream",
          "name": "stdout",
          "text": [
            "Help on ufunc:\n",
            "\n",
            "add = <ufunc 'add'>\n",
            "    add(x1, x2, /, out=None, *, where=True, casting='same_kind', order='K', dtype=None, subok=True[, signature])\n",
            "    \n",
            "    Add arguments element-wise.\n",
            "    \n",
            "    Parameters\n",
            "    ----------\n",
            "    x1, x2 : array_like\n",
            "        The arrays to be added.\n",
            "        If ``x1.shape != x2.shape``, they must be broadcastable to a common\n",
            "        shape (which becomes the shape of the output).\n",
            "    out : ndarray, None, or tuple of ndarray and None, optional\n",
            "        A location into which the result is stored. If provided, it must have\n",
            "        a shape that the inputs broadcast to. If not provided or None,\n",
            "        a freshly-allocated array is returned. A tuple (possible only as a\n",
            "        keyword argument) must have length equal to the number of outputs.\n",
            "    where : array_like, optional\n",
            "        This condition is broadcast over the input. At locations where the\n",
            "        condition is True, the `out` array will be set to the ufunc result.\n",
            "        Elsewhere, the `out` array will retain its original value.\n",
            "        Note that if an uninitialized `out` array is created via the default\n",
            "        ``out=None``, locations within it where the condition is False will\n",
            "        remain uninitialized.\n",
            "    **kwargs\n",
            "        For other keyword-only arguments, see the\n",
            "        :ref:`ufunc docs <ufuncs.kwargs>`.\n",
            "    \n",
            "    Returns\n",
            "    -------\n",
            "    add : ndarray or scalar\n",
            "        The sum of `x1` and `x2`, element-wise.\n",
            "        This is a scalar if both `x1` and `x2` are scalars.\n",
            "    \n",
            "    Notes\n",
            "    -----\n",
            "    Equivalent to `x1` + `x2` in terms of array broadcasting.\n",
            "    \n",
            "    Examples\n",
            "    --------\n",
            "    >>> np.add(1.0, 4.0)\n",
            "    5.0\n",
            "    >>> x1 = np.arange(9.0).reshape((3, 3))\n",
            "    >>> x2 = np.arange(3.0)\n",
            "    >>> np.add(x1, x2)\n",
            "    array([[  0.,   2.,   4.],\n",
            "           [  3.,   5.,   7.],\n",
            "           [  6.,   8.,  10.]])\n",
            "    \n",
            "    The ``+`` operator can be used as a shorthand for ``np.add`` on ndarrays.\n",
            "    \n",
            "    >>> x1 = np.arange(9.0).reshape((3, 3))\n",
            "    >>> x2 = np.arange(3.0)\n",
            "    >>> x1 + x2\n",
            "    array([[ 0.,  2.,  4.],\n",
            "           [ 3.,  5.,  7.],\n",
            "           [ 6.,  8., 10.]])\n",
            "\n"
          ]
        }
      ],
      "source": [
        "help(np.add)\n"
      ]
    },
    {
      "cell_type": "markdown",
      "id": "674e8019",
      "metadata": {
        "id": "674e8019"
      },
      "source": [
        "#### 6. Create a null vector of size 10 but the fifth value which is 1 (★☆☆)"
      ]
    },
    {
      "cell_type": "code",
      "execution_count": null,
      "id": "452df2a7",
      "metadata": {
        "colab": {
          "base_uri": "https://localhost:8080/"
        },
        "id": "452df2a7",
        "outputId": "fe3fd354-5d92-4f2d-cec7-b23b91e19ebe"
      },
      "outputs": [
        {
          "output_type": "stream",
          "name": "stdout",
          "text": [
            "[0. 0. 0. 0. 1. 0. 0. 0. 0. 0.]\n"
          ]
        }
      ],
      "source": [
        "Z = np.zeros(10)\n",
        "Z[4] = 1\n",
        "print(Z)\n"
      ]
    },
    {
      "cell_type": "markdown",
      "id": "7685e337",
      "metadata": {
        "id": "7685e337"
      },
      "source": [
        "#### 7. Create a vector with values ranging from 10 to 49 (★☆☆)"
      ]
    },
    {
      "cell_type": "code",
      "execution_count": null,
      "id": "10847d11",
      "metadata": {
        "colab": {
          "base_uri": "https://localhost:8080/"
        },
        "id": "10847d11",
        "outputId": "9051ba3d-5bba-4f28-e732-0427a42c7795"
      },
      "outputs": [
        {
          "output_type": "execute_result",
          "data": {
            "text/plain": [
              "array([10, 11, 12, 13, 14, 15, 16, 17, 18, 19, 20, 21, 22, 23, 24, 25, 26,\n",
              "       27, 28, 29, 30, 31, 32, 33, 34, 35, 36, 37, 38, 39, 40, 41, 42, 43,\n",
              "       44, 45, 46, 47, 48, 49])"
            ]
          },
          "metadata": {},
          "execution_count": 7
        }
      ],
      "source": [
        "np.arange(10, 50)\n"
      ]
    },
    {
      "cell_type": "markdown",
      "id": "54c913ba",
      "metadata": {
        "id": "54c913ba"
      },
      "source": [
        "#### 8. Reverse a vector (first element becomes last) (★☆☆)"
      ]
    },
    {
      "cell_type": "code",
      "execution_count": null,
      "id": "34722e83",
      "metadata": {
        "colab": {
          "base_uri": "https://localhost:8080/"
        },
        "id": "34722e83",
        "outputId": "c97c5f51-d604-4858-dcd4-35fe1ef0b941"
      },
      "outputs": [
        {
          "output_type": "stream",
          "name": "stdout",
          "text": [
            "[9 8 7 6 5 4 3 2 1 0]\n"
          ]
        }
      ],
      "source": [
        "Z = np.arange(10)\n",
        "Z = Z[::-1]\n",
        "print(Z)\n"
      ]
    },
    {
      "cell_type": "markdown",
      "id": "8e72fd08",
      "metadata": {
        "id": "8e72fd08"
      },
      "source": [
        "#### 9. Create a 3x3 matrix with values ranging from 0 to 8 (★☆☆)"
      ]
    },
    {
      "cell_type": "code",
      "execution_count": null,
      "id": "e18eef56",
      "metadata": {
        "colab": {
          "base_uri": "https://localhost:8080/"
        },
        "id": "e18eef56",
        "outputId": "2438d144-49dd-4924-b1fd-a6670fddbc4c"
      },
      "outputs": [
        {
          "output_type": "execute_result",
          "data": {
            "text/plain": [
              "array([[0, 1, 2],\n",
              "       [3, 4, 5],\n",
              "       [6, 7, 8]])"
            ]
          },
          "metadata": {},
          "execution_count": 9
        }
      ],
      "source": [
        "np.arange(9).reshape(3, 3)\n"
      ]
    },
    {
      "cell_type": "markdown",
      "id": "088424fc",
      "metadata": {
        "id": "088424fc"
      },
      "source": [
        "#### 10. Find indices of non-zero elements from [1,2,0,0,4,0] (★☆☆)"
      ]
    },
    {
      "cell_type": "code",
      "execution_count": null,
      "id": "9a402d06",
      "metadata": {
        "colab": {
          "base_uri": "https://localhost:8080/"
        },
        "id": "9a402d06",
        "outputId": "99adbe4a-d66b-4833-fb2c-4f41f62ccc07"
      },
      "outputs": [
        {
          "output_type": "stream",
          "name": "stdout",
          "text": [
            "(array([0, 1, 4]),)\n"
          ]
        }
      ],
      "source": [
        "Z = np.array([1, 2, 0, 0, 4, 0])\n",
        "non_zero_indices = np.nonzero(Z)\n",
        "print(non_zero_indices)\n"
      ]
    },
    {
      "cell_type": "markdown",
      "id": "3f347de9",
      "metadata": {
        "id": "3f347de9"
      },
      "source": [
        "#### 11. Create a 3x3 identity matrix (★☆☆)"
      ]
    },
    {
      "cell_type": "code",
      "execution_count": null,
      "id": "e38459c2",
      "metadata": {
        "colab": {
          "base_uri": "https://localhost:8080/"
        },
        "id": "e38459c2",
        "outputId": "a8be9d14-5dfc-46a3-8c81-4f27c8e057d5"
      },
      "outputs": [
        {
          "output_type": "execute_result",
          "data": {
            "text/plain": [
              "array([[1., 0., 0.],\n",
              "       [0., 1., 0.],\n",
              "       [0., 0., 1.]])"
            ]
          },
          "metadata": {},
          "execution_count": 10
        }
      ],
      "source": [
        "np.eye(3)\n",
        "\n"
      ]
    },
    {
      "cell_type": "markdown",
      "id": "24e98f25",
      "metadata": {
        "id": "24e98f25"
      },
      "source": [
        "#### 12. Create a 3x3x3 array with random values (★☆☆)"
      ]
    },
    {
      "cell_type": "code",
      "execution_count": null,
      "id": "94752bb3",
      "metadata": {
        "colab": {
          "base_uri": "https://localhost:8080/"
        },
        "id": "94752bb3",
        "outputId": "949245fc-c48a-4610-b561-9f4da268d5bf"
      },
      "outputs": [
        {
          "output_type": "stream",
          "name": "stdout",
          "text": [
            "[[[0.10198451 0.04882717 0.44472218]\n",
            "  [0.13585317 0.02384661 0.05310612]\n",
            "  [0.98132066 0.30950195 0.49819508]]\n",
            "\n",
            " [[0.5000703  0.65968304 0.79322339]\n",
            "  [0.55287576 0.97453089 0.54437685]\n",
            "  [0.56144189 0.61437533 0.35906581]]\n",
            "\n",
            " [[0.83728685 0.33077622 0.34004856]\n",
            "  [0.10076615 0.32613161 0.85181285]\n",
            "  [0.62002737 0.10152127 0.19841994]]]\n"
          ]
        }
      ],
      "source": [
        "Z = np.random.random((3, 3, 3))\n",
        "print(Z)\n"
      ]
    },
    {
      "cell_type": "markdown",
      "id": "7cbca2cc",
      "metadata": {
        "id": "7cbca2cc"
      },
      "source": [
        "#### 13. Create a 10x10 array with random values and find the minimum and maximum values (★☆☆)"
      ]
    },
    {
      "cell_type": "code",
      "execution_count": null,
      "id": "c0643b1f",
      "metadata": {
        "colab": {
          "base_uri": "https://localhost:8080/"
        },
        "id": "c0643b1f",
        "outputId": "cfe2b6f3-b776-44cc-f711-f279c76687aa"
      },
      "outputs": [
        {
          "output_type": "stream",
          "name": "stdout",
          "text": [
            "Min: 0.003226460721141633\n",
            "Max: 0.9976640082164198\n"
          ]
        }
      ],
      "source": [
        "Z = np.random.random((10, 10))\n",
        "Z_min = Z.min()\n",
        "Z_max = Z.max()\n",
        "\n",
        "print(\"Min:\", Z_min)\n",
        "print(\"Max:\", Z_max)\n"
      ]
    },
    {
      "cell_type": "markdown",
      "id": "6cab4cbb",
      "metadata": {
        "id": "6cab4cbb"
      },
      "source": [
        "#### 14. Create a random vector of size 30 and find the mean value (★☆☆)"
      ]
    },
    {
      "cell_type": "code",
      "execution_count": null,
      "id": "e922a524",
      "metadata": {
        "colab": {
          "base_uri": "https://localhost:8080/"
        },
        "id": "e922a524",
        "outputId": "fecf881b-eae7-42fb-868b-9ed66d9942ae"
      },
      "outputs": [
        {
          "output_type": "stream",
          "name": "stdout",
          "text": [
            "Mean: 0.4816498133015365\n"
          ]
        }
      ],
      "source": [
        "Z = np.random.random(30)\n",
        "mean_val = Z.mean()\n",
        "\n",
        "print(\"Mean:\", mean_val)\n"
      ]
    },
    {
      "cell_type": "markdown",
      "id": "72053be8",
      "metadata": {
        "id": "72053be8"
      },
      "source": [
        "#### 15. Create a 2d array with 1 on the border and 0 inside (★☆☆)"
      ]
    },
    {
      "cell_type": "code",
      "execution_count": null,
      "id": "6bc84dfe",
      "metadata": {
        "colab": {
          "base_uri": "https://localhost:8080/"
        },
        "id": "6bc84dfe",
        "outputId": "a0812884-5aab-4764-8dc8-e44a9db45fcd"
      },
      "outputs": [
        {
          "output_type": "stream",
          "name": "stdout",
          "text": [
            "[[1. 1. 1. 1. 1.]\n",
            " [1. 0. 0. 0. 1.]\n",
            " [1. 0. 0. 0. 1.]\n",
            " [1. 0. 0. 0. 1.]\n",
            " [1. 1. 1. 1. 1.]]\n"
          ]
        }
      ],
      "source": [
        "Z = np.ones((5, 5))\n",
        "Z[1:-1, 1:-1] = 0\n",
        "print(Z)\n"
      ]
    },
    {
      "cell_type": "markdown",
      "id": "86b0206b",
      "metadata": {
        "id": "86b0206b"
      },
      "source": [
        "#### 16. How to add a border (filled with 0's) around an existing array? (★☆☆)"
      ]
    },
    {
      "cell_type": "code",
      "execution_count": null,
      "id": "41e66e3e",
      "metadata": {
        "colab": {
          "base_uri": "https://localhost:8080/"
        },
        "id": "41e66e3e",
        "outputId": "dbf8bbed-1cb9-4037-a5e7-affa0362bd0c"
      },
      "outputs": [
        {
          "output_type": "stream",
          "name": "stdout",
          "text": [
            "[[0. 0. 0. 0. 0. 0. 0.]\n",
            " [0. 1. 1. 1. 1. 1. 0.]\n",
            " [0. 1. 1. 1. 1. 1. 0.]\n",
            " [0. 1. 1. 1. 1. 1. 0.]\n",
            " [0. 1. 1. 1. 1. 1. 0.]\n",
            " [0. 1. 1. 1. 1. 1. 0.]\n",
            " [0. 0. 0. 0. 0. 0. 0.]]\n"
          ]
        }
      ],
      "source": [
        "Z = np.ones((5, 5))\n",
        "Z_padded = np.pad(Z, pad_width=1, mode='constant', constant_values=0)\n",
        "print(Z_padded)\n"
      ]
    },
    {
      "cell_type": "markdown",
      "id": "98a45574",
      "metadata": {
        "id": "98a45574"
      },
      "source": [
        "#### 17. What is the result of the following expression? (★☆☆)\n",
        "```python\n",
        "0 * np.nan\n",
        "np.nan == np.nan\n",
        "np.inf > np.nan\n",
        "np.nan - np.nan\n",
        "np.nan in set([np.nan])\n",
        "0.3 == 3 * 0.1\n",
        "```"
      ]
    },
    {
      "cell_type": "code",
      "execution_count": null,
      "id": "7eb533d5",
      "metadata": {
        "colab": {
          "base_uri": "https://localhost:8080/"
        },
        "id": "7eb533d5",
        "outputId": "1b479873-303e-414f-b673-53b041a022c8"
      },
      "outputs": [
        {
          "output_type": "execute_result",
          "data": {
            "text/plain": [
              "False"
            ]
          },
          "metadata": {},
          "execution_count": 17
        }
      ],
      "source": [
        "0 * np.nan\n",
        "np.nan == np.nan\n",
        "np.inf > np.nan\n",
        "np.nan - np.nan\n",
        "np.nan in set([np.nan])\n",
        "0.3 == 3 * 0.1"
      ]
    },
    {
      "cell_type": "markdown",
      "id": "1486619a",
      "metadata": {
        "id": "1486619a"
      },
      "source": [
        "#### 18. Create a 5x5 matrix with values 1,2,3,4 just below the diagonal (★☆☆)"
      ]
    },
    {
      "cell_type": "code",
      "execution_count": null,
      "id": "2b9fb59c",
      "metadata": {
        "colab": {
          "base_uri": "https://localhost:8080/"
        },
        "id": "2b9fb59c",
        "outputId": "a118310c-0745-450e-f5d3-a7984df5f697"
      },
      "outputs": [
        {
          "output_type": "stream",
          "name": "stdout",
          "text": [
            "[[0 0 0 0 0]\n",
            " [1 0 0 0 0]\n",
            " [0 2 0 0 0]\n",
            " [0 0 3 0 0]\n",
            " [0 0 0 4 0]]\n"
          ]
        }
      ],
      "source": [
        "Z = np.diag([1, 2, 3, 4], k=-1)\n",
        "print(Z)\n"
      ]
    },
    {
      "cell_type": "markdown",
      "id": "319287fd",
      "metadata": {
        "id": "319287fd"
      },
      "source": [
        "#### 19. Create a 8x8 matrix and fill it with a checkerboard pattern (★☆☆)"
      ]
    },
    {
      "cell_type": "code",
      "execution_count": null,
      "id": "299f5e60",
      "metadata": {
        "colab": {
          "base_uri": "https://localhost:8080/"
        },
        "id": "299f5e60",
        "outputId": "23a4983d-fef8-49f2-d037-71eacbb65d8b"
      },
      "outputs": [
        {
          "output_type": "stream",
          "name": "stdout",
          "text": [
            "[[0 1 0 1 0 1 0 1]\n",
            " [1 0 1 0 1 0 1 0]\n",
            " [0 1 0 1 0 1 0 1]\n",
            " [1 0 1 0 1 0 1 0]\n",
            " [0 1 0 1 0 1 0 1]\n",
            " [1 0 1 0 1 0 1 0]\n",
            " [0 1 0 1 0 1 0 1]\n",
            " [1 0 1 0 1 0 1 0]]\n"
          ]
        }
      ],
      "source": [
        "Z = np.zeros((8, 8), dtype=int)\n",
        "Z[1::2, ::2] = 1\n",
        "Z[::2, 1::2] = 1\n",
        "print(Z)\n"
      ]
    },
    {
      "cell_type": "markdown",
      "id": "fb1686ed",
      "metadata": {
        "id": "fb1686ed"
      },
      "source": [
        "#### 20. Consider a (6,7,8) shape array, what is the index (x,y,z) of the 100th element? (★☆☆)"
      ]
    },
    {
      "cell_type": "code",
      "execution_count": null,
      "id": "22888cc4",
      "metadata": {
        "colab": {
          "base_uri": "https://localhost:8080/"
        },
        "id": "22888cc4",
        "outputId": "4db98b49-bd57-401a-e76e-2ac333acb050"
      },
      "outputs": [
        {
          "output_type": "stream",
          "name": "stdout",
          "text": [
            "(np.int64(1), np.int64(5), np.int64(4))\n"
          ]
        }
      ],
      "source": [
        "Z = np.zeros((6, 7, 8))\n",
        "index = np.unravel_index(100, Z.shape)\n",
        "print(index)"
      ]
    },
    {
      "cell_type": "markdown",
      "id": "137ea278",
      "metadata": {
        "id": "137ea278"
      },
      "source": [
        "#### 21. Create a checkerboard 8x8 matrix using the tile function (★☆☆)"
      ]
    },
    {
      "cell_type": "code",
      "execution_count": null,
      "id": "9cb81fe1",
      "metadata": {
        "colab": {
          "base_uri": "https://localhost:8080/"
        },
        "id": "9cb81fe1",
        "outputId": "9a190bc5-2c58-4598-855e-88477760a41d"
      },
      "outputs": [
        {
          "output_type": "stream",
          "name": "stdout",
          "text": [
            "[[0 1 0 1 0 1 0 1]\n",
            " [1 0 1 0 1 0 1 0]\n",
            " [0 1 0 1 0 1 0 1]\n",
            " [1 0 1 0 1 0 1 0]\n",
            " [0 1 0 1 0 1 0 1]\n",
            " [1 0 1 0 1 0 1 0]\n",
            " [0 1 0 1 0 1 0 1]\n",
            " [1 0 1 0 1 0 1 0]]\n"
          ]
        }
      ],
      "source": [
        "Z = np.tile(np.array([[0, 1], [1, 0]]), (4, 4))\n",
        "print(Z)\n"
      ]
    },
    {
      "cell_type": "markdown",
      "id": "9319f5a1",
      "metadata": {
        "id": "9319f5a1"
      },
      "source": [
        "#### 22. Normalize a 5x5 random matrix (★☆☆)"
      ]
    },
    {
      "cell_type": "code",
      "execution_count": null,
      "id": "fcdc0459",
      "metadata": {
        "colab": {
          "base_uri": "https://localhost:8080/"
        },
        "id": "fcdc0459",
        "outputId": "16e58e77-d12c-4260-d0dc-a582d3d8a88a"
      },
      "outputs": [
        {
          "output_type": "stream",
          "name": "stdout",
          "text": [
            "[[0.16659986 0.07150068 0.91294057 0.57419552 0.13024492]\n",
            " [0.13047553 0.03933076 0.55253921 0.65592622 1.        ]\n",
            " [0.90926339 0.05705533 0.45346827 0.7118985  0.47774886]\n",
            " [0.05476247 0.61936524 0.23763125 0.35400784 0.        ]\n",
            " [0.88921394 0.86778368 0.69069832 0.28637003 0.5382258 ]]\n"
          ]
        }
      ],
      "source": [
        "Z = np.random.random((5, 5))\n",
        "Z_normalized = (Z - Z.min()) / (Z.max() - Z.min())\n",
        "print(Z_normalized)\n"
      ]
    },
    {
      "cell_type": "markdown",
      "id": "f1902fef",
      "metadata": {
        "id": "f1902fef"
      },
      "source": [
        "#### 23. Create a custom dtype that describes a color as four unsigned bytes (RGBA) (★☆☆)"
      ]
    },
    {
      "cell_type": "code",
      "execution_count": null,
      "id": "7445cb2d",
      "metadata": {
        "colab": {
          "base_uri": "https://localhost:8080/"
        },
        "id": "7445cb2d",
        "outputId": "12922bfa-ff5d-4d8d-b3c1-0252026a4171"
      },
      "outputs": [
        {
          "output_type": "stream",
          "name": "stdout",
          "text": [
            "[(255, 0, 0, 255)]\n"
          ]
        }
      ],
      "source": [
        "color_dtype = np.dtype([('r', np.uint8), ('g', np.uint8), ('b', np.uint8), ('a', np.uint8)])\n",
        "color = np.array([(255, 0, 0, 255)], dtype=color_dtype)\n",
        "print(color)\n"
      ]
    },
    {
      "cell_type": "markdown",
      "id": "3f34bd2a",
      "metadata": {
        "id": "3f34bd2a"
      },
      "source": [
        "#### 24. Multiply a 5x3 matrix by a 3x2 matrix (real matrix product) (★☆☆)"
      ]
    },
    {
      "cell_type": "code",
      "execution_count": null,
      "id": "ec8bd6da",
      "metadata": {
        "colab": {
          "base_uri": "https://localhost:8080/"
        },
        "id": "ec8bd6da",
        "outputId": "ad71705b-f7c6-408c-994e-879c6fb9e535"
      },
      "outputs": [
        {
          "output_type": "stream",
          "name": "stdout",
          "text": [
            "[[1.36646287 0.93828129]\n",
            " [0.58080594 0.31986146]\n",
            " [0.79615801 0.4772681 ]\n",
            " [0.94038137 0.60972977]\n",
            " [0.79516785 0.6610044 ]]\n"
          ]
        }
      ],
      "source": [
        "A = np.random.random((5, 3))\n",
        "B = np.random.random((3, 2))\n",
        "C = np.dot(A, B)  # Real matrix product\n",
        "print(C)\n",
        "\n"
      ]
    },
    {
      "cell_type": "markdown",
      "id": "b1919ba3",
      "metadata": {
        "id": "b1919ba3"
      },
      "source": [
        "#### 25. Given a 1D array, negate all elements which are between 3 and 8, in place. (★☆☆)"
      ]
    },
    {
      "cell_type": "code",
      "execution_count": null,
      "id": "5b63b63b",
      "metadata": {
        "colab": {
          "base_uri": "https://localhost:8080/"
        },
        "id": "5b63b63b",
        "outputId": "f8c4955e-f1db-425a-9a30-ccc1a236b481"
      },
      "outputs": [
        {
          "output_type": "stream",
          "name": "stdout",
          "text": [
            "[ 1 -4 -7  9 -5  3  8]\n"
          ]
        }
      ],
      "source": [
        "Z = np.array([1, 4, 7, 9, 5, 3, 8])\n",
        "Z[(Z > 3) & (Z < 8)] = -Z[(Z > 3) & (Z < 8)]\n",
        "print(Z)\n"
      ]
    },
    {
      "cell_type": "markdown",
      "id": "fb1daa27",
      "metadata": {
        "id": "fb1daa27"
      },
      "source": [
        "#### 26. What is the output of the following script? (★☆☆)\n",
        "```python\n",
        "# Author: Jake VanderPlas\n",
        "\n",
        "print(sum(range(5),-1))\n",
        "from numpy import *\n",
        "print(sum(range(5),-1))\n",
        "```"
      ]
    },
    {
      "cell_type": "code",
      "execution_count": null,
      "id": "52a34d3d",
      "metadata": {
        "colab": {
          "base_uri": "https://localhost:8080/"
        },
        "id": "52a34d3d",
        "outputId": "1bedd0bc-80fe-4fcb-f301-598e8c931183"
      },
      "outputs": [
        {
          "output_type": "stream",
          "name": "stdout",
          "text": [
            "9\n",
            "10\n"
          ]
        }
      ],
      "source": [
        "print(sum(range(5),-1))\n",
        "from numpy import *\n",
        "print(sum(range(5),-1))"
      ]
    },
    {
      "cell_type": "markdown",
      "id": "89b7e7a7",
      "metadata": {
        "id": "89b7e7a7"
      },
      "source": [
        "#### 27. Consider an integer vector Z, which of these expressions are legal? (★☆☆)\n",
        "```python\n",
        "Z**Z\n",
        "2 << Z >> 2\n",
        "Z <- Z\n",
        "1j*Z\n",
        "Z/1/1\n",
        "Z<Z>Z\n",
        "```"
      ]
    },
    {
      "cell_type": "code",
      "execution_count": null,
      "id": "451181cf",
      "metadata": {
        "id": "451181cf"
      },
      "outputs": [],
      "source": []
    },
    {
      "cell_type": "markdown",
      "id": "8c7601c6",
      "metadata": {
        "id": "8c7601c6"
      },
      "source": [
        "#### 28. What are the result of the following expressions? (★☆☆)\n",
        "```python\n",
        "np.array(0) / np.array(0)\n",
        "np.array(0) // np.array(0)\n",
        "np.array([np.nan]).astype(int).astype(float)\n",
        "```"
      ]
    },
    {
      "cell_type": "code",
      "execution_count": null,
      "id": "52983a0b",
      "metadata": {
        "colab": {
          "base_uri": "https://localhost:8080/"
        },
        "id": "52983a0b",
        "outputId": "9f9766b5-37dd-44df-d5dd-5e80c1adbe78"
      },
      "outputs": [
        {
          "output_type": "stream",
          "name": "stderr",
          "text": [
            "<ipython-input-27-cd809174da5d>:1: RuntimeWarning: invalid value encountered in divide\n",
            "  np.array(0) / np.array(0)\n",
            "<ipython-input-27-cd809174da5d>:2: RuntimeWarning: divide by zero encountered in floor_divide\n",
            "  np.array(0) // np.array(0)\n",
            "<ipython-input-27-cd809174da5d>:3: RuntimeWarning: invalid value encountered in cast\n",
            "  np.array([np.nan]).astype(int).astype(float)\n"
          ]
        },
        {
          "output_type": "execute_result",
          "data": {
            "text/plain": [
              "array([-9.22337204e+18])"
            ]
          },
          "metadata": {},
          "execution_count": 27
        }
      ],
      "source": [
        "np.array(0) / np.array(0)\n",
        "np.array(0) // np.array(0)\n",
        "np.array([np.nan]).astype(int).astype(float)"
      ]
    },
    {
      "cell_type": "markdown",
      "id": "06c9164d",
      "metadata": {
        "id": "06c9164d"
      },
      "source": [
        "#### 29. How to round away from zero a float array ? (★☆☆)"
      ]
    },
    {
      "cell_type": "code",
      "execution_count": null,
      "id": "4cce0af8",
      "metadata": {
        "colab": {
          "base_uri": "https://localhost:8080/"
        },
        "id": "4cce0af8",
        "outputId": "ef0634e8-b58d-452d-f3bd-fc3ea8b70ca6"
      },
      "outputs": [
        {
          "output_type": "stream",
          "name": "stdout",
          "text": [
            "[ 2. -2.  4. -4.]\n"
          ]
        }
      ],
      "source": [
        "Z = np.array([1.5, -2.3, 3.7, -4.1])\n",
        "Z_rounded = np.copysign(np.floor(np.abs(Z) + 0.5), Z)\n",
        "print(Z_rounded)\n"
      ]
    },
    {
      "cell_type": "markdown",
      "id": "52235994",
      "metadata": {
        "id": "52235994"
      },
      "source": [
        "#### 30. How to find common values between two arrays? (★☆☆)"
      ]
    },
    {
      "cell_type": "code",
      "execution_count": null,
      "id": "27eff6b1",
      "metadata": {
        "colab": {
          "base_uri": "https://localhost:8080/"
        },
        "id": "27eff6b1",
        "outputId": "1320dca9-9907-4f05-dc55-6ff66e60b609"
      },
      "outputs": [
        {
          "output_type": "stream",
          "name": "stdout",
          "text": [
            "[3 4 5]\n"
          ]
        }
      ],
      "source": [
        "A = np.array([1, 2, 3, 4, 5])\n",
        "B = np.array([3, 4, 5, 6, 7])\n",
        "common_values = np.intersect1d(A, B)\n",
        "print(common_values)\n"
      ]
    },
    {
      "cell_type": "markdown",
      "id": "7e6f7d78",
      "metadata": {
        "id": "7e6f7d78"
      },
      "source": [
        "#### 31. How to ignore all numpy warnings (not recommended)? (★☆☆)"
      ]
    },
    {
      "cell_type": "code",
      "execution_count": null,
      "id": "1bdde6e1",
      "metadata": {
        "colab": {
          "base_uri": "https://localhost:8080/"
        },
        "id": "1bdde6e1",
        "outputId": "d8ee1f34-55df-4176-fa66-869113e841e1"
      },
      "outputs": [
        {
          "output_type": "stream",
          "name": "stdout",
          "text": [
            "[1.                inf 0.33333333]\n"
          ]
        }
      ],
      "source": [
        "import numpy as np\n",
        "\n",
        "np.seterr(all='ignore')\n",
        "\n",
        "Z = np.array([1, 0, 3])\n",
        "result = 1 / Z\n",
        "print(result)\n"
      ]
    },
    {
      "cell_type": "markdown",
      "id": "b001277e",
      "metadata": {
        "id": "b001277e"
      },
      "source": [
        "#### 32. Is the following expressions true? (★☆☆)\n",
        "```python\n",
        "np.sqrt(-1) == np.emath.sqrt(-1)\n",
        "```"
      ]
    },
    {
      "cell_type": "code",
      "execution_count": null,
      "id": "d8673bdf",
      "metadata": {
        "colab": {
          "base_uri": "https://localhost:8080/"
        },
        "id": "d8673bdf",
        "outputId": "4edc95eb-68a9-448e-a9a3-d14c7c3b7f77"
      },
      "outputs": [
        {
          "output_type": "execute_result",
          "data": {
            "text/plain": [
              "np.False_"
            ]
          },
          "metadata": {},
          "execution_count": 31
        }
      ],
      "source": [
        "np.sqrt(-1) == np.emath.sqrt(-1)"
      ]
    },
    {
      "cell_type": "markdown",
      "id": "b9a5ff84",
      "metadata": {
        "id": "b9a5ff84"
      },
      "source": [
        "#### 33. How to get the dates of yesterday, today and tomorrow? (★☆☆)"
      ]
    },
    {
      "cell_type": "code",
      "execution_count": null,
      "id": "f33f9cc2",
      "metadata": {
        "colab": {
          "base_uri": "https://localhost:8080/"
        },
        "id": "f33f9cc2",
        "outputId": "29b2290f-149e-43cb-a15d-f0d4ad04ebab"
      },
      "outputs": [
        {
          "output_type": "stream",
          "name": "stdout",
          "text": [
            "Yesterday: 2025-04-15\n",
            "Today: 2025-04-16\n",
            "Tomorrow: 2025-04-17\n"
          ]
        }
      ],
      "source": [
        "from datetime import datetime, timedelta\n",
        "\n",
        "today = datetime.today()\n",
        "yesterday = today - timedelta(days=1)\n",
        "tomorrow = today + timedelta(days=1)\n",
        "\n",
        "print(\"Yesterday:\", yesterday.date())\n",
        "print(\"Today:\", today.date())\n",
        "print(\"Tomorrow:\", tomorrow.date())\n"
      ]
    },
    {
      "cell_type": "markdown",
      "id": "f8e96e58",
      "metadata": {
        "id": "f8e96e58"
      },
      "source": [
        "#### 34. How to get all the dates corresponding to the month of July 2016? (★★☆)"
      ]
    },
    {
      "cell_type": "code",
      "execution_count": null,
      "id": "3927a8e8",
      "metadata": {
        "colab": {
          "base_uri": "https://localhost:8080/"
        },
        "id": "3927a8e8",
        "outputId": "44ff89d5-484c-4981-be13-e4526e6e6a3e"
      },
      "outputs": [
        {
          "output_type": "stream",
          "name": "stdout",
          "text": [
            "[datetime.date(2016, 7, 1) datetime.date(2016, 7, 2)\n",
            " datetime.date(2016, 7, 3) datetime.date(2016, 7, 4)\n",
            " datetime.date(2016, 7, 5) datetime.date(2016, 7, 6)\n",
            " datetime.date(2016, 7, 7) datetime.date(2016, 7, 8)\n",
            " datetime.date(2016, 7, 9) datetime.date(2016, 7, 10)\n",
            " datetime.date(2016, 7, 11) datetime.date(2016, 7, 12)\n",
            " datetime.date(2016, 7, 13) datetime.date(2016, 7, 14)\n",
            " datetime.date(2016, 7, 15) datetime.date(2016, 7, 16)\n",
            " datetime.date(2016, 7, 17) datetime.date(2016, 7, 18)\n",
            " datetime.date(2016, 7, 19) datetime.date(2016, 7, 20)\n",
            " datetime.date(2016, 7, 21) datetime.date(2016, 7, 22)\n",
            " datetime.date(2016, 7, 23) datetime.date(2016, 7, 24)\n",
            " datetime.date(2016, 7, 25) datetime.date(2016, 7, 26)\n",
            " datetime.date(2016, 7, 27) datetime.date(2016, 7, 28)\n",
            " datetime.date(2016, 7, 29) datetime.date(2016, 7, 30)\n",
            " datetime.date(2016, 7, 31)]\n"
          ]
        }
      ],
      "source": [
        "import pandas as pd\n",
        "\n",
        "dates = pd.date_range(start='2016-07-01', end='2016-07-31')\n",
        "\n",
        "print(dates.date)\n"
      ]
    },
    {
      "cell_type": "markdown",
      "id": "557c163e",
      "metadata": {
        "id": "557c163e"
      },
      "source": [
        "#### 35. How to compute ((A+B)*(-A/2)) in place (without copy)? (★★☆)"
      ]
    },
    {
      "cell_type": "code",
      "execution_count": null,
      "id": "3c2f59ac",
      "metadata": {
        "colab": {
          "base_uri": "https://localhost:8080/"
        },
        "id": "3c2f59ac",
        "outputId": "709c105f-3b88-46c2-8ac3-c1b0af32bc09"
      },
      "outputs": [
        {
          "output_type": "stream",
          "name": "stdout",
          "text": [
            "[-12.5 -24.5 -40.5]\n"
          ]
        }
      ],
      "source": [
        "import numpy as np\n",
        "\n",
        "A = np.array([1, 2, 3])\n",
        "B = np.array([4, 5, 6])\n",
        "\n",
        "A = A + B\n",
        "A = A * (-A / 2)\n",
        "print(A)\n"
      ]
    },
    {
      "cell_type": "markdown",
      "id": "14c05852",
      "metadata": {
        "id": "14c05852"
      },
      "source": [
        "#### 36. Extract the integer part of a random array of positive numbers using 4 different methods (★★☆)"
      ]
    },
    {
      "cell_type": "code",
      "execution_count": null,
      "id": "8b7d2937",
      "metadata": {
        "colab": {
          "base_uri": "https://localhost:8080/"
        },
        "id": "8b7d2937",
        "outputId": "8191ca90-7ae8-4f39-98f5-28b17c04ae31"
      },
      "outputs": [
        {
          "output_type": "stream",
          "name": "stdout",
          "text": [
            "Original Array: [9.61021632 3.14439798 5.05919462 6.52574291 9.13825399]\n",
            "Method 1 (np.floor): [9. 3. 5. 6. 9.]\n",
            "Method 2 (astype(int)): [9 3 5 6 9]\n",
            "Method 3 (np.trunc): [9. 3. 5. 6. 9.]\n",
            "Method 4 (//): [9. 3. 5. 6. 9.]\n"
          ]
        }
      ],
      "source": [
        "import numpy as np\n",
        "\n",
        "Z = np.random.random(5) * 10\n",
        "\n",
        "method1 = np.floor(Z)\n",
        "method2 = Z.astype(int)\n",
        "method3 = np.trunc(Z)\n",
        "method4 = Z // 1\n",
        "\n",
        "print(\"Original Array:\", Z)\n",
        "print(\"Method 1 (np.floor):\", method1)\n",
        "print(\"Method 2 (astype(int)):\", method2)\n",
        "print(\"Method 3 (np.trunc):\", method3)\n",
        "print(\"Method 4 (//):\", method4)\n"
      ]
    },
    {
      "cell_type": "markdown",
      "id": "003b8721",
      "metadata": {
        "id": "003b8721"
      },
      "source": [
        "#### 37. Create a 5x5 matrix with row values ranging from 0 to 4 (★★☆)"
      ]
    },
    {
      "cell_type": "code",
      "execution_count": null,
      "id": "63c75db0",
      "metadata": {
        "colab": {
          "base_uri": "https://localhost:8080/"
        },
        "id": "63c75db0",
        "outputId": "29fcb287-01ff-4de1-f36c-3b70e6ad0083"
      },
      "outputs": [
        {
          "output_type": "stream",
          "name": "stdout",
          "text": [
            "[[0 1 2 3 4]\n",
            " [0 1 2 3 4]\n",
            " [0 1 2 3 4]\n",
            " [0 1 2 3 4]\n",
            " [0 1 2 3 4]]\n"
          ]
        }
      ],
      "source": [
        "Z = np.tile(np.arange(5), (5, 1))\n",
        "print(Z)\n"
      ]
    },
    {
      "cell_type": "markdown",
      "id": "8e71dc21",
      "metadata": {
        "id": "8e71dc21"
      },
      "source": [
        "#### 38. Consider a generator function that generates 10 integers and use it to build an array (★☆☆)"
      ]
    },
    {
      "cell_type": "code",
      "execution_count": null,
      "id": "f6aefd94",
      "metadata": {
        "colab": {
          "base_uri": "https://localhost:8080/"
        },
        "id": "f6aefd94",
        "outputId": "5a3a9bda-7a5a-432e-ca7c-6e9dff6dfa02"
      },
      "outputs": [
        {
          "output_type": "stream",
          "name": "stdout",
          "text": [
            "[0 1 2 3 4 5 6 7 8 9]\n"
          ]
        }
      ],
      "source": [
        "import numpy as np\n",
        "\n",
        "def generate_integers():\n",
        "    for i in range(10):\n",
        "        yield i\n",
        "\n",
        "gen = generate_integers()\n",
        "array = np.array(list(gen))\n",
        "print(array)\n"
      ]
    },
    {
      "cell_type": "markdown",
      "id": "b7f03449",
      "metadata": {
        "id": "b7f03449"
      },
      "source": [
        "#### 39. Create a vector of size 10 with values ranging from 0 to 1, both excluded (★★☆)"
      ]
    },
    {
      "cell_type": "code",
      "execution_count": null,
      "id": "a27cd904",
      "metadata": {
        "colab": {
          "base_uri": "https://localhost:8080/"
        },
        "id": "a27cd904",
        "outputId": "d0d52e9c-4383-456f-f5a5-a9ed97433914"
      },
      "outputs": [
        {
          "output_type": "stream",
          "name": "stdout",
          "text": [
            "[0.09090909 0.18181818 0.27272727 0.36363636 0.45454545 0.54545455\n",
            " 0.63636364 0.72727273 0.81818182 0.90909091]\n"
          ]
        }
      ],
      "source": [
        "Z = np.linspace(0, 1, 12)[1:-1]\n",
        "print(Z)\n"
      ]
    },
    {
      "cell_type": "markdown",
      "id": "043156c5",
      "metadata": {
        "id": "043156c5"
      },
      "source": [
        "#### 40. Create a random vector of size 10 and sort it (★★☆)"
      ]
    },
    {
      "cell_type": "code",
      "execution_count": null,
      "id": "6ae5eb58",
      "metadata": {
        "colab": {
          "base_uri": "https://localhost:8080/"
        },
        "id": "6ae5eb58",
        "outputId": "0984f87a-3d67-4c02-b365-ebf862c1d203"
      },
      "outputs": [
        {
          "output_type": "stream",
          "name": "stdout",
          "text": [
            "[0.04852324 0.25664136 0.26109952 0.26548111 0.27107812 0.38161573\n",
            " 0.48590806 0.48699682 0.57463122 0.69462867]\n"
          ]
        }
      ],
      "source": [
        "Z = np.random.random(10)\n",
        "Z_sorted = np.sort(Z)\n",
        "print(Z_sorted)\n"
      ]
    },
    {
      "cell_type": "markdown",
      "id": "4f7e8f3f",
      "metadata": {
        "id": "4f7e8f3f"
      },
      "source": [
        "#### 41. How to sum a small array faster than np.sum? (★★☆)"
      ]
    },
    {
      "cell_type": "code",
      "execution_count": null,
      "id": "88790af3",
      "metadata": {
        "colab": {
          "base_uri": "https://localhost:8080/"
        },
        "id": "88790af3",
        "outputId": "ad815d1f-db3b-4de9-889d-e2148b96db90"
      },
      "outputs": [
        {
          "output_type": "stream",
          "name": "stdout",
          "text": [
            "15\n"
          ]
        }
      ],
      "source": [
        "import numpy as np\n",
        "\n",
        "Z = np.array([1, 2, 3, 4, 5])\n",
        "\n",
        "sum_result = sum(Z)\n",
        "print(sum_result)\n"
      ]
    },
    {
      "cell_type": "markdown",
      "id": "13d1ca52",
      "metadata": {
        "id": "13d1ca52"
      },
      "source": [
        "#### 42. Consider two random array A and B, check if they are equal (★★☆)"
      ]
    },
    {
      "cell_type": "code",
      "execution_count": null,
      "id": "ca6dd579",
      "metadata": {
        "colab": {
          "base_uri": "https://localhost:8080/"
        },
        "id": "ca6dd579",
        "outputId": "c986a253-6c02-4cf5-8e33-9ffa360726d5"
      },
      "outputs": [
        {
          "output_type": "stream",
          "name": "stdout",
          "text": [
            "False\n"
          ]
        }
      ],
      "source": [
        "import numpy as np\n",
        "\n",
        "A = np.random.random(5)\n",
        "B = np.random.random(5)\n",
        "\n",
        "are_equal = np.array_equal(A, B)\n",
        "print(are_equal)\n"
      ]
    },
    {
      "cell_type": "markdown",
      "id": "cf7cca6d",
      "metadata": {
        "id": "cf7cca6d"
      },
      "source": [
        "#### 43. Make an array immutable (read-only) (★★☆)"
      ]
    },
    {
      "cell_type": "code",
      "execution_count": null,
      "id": "cbbb8917",
      "metadata": {
        "colab": {
          "base_uri": "https://localhost:8080/"
        },
        "id": "cbbb8917",
        "outputId": "92662b16-93be-4a0a-98e1-8b6e8d9c97d9"
      },
      "outputs": [
        {
          "output_type": "stream",
          "name": "stdout",
          "text": [
            "assignment destination is read-only\n"
          ]
        }
      ],
      "source": [
        "import numpy as np\n",
        "\n",
        "A = np.array([1, 2, 3, 4, 5])\n",
        "\n",
        "A.flags.writeable = False\n",
        "\n",
        "try:\n",
        "    A[0] = 10\n",
        "except ValueError as e:\n",
        "    print(e)\n"
      ]
    },
    {
      "cell_type": "markdown",
      "id": "37b0828f",
      "metadata": {
        "id": "37b0828f"
      },
      "source": [
        "#### 44. Consider a random 10x2 matrix representing cartesian coordinates, convert them to polar coordinates (★★☆)"
      ]
    },
    {
      "cell_type": "code",
      "execution_count": null,
      "id": "a89969af",
      "metadata": {
        "colab": {
          "base_uri": "https://localhost:8080/"
        },
        "id": "a89969af",
        "outputId": "9070c630-842c-4084-c38a-a73f444c5608"
      },
      "outputs": [
        {
          "output_type": "stream",
          "name": "stdout",
          "text": [
            "[[7.44186853 0.96756873]\n",
            " [6.83660886 0.10554871]\n",
            " [3.51990638 0.01597924]\n",
            " [2.93523152 0.70035791]\n",
            " [6.57574816 0.77326525]\n",
            " [5.43134515 0.65739371]\n",
            " [9.36412846 0.9264751 ]\n",
            " [9.82548684 0.97303773]\n",
            " [9.55382349 0.78208749]\n",
            " [6.33048547 0.70682674]]\n"
          ]
        }
      ],
      "source": [
        "import numpy as np\n",
        "\n",
        "cartesian = np.random.random((10, 2)) * 10\n",
        "\n",
        "r = np.sqrt(cartesian[:, 0]**2 + cartesian[:, 1]**2)\n",
        "theta = np.arctan2(cartesian[:, 1], cartesian[:, 0])\n",
        "\n",
        "polar = np.column_stack((r, theta))\n",
        "print(polar)\n"
      ]
    },
    {
      "cell_type": "markdown",
      "id": "b7d7dd80",
      "metadata": {
        "id": "b7d7dd80"
      },
      "source": [
        "#### 45. Create random vector of size 10 and replace the maximum value by 0 (★★☆)"
      ]
    },
    {
      "cell_type": "code",
      "execution_count": null,
      "id": "8403a440",
      "metadata": {
        "colab": {
          "base_uri": "https://localhost:8080/"
        },
        "id": "8403a440",
        "outputId": "60c9f2df-2c4c-47a4-de2f-e7ccebbacf92"
      },
      "outputs": [
        {
          "output_type": "stream",
          "name": "stdout",
          "text": [
            "[0.53367908 0.31619352 0.         0.71295909 0.38061116 0.18242886\n",
            " 0.22533658 0.01874768 0.11376907 0.68318942]\n"
          ]
        }
      ],
      "source": [
        "import numpy as np\n",
        "\n",
        "Z = np.random.random(10)\n",
        "\n",
        "Z[Z.argmax()] = 0\n",
        "\n",
        "print(Z)\n"
      ]
    },
    {
      "cell_type": "markdown",
      "id": "b47e5837",
      "metadata": {
        "id": "b47e5837"
      },
      "source": [
        "#### 46. Create a structured array with `x` and `y` coordinates covering the [0,1]x[0,1] area (★★☆)"
      ]
    },
    {
      "cell_type": "code",
      "execution_count": null,
      "id": "42c72e94",
      "metadata": {
        "colab": {
          "base_uri": "https://localhost:8080/"
        },
        "id": "42c72e94",
        "outputId": "6d4074a6-bc2a-4a7c-ca08-7b3fce3c8936"
      },
      "outputs": [
        {
          "output_type": "stream",
          "name": "stdout",
          "text": [
            "[(0.  , 0.  ) (0.25, 0.  ) (0.5 , 0.  ) (0.75, 0.  ) (1.  , 0.  )\n",
            " (0.  , 0.25) (0.25, 0.25) (0.5 , 0.25) (0.75, 0.25) (1.  , 0.25)\n",
            " (0.  , 0.5 ) (0.25, 0.5 ) (0.5 , 0.5 ) (0.75, 0.5 ) (1.  , 0.5 )\n",
            " (0.  , 0.75) (0.25, 0.75) (0.5 , 0.75) (0.75, 0.75) (1.  , 0.75)\n",
            " (0.  , 1.  ) (0.25, 1.  ) (0.5 , 1.  ) (0.75, 1.  ) (1.  , 1.  )]\n"
          ]
        },
        {
          "output_type": "stream",
          "name": "stderr",
          "text": [
            "<ipython-input-47-f1ea3efcea93>:8: DeprecationWarning: numpy.core is deprecated and has been renamed to numpy._core. The numpy._core namespace contains private NumPy internals and its use is discouraged, as NumPy internals can change without warning in any release. In practice, most real-world usage of numpy.core is to access functionality in the public NumPy API. If that is the case, use the public NumPy API. If not, you are using NumPy internals. If you would still like to access an internal attribute, use numpy._core.records.\n",
            "  structured_array = np.core.records.fromarrays([xv.ravel(), yv.ravel()], names='x, y')\n"
          ]
        }
      ],
      "source": [
        "import numpy as np\n",
        "\n",
        "x = np.linspace(0, 1, 5)\n",
        "y = np.linspace(0, 1, 5)\n",
        "\n",
        "xv, yv = np.meshgrid(x, y)\n",
        "\n",
        "structured_array = np.core.records.fromarrays([xv.ravel(), yv.ravel()], names='x, y')\n",
        "print(structured_array)\n"
      ]
    },
    {
      "cell_type": "markdown",
      "id": "8c7946ee",
      "metadata": {
        "id": "8c7946ee"
      },
      "source": [
        "#### 47. Given two arrays, X and Y, construct the Cauchy matrix C (Cij =1/(xi - yj)) (★★☆)"
      ]
    },
    {
      "cell_type": "code",
      "execution_count": null,
      "id": "26b93f06",
      "metadata": {
        "colab": {
          "base_uri": "https://localhost:8080/"
        },
        "id": "26b93f06",
        "outputId": "a088bafb-5dbc-4dc5-bbee-5223010c9da8"
      },
      "outputs": [
        {
          "output_type": "stream",
          "name": "stdout",
          "text": [
            "[[-0.33333333 -0.25       -0.2       ]\n",
            " [-0.5        -0.33333333 -0.25      ]\n",
            " [-1.         -0.5        -0.33333333]]\n"
          ]
        }
      ],
      "source": [
        "import numpy as np\n",
        "\n",
        "X = np.array([1, 2, 3])\n",
        "Y = np.array([4, 5, 6])\n",
        "\n",
        "C = 1 / (X[:, None] - Y)\n",
        "print(C)\n"
      ]
    },
    {
      "cell_type": "markdown",
      "id": "3e898e5f",
      "metadata": {
        "id": "3e898e5f"
      },
      "source": [
        "#### 48. Print the minimum and maximum representable value for each numpy scalar type (★★☆)"
      ]
    },
    {
      "cell_type": "code",
      "execution_count": null,
      "id": "afd1ae18",
      "metadata": {
        "colab": {
          "base_uri": "https://localhost:8080/"
        },
        "id": "afd1ae18",
        "outputId": "fb12ab11-1e7f-459d-d654-4066028caf64"
      },
      "outputs": [
        {
          "output_type": "stream",
          "name": "stdout",
          "text": [
            "<class 'numpy.int8'>: min=-128, max=127\n",
            "<class 'numpy.int16'>: min=-32768, max=32767\n",
            "<class 'numpy.int32'>: min=-2147483648, max=2147483647\n",
            "<class 'numpy.int64'>: min=-9223372036854775808, max=9223372036854775807\n",
            "<class 'numpy.uint8'>: min=0, max=255\n",
            "<class 'numpy.uint16'>: min=0, max=65535\n",
            "<class 'numpy.uint32'>: min=0, max=4294967295\n",
            "<class 'numpy.uint64'>: min=0, max=18446744073709551615\n",
            "<class 'numpy.float16'>: min=-65504.0, max=65504.0\n",
            "<class 'numpy.float32'>: min=-3.4028234663852886e+38, max=3.4028234663852886e+38\n",
            "<class 'numpy.float64'>: min=-1.7976931348623157e+308, max=1.7976931348623157e+308\n"
          ]
        }
      ],
      "source": [
        "import numpy as np\n",
        "\n",
        "for dtype in [np.int8, np.int16, np.int32, np.int64, np.uint8, np.uint16, np.uint32, np.uint64, np.float16, np.float32, np.float64]:\n",
        "    print(f\"{dtype}: min={np.iinfo(dtype).min if np.issubdtype(dtype, np.integer) else np.finfo(dtype).min}, max={np.iinfo(dtype).max if np.issubdtype(dtype, np.integer) else np.finfo(dtype).max}\")\n"
      ]
    },
    {
      "cell_type": "markdown",
      "id": "6fe6133b",
      "metadata": {
        "id": "6fe6133b"
      },
      "source": [
        "#### 49. How to print all the values of an array? (★★☆)"
      ]
    },
    {
      "cell_type": "code",
      "execution_count": null,
      "id": "5764ec92",
      "metadata": {
        "colab": {
          "base_uri": "https://localhost:8080/"
        },
        "id": "5764ec92",
        "outputId": "3faccabd-b78f-4c02-8788-190d9433bf45"
      },
      "outputs": [
        {
          "output_type": "stream",
          "name": "stdout",
          "text": [
            "[0.0774236  0.8740417  0.83381809 0.87224469 0.16373555 0.19449803\n",
            " 0.81520234 0.15061333 0.60143063 0.69880952]\n"
          ]
        }
      ],
      "source": [
        "import numpy as np\n",
        "\n",
        "Z = np.random.random(10)\n",
        "\n",
        "np.set_printoptions(threshold=np.inf)\n",
        "print(Z)\n"
      ]
    },
    {
      "cell_type": "markdown",
      "id": "7ee2dacc",
      "metadata": {
        "id": "7ee2dacc"
      },
      "source": [
        "#### 50. How to find the closest value (to a given scalar) in a vector? (★★☆)"
      ]
    },
    {
      "cell_type": "code",
      "execution_count": null,
      "id": "742518ef",
      "metadata": {
        "colab": {
          "base_uri": "https://localhost:8080/"
        },
        "id": "742518ef",
        "outputId": "6b680432-3ba0-4808-a72e-b42d6e4b4360"
      },
      "outputs": [
        {
          "output_type": "stream",
          "name": "stdout",
          "text": [
            "0.5001327887646265\n"
          ]
        }
      ],
      "source": [
        "import numpy as np\n",
        "\n",
        "Z = np.random.random(10)\n",
        "scalar = 0.5\n",
        "\n",
        "closest_value = Z[np.abs(Z - scalar).argmin()]\n",
        "print(closest_value)\n"
      ]
    },
    {
      "cell_type": "markdown",
      "id": "cfeda6ba",
      "metadata": {
        "id": "cfeda6ba"
      },
      "source": [
        "#### 51. Create a structured array representing a position (x,y) and a color (r,g,b) (★★☆)"
      ]
    },
    {
      "cell_type": "code",
      "execution_count": null,
      "id": "9fcbd031",
      "metadata": {
        "colab": {
          "base_uri": "https://localhost:8080/"
        },
        "id": "9fcbd031",
        "outputId": "f3ad54fa-3395-416f-9438-056157e16749"
      },
      "outputs": [
        {
          "output_type": "stream",
          "name": "stdout",
          "text": [
            "[([1., 2.], [0.5, 0.5, 0.5]) ([3., 4.], [1. , 0. , 0. ])]\n"
          ]
        }
      ],
      "source": [
        "import numpy as np\n",
        "\n",
        "dtype = [('position', '2f'), ('color', '3f')]\n",
        "\n",
        "values = [((1.0, 2.0), (0.5, 0.5, 0.5)),\n",
        "          ((3.0, 4.0), (1.0, 0.0, 0.0))]\n",
        "\n",
        "structured_array = np.array(values, dtype=dtype)\n",
        "print(structured_array)"
      ]
    },
    {
      "cell_type": "markdown",
      "id": "b97e75b5",
      "metadata": {
        "id": "b97e75b5"
      },
      "source": [
        "#### 52. Consider a random vector with shape (100,2) representing coordinates, find point by point distances (★★☆)"
      ]
    },
    {
      "cell_type": "code",
      "execution_count": null,
      "id": "c58a45b6",
      "metadata": {
        "colab": {
          "base_uri": "https://localhost:8080/"
        },
        "id": "c58a45b6",
        "outputId": "d87949ce-9efa-4a2b-fb71-c821b3ffee04"
      },
      "outputs": [
        {
          "output_type": "stream",
          "name": "stdout",
          "text": [
            "[0.50688875 0.47194844 0.79653625 0.77742818 0.89070195 0.47765019\n",
            " 0.56446139 0.28869605 0.55193512 0.57656043 0.84879937 0.9310598\n",
            " 0.30591515 0.15420438 0.52608628 0.51540401 0.30933386 0.46023842\n",
            " 0.54658704 0.19404981 0.67689155 0.30112486 0.59671302 0.35442605\n",
            " 0.65755478 0.60605062 0.69608837 0.52698035 0.40521793 0.71919433\n",
            " 0.2598624  0.08424537 0.86607367 0.69813075 0.75171951 0.83344067\n",
            " 0.48406171 0.73084638 0.29650652 0.19705347 0.18050735 0.74691555\n",
            " 0.47208676 0.34929852 0.85667692 0.39101707 0.73413284 0.43234657\n",
            " 0.51946462 0.26769915 0.19073439 0.77208105 0.73133359 0.8520635\n",
            " 0.28241956 0.571106   0.23274859 0.35109325 0.38569369 0.18648277\n",
            " 0.4555845  0.60146563 0.34871876 0.19972875 0.70716259 0.37843199\n",
            " 1.01128991 0.07511826 0.77225823 0.39608796 0.78682436 0.68548194\n",
            " 0.84955804 0.46871167 0.71244289 0.70902561 0.48148039 0.71022928\n",
            " 0.13924995 0.18152489 0.47701358 0.75400412 0.64941188 0.47523969\n",
            " 0.65035806 0.85047975 0.52765116 0.09084188 0.54469268 0.96541246\n",
            " 0.32891817 0.10641749 0.8395945  0.80883021 0.59723482 0.86297057\n",
            " 0.987651   0.7856619  0.83777777]\n"
          ]
        }
      ],
      "source": [
        "import numpy as np\n",
        "\n",
        "coordinates = np.random.random((100, 2))\n",
        "\n",
        "distances = np.linalg.norm(coordinates[1:] - coordinates[:-1], axis=1)\n",
        "print(distances)\n"
      ]
    },
    {
      "cell_type": "markdown",
      "id": "291e0bb9",
      "metadata": {
        "id": "291e0bb9"
      },
      "source": [
        "#### 53. How to convert a float (32 bits) array into an integer (32 bits) in place?"
      ]
    },
    {
      "cell_type": "code",
      "execution_count": null,
      "id": "2f3e6c00",
      "metadata": {
        "colab": {
          "base_uri": "https://localhost:8080/"
        },
        "id": "2f3e6c00",
        "outputId": "e691c62d-b097-4eae-99f5-a28291b5c741"
      },
      "outputs": [
        {
          "output_type": "stream",
          "name": "stdout",
          "text": [
            "[0 0 0 0 0 0 0 0 0 0]\n"
          ]
        }
      ],
      "source": [
        "import numpy as np\n",
        "\n",
        "Z = np.random.rand(10).astype(np.float32)\n",
        "Z = Z.astype(np.int32, copy=False)\n",
        "print(Z)"
      ]
    },
    {
      "cell_type": "markdown",
      "id": "1e305e92",
      "metadata": {
        "id": "1e305e92"
      },
      "source": [
        "#### 54. How to read the following file? (★★☆)\n",
        "```\n",
        "1, 2, 3, 4, 5\n",
        "6,  ,  , 7, 8\n",
        " ,  , 9,10,11\n",
        "```"
      ]
    },
    {
      "cell_type": "markdown",
      "id": "94a8ad69",
      "metadata": {
        "id": "94a8ad69"
      },
      "source": [
        "#### 55. What is the equivalent of enumerate for numpy arrays? (★★☆)"
      ]
    },
    {
      "cell_type": "code",
      "execution_count": null,
      "id": "ae45249f",
      "metadata": {
        "colab": {
          "base_uri": "https://localhost:8080/"
        },
        "id": "ae45249f",
        "outputId": "5aadfdb6-1a0d-4f6a-daf3-19fac4dcbe24"
      },
      "outputs": [
        {
          "output_type": "stream",
          "name": "stdout",
          "text": [
            "(0,) 10\n",
            "(1,) 20\n",
            "(2,) 30\n"
          ]
        }
      ],
      "source": [
        "import numpy as np\n",
        "\n",
        "arr = np.array([10, 20, 30])\n",
        "\n",
        "for idx, value in np.ndenumerate(arr):\n",
        "    print(idx, value)\n"
      ]
    },
    {
      "cell_type": "markdown",
      "id": "72b340c9",
      "metadata": {
        "id": "72b340c9"
      },
      "source": [
        "#### 56. Generate a generic 2D Gaussian-like array (★★☆)"
      ]
    },
    {
      "cell_type": "code",
      "execution_count": null,
      "id": "a80e5c9b",
      "metadata": {
        "colab": {
          "base_uri": "https://localhost:8080/"
        },
        "id": "a80e5c9b",
        "outputId": "a9ae2f8c-321f-4cdb-beec-453e399e7fd5"
      },
      "outputs": [
        {
          "output_type": "stream",
          "name": "stdout",
          "text": [
            "[[1.52299797e-08 2.18287761e-08 3.10576820e-08 4.38650150e-08\n",
            "  6.15002831e-08 8.55944368e-08 1.18256100e-07 1.62185177e-07\n",
            "  2.20804720e-07 2.98411214e-07 4.00342334e-07 5.33159907e-07\n",
            "  7.04844056e-07 9.24992454e-07 1.20501632e-06 1.55832220e-06\n",
            "  2.00046602e-06 2.54926327e-06 3.22483717e-06 4.04958466e-06\n",
            "  5.04803974e-06 6.24661354e-06 7.67319265e-06 9.35658045e-06\n",
            "  1.13257716e-05 1.36090571e-05 1.62329654e-05 1.92210576e-05\n",
            "  2.25926038e-05 2.63611823e-05 3.05332527e-05 3.51067682e-05\n",
            "  4.00698965e-05 4.53999298e-05 5.10624598e-05 5.70108968e-05\n",
            "  6.31863989e-05 6.95182654e-05 7.59248321e-05 8.23148789e-05\n",
            "  8.85895382e-05 9.46446616e-05 1.00373576e-04 1.05670135e-04\n",
            "  1.10431945e-04 1.14563630e-04 1.17980004e-04 1.20608977e-04\n",
            "  1.22394091e-04 1.23296532e-04 1.23296532e-04 1.22394091e-04\n",
            "  1.20608977e-04 1.17980004e-04 1.14563630e-04 1.10431945e-04\n",
            "  1.05670135e-04 1.00373576e-04 9.46446616e-05 8.85895382e-05\n",
            "  8.23148789e-05 7.59248321e-05 6.95182654e-05 6.31863989e-05\n",
            "  5.70108968e-05 5.10624598e-05 4.53999298e-05 4.00698965e-05\n",
            "  3.51067682e-05 3.05332527e-05 2.63611823e-05 2.25926038e-05\n",
            "  1.92210576e-05 1.62329654e-05 1.36090571e-05 1.13257716e-05\n",
            "  9.35658045e-06 7.67319265e-06 6.24661354e-06 5.04803974e-06\n",
            "  4.04958466e-06 3.22483717e-06 2.54926327e-06 2.00046602e-06\n",
            "  1.55832220e-06 1.20501632e-06 9.24992454e-07 7.04844056e-07\n",
            "  5.33159907e-07 4.00342334e-07 2.98411214e-07 2.20804720e-07\n",
            "  1.62185177e-07 1.18256100e-07 8.55944368e-08 6.15002831e-08\n",
            "  4.38650150e-08 3.10576820e-08 2.18287761e-08 1.52299797e-08]\n",
            " [2.18287761e-08 3.12866777e-08 4.45142541e-08 6.28707069e-08\n",
            "  8.81469270e-08 1.22680518e-07 1.69493721e-07 2.32456246e-07\n",
            "  3.16474276e-07 4.27705861e-07 5.73801366e-07 7.64165708e-07\n",
            "  1.01023661e-06 1.32577020e-06 1.72712190e-06 2.23350701e-06\n",
            "  2.86722147e-06 3.65379983e-06 4.62208420e-06 5.80417561e-06\n",
            "  7.23523808e-06 8.95312607e-06 1.09978088e-05 1.34105694e-05\n",
            "  1.62329654e-05 1.95055454e-05 2.32663322e-05 2.75490953e-05\n",
            "  3.23814542e-05 3.77828701e-05 4.37626018e-05 5.03177152e-05\n",
            "  5.74312518e-05 6.50706646e-05 7.31866373e-05 8.17123940e-05\n",
            "  9.05635976e-05 9.96389147e-05 1.08821298e-04 1.17980004e-04\n",
            "  1.26973327e-04 1.35651995e-04 1.43863115e-04 1.51454550e-04\n",
            "  1.58279541e-04 1.64201390e-04 1.69097998e-04 1.72866045e-04\n",
            "  1.75424608e-04 1.76718055e-04 1.76718055e-04 1.75424608e-04\n",
            "  1.72866045e-04 1.69097998e-04 1.64201390e-04 1.58279541e-04\n",
            "  1.51454550e-04 1.43863115e-04 1.35651995e-04 1.26973327e-04\n",
            "  1.17980004e-04 1.08821298e-04 9.96389147e-05 9.05635976e-05\n",
            "  8.17123940e-05 7.31866373e-05 6.50706646e-05 5.74312518e-05\n",
            "  5.03177152e-05 4.37626018e-05 3.77828701e-05 3.23814542e-05\n",
            "  2.75490953e-05 2.32663322e-05 1.95055454e-05 1.62329654e-05\n",
            "  1.34105694e-05 1.09978088e-05 8.95312607e-06 7.23523808e-06\n",
            "  5.80417561e-06 4.62208420e-06 3.65379983e-06 2.86722147e-06\n",
            "  2.23350701e-06 1.72712190e-06 1.32577020e-06 1.01023661e-06\n",
            "  7.64165708e-07 5.73801366e-07 4.27705861e-07 3.16474276e-07\n",
            "  2.32456246e-07 1.69493721e-07 1.22680518e-07 8.81469270e-08\n",
            "  6.28707069e-08 4.45142541e-08 3.12866777e-08 2.18287761e-08]\n",
            " [3.10576820e-08 4.45142541e-08 6.33342676e-08 8.94515757e-08\n",
            "  1.25414234e-07 1.74548151e-07 2.41153332e-07 3.30735544e-07\n",
            "  4.50275241e-07 6.08534007e-07 8.16396680e-07 1.08724444e-06\n",
            "  1.43735073e-06 1.88628757e-06 2.45732525e-06 3.17780301e-06\n",
            "  4.07944321e-06 5.19857607e-06 6.57623773e-06 8.25810111e-06\n",
            "  1.02941971e-05 1.27383844e-05 1.56475308e-05 1.90803734e-05\n",
            "  2.30960396e-05 2.77522213e-05 3.31030169e-05 3.91964733e-05\n",
            "  4.60718869e-05 5.37569472e-05 6.22648270e-05 7.15913521e-05\n",
            "  8.17123940e-05 9.25816453e-05 1.04128939e-04 1.16259269e-04\n",
            "  1.28852639e-04 1.41764875e-04 1.54829444e-04 1.67860324e-04\n",
            "  1.80655901e-04 1.93003789e-04 2.04686458e-04 2.15487448e-04\n",
            "  2.25197951e-04 2.33623476e-04 2.40590303e-04 2.45951427e-04\n",
            "  2.49591715e-04 2.51432015e-04 2.51432015e-04 2.49591715e-04\n",
            "  2.45951427e-04 2.40590303e-04 2.33623476e-04 2.25197951e-04\n",
            "  2.15487448e-04 2.04686458e-04 1.93003789e-04 1.80655901e-04\n",
            "  1.67860324e-04 1.54829444e-04 1.41764875e-04 1.28852639e-04\n",
            "  1.16259269e-04 1.04128939e-04 9.25816453e-05 8.17123940e-05\n",
            "  7.15913521e-05 6.22648270e-05 5.37569472e-05 4.60718869e-05\n",
            "  3.91964733e-05 3.31030169e-05 2.77522213e-05 2.30960396e-05\n",
            "  1.90803734e-05 1.56475308e-05 1.27383844e-05 1.02941971e-05\n",
            "  8.25810111e-06 6.57623773e-06 5.19857607e-06 4.07944321e-06\n",
            "  3.17780301e-06 2.45732525e-06 1.88628757e-06 1.43735073e-06\n",
            "  1.08724444e-06 8.16396680e-07 6.08534007e-07 4.50275241e-07\n",
            "  3.30735544e-07 2.41153332e-07 1.74548151e-07 1.25414234e-07\n",
            "  8.94515757e-08 6.33342676e-08 4.45142541e-08 3.10576820e-08]\n",
            " [4.38650150e-08 6.28707069e-08 8.94515757e-08 1.26338943e-07\n",
            "  1.77131610e-07 2.46527002e-07 3.40598326e-07 4.67121777e-07\n",
            "  6.35956352e-07 8.59476676e-07 1.15305619e-06 1.53559412e-06\n",
            "  2.03007460e-06 2.66414063e-06 3.47065852e-06 4.48824147e-06\n",
            "  5.76169327e-06 7.34232570e-06 9.28809710e-06 1.16635146e-05\n",
            "  1.45392405e-05 1.79913435e-05 2.21001417e-05 2.69485941e-05\n",
            "  3.26202103e-05 3.91964733e-05 4.67537897e-05 5.53600196e-05\n",
            "  6.50706646e-05 7.59248321e-05 8.79411273e-05 1.01113655e-04\n",
            "  1.15408335e-04 1.30759767e-04 1.47068847e-04 1.64201390e-04\n",
            "  1.81987920e-04 2.00224807e-04 2.18676843e-04 2.37081300e-04\n",
            "  2.55153420e-04 2.72593238e-04 2.89093518e-04 3.04348538e-04\n",
            "  3.18063385e-04 3.29963365e-04 3.39803119e-04 3.47375024e-04\n",
            "  3.52516467e-04 3.55115655e-04 3.55115655e-04 3.52516467e-04\n",
            "  3.47375024e-04 3.39803119e-04 3.29963365e-04 3.18063385e-04\n",
            "  3.04348538e-04 2.89093518e-04 2.72593238e-04 2.55153420e-04\n",
            "  2.37081300e-04 2.18676843e-04 2.00224807e-04 1.81987920e-04\n",
            "  1.64201390e-04 1.47068847e-04 1.30759767e-04 1.15408335e-04\n",
            "  1.01113655e-04 8.79411273e-05 7.59248321e-05 6.50706646e-05\n",
            "  5.53600196e-05 4.67537897e-05 3.91964733e-05 3.26202103e-05\n",
            "  2.69485941e-05 2.21001417e-05 1.79913435e-05 1.45392405e-05\n",
            "  1.16635146e-05 9.28809710e-06 7.34232570e-06 5.76169327e-06\n",
            "  4.48824147e-06 3.47065852e-06 2.66414063e-06 2.03007460e-06\n",
            "  1.53559412e-06 1.15305619e-06 8.59476676e-07 6.35956352e-07\n",
            "  4.67121777e-07 3.40598326e-07 2.46527002e-07 1.77131610e-07\n",
            "  1.26338943e-07 8.94515757e-08 6.28707069e-08 4.38650150e-08]\n",
            " [6.15002831e-08 8.81469270e-08 1.25414234e-07 1.77131610e-07\n",
            "  2.48344705e-07 3.45639468e-07 4.77530750e-07 6.54921047e-07\n",
            "  8.91633019e-07 1.20501632e-06 1.61662506e-06 2.15295659e-06\n",
            "  2.84623550e-06 3.73521822e-06 4.86598447e-06 6.29267131e-06\n",
            "  8.07809522e-06 1.02941971e-05 1.30222365e-05 1.63526549e-05\n",
            "  2.03845231e-05 2.52244919e-05 3.09851706e-05 3.77828701e-05\n",
            "  4.57346743e-05 5.49548246e-05 6.55504461e-05 7.76166811e-05\n",
            "  9.12313446e-05 1.06449267e-04 1.23296532e-04 1.41764875e-04\n",
            "  1.61806517e-04 1.83329760e-04 2.06195660e-04 2.30216084e-04\n",
            "  2.55153420e-04 2.80722173e-04 3.06592572e-04 3.32396263e-04\n",
            "  3.57734007e-04 3.82185241e-04 4.05319210e-04 4.26707281e-04\n",
            "  4.45935975e-04 4.62620162e-04 4.76415842e-04 4.87031917e-04\n",
            "  4.94240399e-04 4.97884551e-04 4.97884551e-04 4.94240399e-04\n",
            "  4.87031917e-04 4.76415842e-04 4.62620162e-04 4.45935975e-04\n",
            "  4.26707281e-04 4.05319210e-04 3.82185241e-04 3.57734007e-04\n",
            "  3.32396263e-04 3.06592572e-04 2.80722173e-04 2.55153420e-04\n",
            "  2.30216084e-04 2.06195660e-04 1.83329760e-04 1.61806517e-04\n",
            "  1.41764875e-04 1.23296532e-04 1.06449267e-04 9.12313446e-05\n",
            "  7.76166811e-05 6.55504461e-05 5.49548246e-05 4.57346743e-05\n",
            "  3.77828701e-05 3.09851706e-05 2.52244919e-05 2.03845231e-05\n",
            "  1.63526549e-05 1.30222365e-05 1.02941971e-05 8.07809522e-06\n",
            "  6.29267131e-06 4.86598447e-06 3.73521822e-06 2.84623550e-06\n",
            "  2.15295659e-06 1.61662506e-06 1.20501632e-06 8.91633019e-07\n",
            "  6.54921047e-07 4.77530750e-07 3.45639468e-07 2.48344705e-07\n",
            "  1.77131610e-07 1.25414234e-07 8.81469270e-08 6.15002831e-08]\n",
            " [8.55944368e-08 1.22680518e-07 1.74548151e-07 2.46527002e-07\n",
            "  3.45639468e-07 4.81051698e-07 6.64614430e-07 9.11501465e-07\n",
            "  1.24095081e-06 1.67710924e-06 2.24997519e-06 2.99642696e-06\n",
            "  3.96131387e-06 5.19857607e-06 6.77234606e-06 8.75797037e-06\n",
            "  1.12428752e-05 1.43271861e-05 1.81239979e-05 2.27591845e-05\n",
            "  2.83706299e-05 3.51067682e-05 4.31243255e-05 5.25851805e-05\n",
            "  6.36522873e-05 7.64846440e-05 9.12313446e-05 1.08024805e-04\n",
            "  1.26973327e-04 1.48153221e-04 1.71600791e-04 1.97304534e-04\n",
            "  2.25197951e-04 2.55153420e-04 2.86977564e-04 3.20408542e-04\n",
            "  3.55115655e-04 3.90701555e-04 4.26707281e-04 4.62620162e-04\n",
            "  4.97884551e-04 5.31915120e-04 5.64112354e-04 5.93879695e-04\n",
            "  6.20641674e-04 6.43862276e-04 6.63062731e-04 6.77837898e-04\n",
            "  6.87870469e-04 6.92942302e-04 6.92942302e-04 6.87870469e-04\n",
            "  6.77837898e-04 6.63062731e-04 6.43862276e-04 6.20641674e-04\n",
            "  5.93879695e-04 5.64112354e-04 5.31915120e-04 4.97884551e-04\n",
            "  4.62620162e-04 4.26707281e-04 3.90701555e-04 3.55115655e-04\n",
            "  3.20408542e-04 2.86977564e-04 2.55153420e-04 2.25197951e-04\n",
            "  1.97304534e-04 1.71600791e-04 1.48153221e-04 1.26973327e-04\n",
            "  1.08024805e-04 9.12313446e-05 7.64846440e-05 6.36522873e-05\n",
            "  5.25851805e-05 4.31243255e-05 3.51067682e-05 2.83706299e-05\n",
            "  2.27591845e-05 1.81239979e-05 1.43271861e-05 1.12428752e-05\n",
            "  8.75797037e-06 6.77234606e-06 5.19857607e-06 3.96131387e-06\n",
            "  2.99642696e-06 2.24997519e-06 1.67710924e-06 1.24095081e-06\n",
            "  9.11501465e-07 6.64614430e-07 4.81051698e-07 3.45639468e-07\n",
            "  2.46527002e-07 1.74548151e-07 1.22680518e-07 8.55944368e-08]\n",
            " [1.18256100e-07 1.69493721e-07 2.41153332e-07 3.40598326e-07\n",
            "  4.77530750e-07 6.64614430e-07 9.18222183e-07 1.25931793e-06\n",
            "  1.71448062e-06 2.31707114e-06 3.10853487e-06 4.13982241e-06\n",
            "  5.47289693e-06 7.18228141e-06 9.35658045e-06 1.20998918e-05\n",
            "  1.55330023e-05 1.97942439e-05 2.50398670e-05 3.14437772e-05\n",
            "  3.91964733e-05 4.85030295e-05 5.95799767e-05 7.26509644e-05\n",
            "  8.79411273e-05 1.05670135e-04 1.26043975e-04 1.49245590e-04\n",
            "  1.75424608e-04 2.04686458e-04 2.37081300e-04 2.72593238e-04\n",
            "  3.11130401e-04 3.52516467e-04 3.96484267e-04 4.42672048e-04\n",
            "  4.90622919e-04 5.39787912e-04 5.89532928e-04 6.39149673e-04\n",
            "  6.87870469e-04 7.34886636e-04 7.79369894e-04 8.20496044e-04\n",
            "  8.57470026e-04 8.89551292e-04 9.16078378e-04 9.36491545e-04\n",
            "  9.50352408e-04 9.57359583e-04 9.57359583e-04 9.50352408e-04\n",
            "  9.36491545e-04 9.16078378e-04 8.89551292e-04 8.57470026e-04\n",
            "  8.20496044e-04 7.79369894e-04 7.34886636e-04 6.87870469e-04\n",
            "  6.39149673e-04 5.89532928e-04 5.39787912e-04 4.90622919e-04\n",
            "  4.42672048e-04 3.96484267e-04 3.52516467e-04 3.11130401e-04\n",
            "  2.72593238e-04 2.37081300e-04 2.04686458e-04 1.75424608e-04\n",
            "  1.49245590e-04 1.26043975e-04 1.05670135e-04 8.79411273e-05\n",
            "  7.26509644e-05 5.95799767e-05 4.85030295e-05 3.91964733e-05\n",
            "  3.14437772e-05 2.50398670e-05 1.97942439e-05 1.55330023e-05\n",
            "  1.20998918e-05 9.35658045e-06 7.18228141e-06 5.47289693e-06\n",
            "  4.13982241e-06 3.10853487e-06 2.31707114e-06 1.71448062e-06\n",
            "  1.25931793e-06 9.18222183e-07 6.64614430e-07 4.77530750e-07\n",
            "  3.40598326e-07 2.41153332e-07 1.69493721e-07 1.18256100e-07]\n",
            " [1.62185177e-07 2.32456246e-07 3.30735544e-07 4.67121777e-07\n",
            "  6.54921047e-07 9.11501465e-07 1.25931793e-06 1.72712190e-06\n",
            "  2.35136574e-06 3.17780301e-06 4.26327501e-06 5.67765914e-06\n",
            "  7.50593629e-06 9.85031281e-06 1.28323076e-05 1.65946880e-05\n",
            "  2.13031101e-05 2.71472925e-05 3.43415287e-05 4.31243255e-05\n",
            "  5.37569472e-05 6.65206479e-05 8.17123940e-05 9.96389147e-05\n",
            "  1.20608977e-04 1.44923852e-04 1.72866045e-04 2.04686458e-04\n",
            "  2.40590303e-04 2.80722173e-04 3.25150858e-04 3.73854561e-04\n",
            "  4.26707281e-04 4.83467198e-04 5.43767897e-04 6.07113242e-04\n",
            "  6.72876618e-04 7.40305131e-04 8.08529132e-04 8.76577212e-04\n",
            "  9.43396521e-04 1.00787798e-03 1.06888561e-03 1.12528906e-03\n",
            "  1.17599792e-03 1.21999654e-03 1.25637775e-03 1.28437388e-03\n",
            "  1.30338370e-03 1.31299386e-03 1.31299386e-03 1.30338370e-03\n",
            "  1.28437388e-03 1.25637775e-03 1.21999654e-03 1.17599792e-03\n",
            "  1.12528906e-03 1.06888561e-03 1.00787798e-03 9.43396521e-04\n",
            "  8.76577212e-04 8.08529132e-04 7.40305131e-04 6.72876618e-04\n",
            "  6.07113242e-04 5.43767897e-04 4.83467198e-04 4.26707281e-04\n",
            "  3.73854561e-04 3.25150858e-04 2.80722173e-04 2.40590303e-04\n",
            "  2.04686458e-04 1.72866045e-04 1.44923852e-04 1.20608977e-04\n",
            "  9.96389147e-05 8.17123940e-05 6.65206479e-05 5.37569472e-05\n",
            "  4.31243255e-05 3.43415287e-05 2.71472925e-05 2.13031101e-05\n",
            "  1.65946880e-05 1.28323076e-05 9.85031281e-06 7.50593629e-06\n",
            "  5.67765914e-06 4.26327501e-06 3.17780301e-06 2.35136574e-06\n",
            "  1.72712190e-06 1.25931793e-06 9.11501465e-07 6.54921047e-07\n",
            "  4.67121777e-07 3.30735544e-07 2.32456246e-07 1.62185177e-07]\n",
            " [2.20804720e-07 3.16474276e-07 4.50275241e-07 6.35956352e-07\n",
            "  8.91633019e-07 1.24095081e-06 1.71448062e-06 2.35136574e-06\n",
            "  3.20123371e-06 4.32637507e-06 5.80417561e-06 7.72976893e-06\n",
            "  1.02188511e-05 1.34105694e-05 1.74703641e-05 2.25926038e-05\n",
            "  2.90028186e-05 3.69592983e-05 4.67537897e-05 5.87110045e-05\n",
            "  7.31866373e-05 9.05635976e-05 1.11246186e-04 1.35651995e-04\n",
            "  1.64201390e-04 1.97304534e-04 2.35346037e-04 2.78667491e-04\n",
            "  3.27548273e-04 3.82185241e-04 4.42672048e-04 5.08979018e-04\n",
            "  5.80934607e-04 6.58209595e-04 7.40305131e-04 8.26545757e-04\n",
            "  9.16078378e-04 1.00787798e-03 1.10076058e-03 1.19340368e-03\n",
            "  1.28437388e-03 1.37216125e-03 1.45521923e-03 1.53200891e-03\n",
            "  1.60104577e-03 1.66094708e-03 1.71047776e-03 1.74859270e-03\n",
            "  1.77447335e-03 1.78755696e-03 1.78755696e-03 1.77447335e-03\n",
            "  1.74859270e-03 1.71047776e-03 1.66094708e-03 1.60104577e-03\n",
            "  1.53200891e-03 1.45521923e-03 1.37216125e-03 1.28437388e-03\n",
            "  1.19340368e-03 1.10076058e-03 1.00787798e-03 9.16078378e-04\n",
            "  8.26545757e-04 7.40305131e-04 6.58209595e-04 5.80934607e-04\n",
            "  5.08979018e-04 4.42672048e-04 3.82185241e-04 3.27548273e-04\n",
            "  2.78667491e-04 2.35346037e-04 1.97304534e-04 1.64201390e-04\n",
            "  1.35651995e-04 1.11246186e-04 9.05635976e-05 7.31866373e-05\n",
            "  5.87110045e-05 4.67537897e-05 3.69592983e-05 2.90028186e-05\n",
            "  2.25926038e-05 1.74703641e-05 1.34105694e-05 1.02188511e-05\n",
            "  7.72976893e-06 5.80417561e-06 4.32637507e-06 3.20123371e-06\n",
            "  2.35136574e-06 1.71448062e-06 1.24095081e-06 8.91633019e-07\n",
            "  6.35956352e-07 4.50275241e-07 3.16474276e-07 2.20804720e-07]\n",
            " [2.98411214e-07 4.27705861e-07 6.08534007e-07 8.59476676e-07\n",
            "  1.20501632e-06 1.67710924e-06 2.31707114e-06 3.17780301e-06\n",
            "  4.32637507e-06 5.84697119e-06 7.84417602e-06 1.04465599e-05\n",
            "  1.38104826e-05 1.81239979e-05 2.36106935e-05 3.05332527e-05\n",
            "  3.91964733e-05 4.99494262e-05 6.31863989e-05 7.93462300e-05\n",
            "  9.89096304e-05 1.22394091e-04 1.50346013e-04 1.83329760e-04\n",
            "  2.21913445e-04 2.66651389e-04 3.18063385e-04 3.76611080e-04\n",
            "  4.42672048e-04 5.16512336e-04 5.98258512e-04 6.87870469e-04\n",
            "  7.85116374e-04 8.89551292e-04 1.00050104e-03 1.11705276e-03\n",
            "  1.23805352e-03 1.36211803e-03 1.48764619e-03 1.61285067e-03\n",
            "  1.73579428e-03 1.85443637e-03 1.96668684e-03 2.07046588e-03\n",
            "  2.16376721e-03 2.24472210e-03 2.31166139e-03 2.36317263e-03\n",
            "  2.39814957e-03 2.41583170e-03 2.41583170e-03 2.39814957e-03\n",
            "  2.36317263e-03 2.31166139e-03 2.24472210e-03 2.16376721e-03\n",
            "  2.07046588e-03 1.96668684e-03 1.85443637e-03 1.73579428e-03\n",
            "  1.61285067e-03 1.48764619e-03 1.36211803e-03 1.23805352e-03\n",
            "  1.11705276e-03 1.00050104e-03 8.89551292e-04 7.85116374e-04\n",
            "  6.87870469e-04 5.98258512e-04 5.16512336e-04 4.42672048e-04\n",
            "  3.76611080e-04 3.18063385e-04 2.66651389e-04 2.21913445e-04\n",
            "  1.83329760e-04 1.50346013e-04 1.22394091e-04 9.89096304e-05\n",
            "  7.93462300e-05 6.31863989e-05 4.99494262e-05 3.91964733e-05\n",
            "  3.05332527e-05 2.36106935e-05 1.81239979e-05 1.38104826e-05\n",
            "  1.04465599e-05 7.84417602e-06 5.84697119e-06 4.32637507e-06\n",
            "  3.17780301e-06 2.31707114e-06 1.67710924e-06 1.20501632e-06\n",
            "  8.59476676e-07 6.08534007e-07 4.27705861e-07 2.98411214e-07]\n",
            " [4.00342334e-07 5.73801366e-07 8.16396680e-07 1.15305619e-06\n",
            "  1.61662506e-06 2.24997519e-06 3.10853487e-06 4.26327501e-06\n",
            "  5.80417561e-06 7.84417602e-06 1.05235848e-05 1.40148894e-05\n",
            "  1.85278588e-05 2.43147820e-05 3.16756197e-05 4.09627825e-05\n",
            "  5.25851805e-05 6.70111205e-05 8.47695702e-05 1.06449267e-04\n",
            "  1.32695121e-04 1.64201390e-04 2.01701112e-04 2.45951427e-04\n",
            "  2.97714503e-04 3.57734007e-04 4.26707281e-04 5.05253662e-04\n",
            "  5.93879695e-04 6.92942302e-04 8.02611287e-04 9.22832842e-04\n",
            "  1.05329594e-03 1.19340368e-03 1.34225158e-03 1.49861496e-03\n",
            "  1.66094708e-03 1.82738947e-03 1.99579546e-03 2.16376721e-03\n",
            "  2.32870582e-03 2.48787361e-03 2.63846653e-03 2.77769434e-03\n",
            "  2.90286548e-03 3.01147289e-03 3.10127727e-03 3.17038368e-03\n",
            "  3.21730803e-03 3.24103001e-03 3.24103001e-03 3.21730803e-03\n",
            "  3.17038368e-03 3.10127727e-03 3.01147289e-03 2.90286548e-03\n",
            "  2.77769434e-03 2.63846653e-03 2.48787361e-03 2.32870582e-03\n",
            "  2.16376721e-03 1.99579546e-03 1.82738947e-03 1.66094708e-03\n",
            "  1.49861496e-03 1.34225158e-03 1.19340368e-03 1.05329594e-03\n",
            "  9.22832842e-04 8.02611287e-04 6.92942302e-04 5.93879695e-04\n",
            "  5.05253662e-04 4.26707281e-04 3.57734007e-04 2.97714503e-04\n",
            "  2.45951427e-04 2.01701112e-04 1.64201390e-04 1.32695121e-04\n",
            "  1.06449267e-04 8.47695702e-05 6.70111205e-05 5.25851805e-05\n",
            "  4.09627825e-05 3.16756197e-05 2.43147820e-05 1.85278588e-05\n",
            "  1.40148894e-05 1.05235848e-05 7.84417602e-06 5.80417561e-06\n",
            "  4.26327501e-06 3.10853487e-06 2.24997519e-06 1.61662506e-06\n",
            "  1.15305619e-06 8.16396680e-07 5.73801366e-07 4.00342334e-07]\n",
            " [5.33159907e-07 7.64165708e-07 1.08724444e-06 1.53559412e-06\n",
            "  2.15295659e-06 2.99642696e-06 4.13982241e-06 5.67765914e-06\n",
            "  7.72976893e-06 1.04465599e-05 1.40148894e-05 1.86644691e-05\n",
            "  2.46746613e-05 3.23814542e-05 4.21843233e-05 5.45525953e-05\n",
            "  7.00308402e-05 8.92427300e-05 1.12892723e-04 1.41764875e-04\n",
            "  1.76718055e-04 2.18676843e-04 2.68617473e-04 3.27548273e-04\n",
            "  3.96484267e-04 4.76415842e-04 5.68271689e-04 6.72876618e-04\n",
            "  7.90905224e-04 9.22832842e-04 1.06888561e-03 1.22899187e-03\n",
            "  1.40273741e-03 1.58932728e-03 1.78755696e-03 1.99579546e-03\n",
            "  2.21198289e-03 2.43364420e-03 2.65792057e-03 2.88161862e-03\n",
            "  3.10127727e-03 3.31325056e-03 3.51380419e-03 3.69922223e-03\n",
            "  3.86592014e-03 4.01055914e-03 4.13015702e-03 4.22219018e-03\n",
            "  4.28468215e-03 4.31627413e-03 4.31627413e-03 4.28468215e-03\n",
            "  4.22219018e-03 4.13015702e-03 4.01055914e-03 3.86592014e-03\n",
            "  3.69922223e-03 3.51380419e-03 3.31325056e-03 3.10127727e-03\n",
            "  2.88161862e-03 2.65792057e-03 2.43364420e-03 2.21198289e-03\n",
            "  1.99579546e-03 1.78755696e-03 1.58932728e-03 1.40273741e-03\n",
            "  1.22899187e-03 1.06888561e-03 9.22832842e-04 7.90905224e-04\n",
            "  6.72876618e-04 5.68271689e-04 4.76415842e-04 3.96484267e-04\n",
            "  3.27548273e-04 2.68617473e-04 2.18676843e-04 1.76718055e-04\n",
            "  1.41764875e-04 1.12892723e-04 8.92427300e-05 7.00308402e-05\n",
            "  5.45525953e-05 4.21843233e-05 3.23814542e-05 2.46746613e-05\n",
            "  1.86644691e-05 1.40148894e-05 1.04465599e-05 7.72976893e-06\n",
            "  5.67765914e-06 4.13982241e-06 2.99642696e-06 2.15295659e-06\n",
            "  1.53559412e-06 1.08724444e-06 7.64165708e-07 5.33159907e-07]\n",
            " [7.04844056e-07 1.01023661e-06 1.43735073e-06 2.03007460e-06\n",
            "  2.84623550e-06 3.96131387e-06 5.47289693e-06 7.50593629e-06\n",
            "  1.02188511e-05 1.38104826e-05 1.85278588e-05 2.46746613e-05\n",
            "  3.26202103e-05 4.28086868e-05 5.57682022e-05 7.21192122e-05\n",
            "  9.25816453e-05 1.17980004e-04 1.49245590e-04 1.87414936e-04\n",
            "  2.33623476e-04 2.89093518e-04 3.55115655e-04 4.33022908e-04\n",
            "  5.24157153e-04 6.29827693e-04 7.51262270e-04 8.89551292e-04\n",
            "  1.04558658e-03 1.21999654e-03 1.41308013e-03 1.62474260e-03\n",
            "  1.85443637e-03 2.10111052e-03 2.36317263e-03 2.63846653e-03\n",
            "  2.92426900e-03 3.21730803e-03 3.51380419e-03 3.80953580e-03\n",
            "  4.09992728e-03 4.38015862e-03 4.64529302e-03 4.89041798e-03\n",
            "  5.11079470e-03 5.30200928e-03 5.46011916e-03 5.58178815e-03\n",
            "  5.66440331e-03 5.70616831e-03 5.70616831e-03 5.66440331e-03\n",
            "  5.58178815e-03 5.46011916e-03 5.30200928e-03 5.11079470e-03\n",
            "  4.89041798e-03 4.64529302e-03 4.38015862e-03 4.09992728e-03\n",
            "  3.80953580e-03 3.51380419e-03 3.21730803e-03 2.92426900e-03\n",
            "  2.63846653e-03 2.36317263e-03 2.10111052e-03 1.85443637e-03\n",
            "  1.62474260e-03 1.41308013e-03 1.21999654e-03 1.04558658e-03\n",
            "  8.89551292e-04 7.51262270e-04 6.29827693e-04 5.24157153e-04\n",
            "  4.33022908e-04 3.55115655e-04 2.89093518e-04 2.33623476e-04\n",
            "  1.87414936e-04 1.49245590e-04 1.17980004e-04 9.25816453e-05\n",
            "  7.21192122e-05 5.57682022e-05 4.28086868e-05 3.26202103e-05\n",
            "  2.46746613e-05 1.85278588e-05 1.38104826e-05 1.02188511e-05\n",
            "  7.50593629e-06 5.47289693e-06 3.96131387e-06 2.84623550e-06\n",
            "  2.03007460e-06 1.43735073e-06 1.01023661e-06 7.04844056e-07]\n",
            " [9.24992454e-07 1.32577020e-06 1.88628757e-06 2.66414063e-06\n",
            "  3.73521822e-06 5.19857607e-06 7.18228141e-06 9.85031281e-06\n",
            "  1.34105694e-05 1.81239979e-05 2.43147820e-05 3.23814542e-05\n",
            "  4.28086868e-05 5.61793945e-05 7.31866373e-05 9.46446616e-05\n",
            "  1.21498256e-04 1.54829444e-04 1.95860408e-04 2.45951427e-04\n",
            "  3.06592572e-04 3.79387923e-04 4.66031171e-04 5.68271689e-04\n",
            "  6.87870469e-04 8.26545757e-04 9.85908763e-04 1.16739047e-03\n",
            "  1.37216125e-03 1.60104577e-03 1.85443637e-03 2.13220872e-03\n",
            "  2.43364420e-03 2.75736364e-03 3.10127727e-03 3.46255545e-03\n",
            "  3.83762442e-03 4.22219018e-03 4.61129285e-03 4.99939220e-03\n",
            "  5.38048348e-03 5.74824125e-03 6.09618674e-03 6.41787314e-03\n",
            "  6.70708151e-03 6.95801934e-03 7.16551269e-03 7.32518332e-03\n",
            "  7.43360220e-03 7.48841192e-03 7.48841192e-03 7.43360220e-03\n",
            "  7.32518332e-03 7.16551269e-03 6.95801934e-03 6.70708151e-03\n",
            "  6.41787314e-03 6.09618674e-03 5.74824125e-03 5.38048348e-03\n",
            "  4.99939220e-03 4.61129285e-03 4.22219018e-03 3.83762442e-03\n",
            "  3.46255545e-03 3.10127727e-03 2.75736364e-03 2.43364420e-03\n",
            "  2.13220872e-03 1.85443637e-03 1.60104577e-03 1.37216125e-03\n",
            "  1.16739047e-03 9.85908763e-04 8.26545757e-04 6.87870469e-04\n",
            "  5.68271689e-04 4.66031171e-04 3.79387923e-04 3.06592572e-04\n",
            "  2.45951427e-04 1.95860408e-04 1.54829444e-04 1.21498256e-04\n",
            "  9.46446616e-05 7.31866373e-05 5.61793945e-05 4.28086868e-05\n",
            "  3.23814542e-05 2.43147820e-05 1.81239979e-05 1.34105694e-05\n",
            "  9.85031281e-06 7.18228141e-06 5.19857607e-06 3.73521822e-06\n",
            "  2.66414063e-06 1.88628757e-06 1.32577020e-06 9.24992454e-07]\n",
            " [1.20501632e-06 1.72712190e-06 2.45732525e-06 3.47065852e-06\n",
            "  4.86598447e-06 6.77234606e-06 9.35658045e-06 1.28323076e-05\n",
            "  1.74703641e-05 2.36106935e-05 3.16756197e-05 4.21843233e-05\n",
            "  5.57682022e-05 7.31866373e-05 9.53424993e-05 1.23296532e-04\n",
            "  1.58279541e-04 2.01701112e-04 2.55153420e-04 3.20408542e-04\n",
            "  3.99407640e-04 4.94240399e-04 6.07113242e-04 7.40305131e-04\n",
            "  8.96110166e-04 1.07676676e-03 1.28437388e-03 1.52079572e-03\n",
            "  1.78755696e-03 2.08573192e-03 2.41583170e-03 2.77769434e-03\n",
            "  3.17038368e-03 3.59210302e-03 4.04012995e-03 4.51077823e-03\n",
            "  4.99939220e-03 5.50037792e-03 6.00727403e-03 6.51286306e-03\n",
            "  7.00932248e-03 7.48841192e-03 7.94169129e-03 8.36076212e-03\n",
            "  8.73752283e-03 9.06442731e-03 9.33473532e-03 9.54274319e-03\n",
            "  9.68398383e-03 9.75538615e-03 9.75538615e-03 9.68398383e-03\n",
            "  9.54274319e-03 9.33473532e-03 9.06442731e-03 8.73752283e-03\n",
            "  8.36076212e-03 7.94169129e-03 7.48841192e-03 7.00932248e-03\n",
            "  6.51286306e-03 6.00727403e-03 5.50037792e-03 4.99939220e-03\n",
            "  4.51077823e-03 4.04012995e-03 3.59210302e-03 3.17038368e-03\n",
            "  2.77769434e-03 2.41583170e-03 2.08573192e-03 1.78755696e-03\n",
            "  1.52079572e-03 1.28437388e-03 1.07676676e-03 8.96110166e-04\n",
            "  7.40305131e-04 6.07113242e-04 4.94240399e-04 3.99407640e-04\n",
            "  3.20408542e-04 2.55153420e-04 2.01701112e-04 1.58279541e-04\n",
            "  1.23296532e-04 9.53424993e-05 7.31866373e-05 5.57682022e-05\n",
            "  4.21843233e-05 3.16756197e-05 2.36106935e-05 1.74703641e-05\n",
            "  1.28323076e-05 9.35658045e-06 6.77234606e-06 4.86598447e-06\n",
            "  3.47065852e-06 2.45732525e-06 1.72712190e-06 1.20501632e-06]\n",
            " [1.55832220e-06 2.23350701e-06 3.17780301e-06 4.48824147e-06\n",
            "  6.29267131e-06 8.75797037e-06 1.20998918e-05 1.65946880e-05\n",
            "  2.25926038e-05 3.05332527e-05 4.09627825e-05 5.45525953e-05\n",
            "  7.21192122e-05 9.46446616e-05 1.23296532e-04 1.59446574e-04\n",
            "  2.04686458e-04 2.60839057e-04 3.29963365e-04 4.14351023e-04\n",
            "  5.16512336e-04 6.39149673e-04 7.85116374e-04 9.57359583e-04\n",
            "  1.15884602e-03 1.39247039e-03 1.66094708e-03 1.96668684e-03\n",
            "  2.31166139e-03 2.69726003e-03 3.12414373e-03 3.59210302e-03\n",
            "  4.09992728e-03 4.64529302e-03 5.22467962e-03 5.83332006e-03\n",
            "  6.46519365e-03 7.11306635e-03 7.76858233e-03 8.42240801e-03\n",
            "  9.06442731e-03 9.68398383e-03 1.02701629e-02 1.08121036e-02\n",
            "  1.12993290e-02 1.17220805e-02 1.20716417e-02 1.23406367e-02\n",
            "  1.25232885e-02 1.26156257e-02 1.26156257e-02 1.25232885e-02\n",
            "  1.23406367e-02 1.20716417e-02 1.17220805e-02 1.12993290e-02\n",
            "  1.08121036e-02 1.02701629e-02 9.68398383e-03 9.06442731e-03\n",
            "  8.42240801e-03 7.76858233e-03 7.11306635e-03 6.46519365e-03\n",
            "  5.83332006e-03 5.22467962e-03 4.64529302e-03 4.09992728e-03\n",
            "  3.59210302e-03 3.12414373e-03 2.69726003e-03 2.31166139e-03\n",
            "  1.96668684e-03 1.66094708e-03 1.39247039e-03 1.15884602e-03\n",
            "  9.57359583e-04 7.85116374e-04 6.39149673e-04 5.16512336e-04\n",
            "  4.14351023e-04 3.29963365e-04 2.60839057e-04 2.04686458e-04\n",
            "  1.59446574e-04 1.23296532e-04 9.46446616e-05 7.21192122e-05\n",
            "  5.45525953e-05 4.09627825e-05 3.05332527e-05 2.25926038e-05\n",
            "  1.65946880e-05 1.20998918e-05 8.75797037e-06 6.29267131e-06\n",
            "  4.48824147e-06 3.17780301e-06 2.23350701e-06 1.55832220e-06]\n",
            " [2.00046602e-06 2.86722147e-06 4.07944321e-06 5.76169327e-06\n",
            "  8.07809522e-06 1.12428752e-05 1.55330023e-05 2.13031101e-05\n",
            "  2.90028186e-05 3.91964733e-05 5.25851805e-05 7.00308402e-05\n",
            "  9.25816453e-05 1.21498256e-04 1.58279541e-04 2.04686458e-04\n",
            "  2.62762286e-04 3.34847100e-04 4.23584094e-04 5.31915120e-04\n",
            "  6.63062731e-04 8.20496044e-04 1.00787798e-03 1.22899187e-03\n",
            "  1.48764619e-03 1.78755696e-03 2.13220872e-03 2.52469623e-03\n",
            "  2.96755064e-03 3.46255545e-03 4.01055914e-03 4.61129285e-03\n",
            "  5.26320243e-03 5.96330516e-03 6.70708151e-03 7.48841192e-03\n",
            "  8.29956743e-03 9.13126150e-03 9.97276747e-03 1.08121036e-02\n",
            "  1.16362834e-02 1.24316271e-02 1.31841231e-02 1.38798290e-02\n",
            "  1.45052953e-02 1.50479944e-02 1.54967368e-02 1.58420539e-02\n",
            "  1.60765296e-02 1.61950657e-02 1.61950657e-02 1.60765296e-02\n",
            "  1.58420539e-02 1.54967368e-02 1.50479944e-02 1.45052953e-02\n",
            "  1.38798290e-02 1.31841231e-02 1.24316271e-02 1.16362834e-02\n",
            "  1.08121036e-02 9.97276747e-03 9.13126150e-03 8.29956743e-03\n",
            "  7.48841192e-03 6.70708151e-03 5.96330516e-03 5.26320243e-03\n",
            "  4.61129285e-03 4.01055914e-03 3.46255545e-03 2.96755064e-03\n",
            "  2.52469623e-03 2.13220872e-03 1.78755696e-03 1.48764619e-03\n",
            "  1.22899187e-03 1.00787798e-03 8.20496044e-04 6.63062731e-04\n",
            "  5.31915120e-04 4.23584094e-04 3.34847100e-04 2.62762286e-04\n",
            "  2.04686458e-04 1.58279541e-04 1.21498256e-04 9.25816453e-05\n",
            "  7.00308402e-05 5.25851805e-05 3.91964733e-05 2.90028186e-05\n",
            "  2.13031101e-05 1.55330023e-05 1.12428752e-05 8.07809522e-06\n",
            "  5.76169327e-06 4.07944321e-06 2.86722147e-06 2.00046602e-06]\n",
            " [2.54926327e-06 3.65379983e-06 5.19857607e-06 7.34232570e-06\n",
            "  1.02941971e-05 1.43271861e-05 1.97942439e-05 2.71472925e-05\n",
            "  3.69592983e-05 4.99494262e-05 6.70111205e-05 8.92427300e-05\n",
            "  1.17980004e-04 1.54829444e-04 2.01701112e-04 2.60839057e-04\n",
            "  3.34847100e-04 4.26707281e-04 5.39787912e-04 6.77837898e-04\n",
            "  8.44963850e-04 1.04558658e-03 1.28437388e-03 1.56614699e-03\n",
            "  1.89575917e-03 2.27794587e-03 2.71714757e-03 3.21730803e-03\n",
            "  3.78165277e-03 4.41245458e-03 5.11079470e-03 5.87633052e-03\n",
            "  6.70708151e-03 7.59924672e-03 8.54706674e-03 9.54274319e-03\n",
            "  1.05764268e-02 1.16362834e-02 1.27086437e-02 1.37782388e-02\n",
            "  1.48285198e-02 1.58420539e-02 1.68009857e-02 1.76875478e-02\n",
            "  1.84846012e-02 1.91761815e-02 1.97480296e-02 2.01880791e-02\n",
            "  2.04868796e-02 2.06379343e-02 2.06379343e-02 2.04868796e-02\n",
            "  2.01880791e-02 1.97480296e-02 1.91761815e-02 1.84846012e-02\n",
            "  1.76875478e-02 1.68009857e-02 1.58420539e-02 1.48285198e-02\n",
            "  1.37782388e-02 1.27086437e-02 1.16362834e-02 1.05764268e-02\n",
            "  9.54274319e-03 8.54706674e-03 7.59924672e-03 6.70708151e-03\n",
            "  5.87633052e-03 5.11079470e-03 4.41245458e-03 3.78165277e-03\n",
            "  3.21730803e-03 2.71714757e-03 2.27794587e-03 1.89575917e-03\n",
            "  1.56614699e-03 1.28437388e-03 1.04558658e-03 8.44963850e-04\n",
            "  6.77837898e-04 5.39787912e-04 4.26707281e-04 3.34847100e-04\n",
            "  2.60839057e-04 2.01701112e-04 1.54829444e-04 1.17980004e-04\n",
            "  8.92427300e-05 6.70111205e-05 4.99494262e-05 3.69592983e-05\n",
            "  2.71472925e-05 1.97942439e-05 1.43271861e-05 1.02941971e-05\n",
            "  7.34232570e-06 5.19857607e-06 3.65379983e-06 2.54926327e-06]\n",
            " [3.22483717e-06 4.62208420e-06 6.57623773e-06 9.28809710e-06\n",
            "  1.30222365e-05 1.81239979e-05 2.50398670e-05 3.43415287e-05\n",
            "  4.67537897e-05 6.31863989e-05 8.47695702e-05 1.12892723e-04\n",
            "  1.49245590e-04 1.95860408e-04 2.55153420e-04 3.29963365e-04\n",
            "  4.23584094e-04 5.39787912e-04 6.82835758e-04 8.57470026e-04\n",
            "  1.06888561e-03 1.32267487e-03 1.62474260e-03 1.98118769e-03\n",
            "  2.39814957e-03 2.88161862e-03 3.43721207e-03 4.06991880e-03\n",
            "  4.78381913e-03 5.58178815e-03 6.46519365e-03 7.43360220e-03\n",
            "  8.48450844e-03 9.61310412e-03 1.08121036e-02 1.20716417e-02\n",
            "  1.33792593e-02 1.47199858e-02 1.60765296e-02 1.74295755e-02\n",
            "  1.87581888e-02 2.00403170e-02 2.12533729e-02 2.23748807e-02\n",
            "  2.33831591e-02 2.42580135e-02 2.49814056e-02 2.55380715e-02\n",
            "  2.59160565e-02 2.61071417e-02 2.61071417e-02 2.59160565e-02\n",
            "  2.55380715e-02 2.49814056e-02 2.42580135e-02 2.33831591e-02\n",
            "  2.23748807e-02 2.12533729e-02 2.00403170e-02 1.87581888e-02\n",
            "  1.74295755e-02 1.60765296e-02 1.47199858e-02 1.33792593e-02\n",
            "  1.20716417e-02 1.08121036e-02 9.61310412e-03 8.48450844e-03\n",
            "  7.43360220e-03 6.46519365e-03 5.58178815e-03 4.78381913e-03\n",
            "  4.06991880e-03 3.43721207e-03 2.88161862e-03 2.39814957e-03\n",
            "  1.98118769e-03 1.62474260e-03 1.32267487e-03 1.06888561e-03\n",
            "  8.57470026e-04 6.82835758e-04 5.39787912e-04 4.23584094e-04\n",
            "  3.29963365e-04 2.55153420e-04 1.95860408e-04 1.49245590e-04\n",
            "  1.12892723e-04 8.47695702e-05 6.31863989e-05 4.67537897e-05\n",
            "  3.43415287e-05 2.50398670e-05 1.81239979e-05 1.30222365e-05\n",
            "  9.28809710e-06 6.57623773e-06 4.62208420e-06 3.22483717e-06]\n",
            " [4.04958466e-06 5.80417561e-06 8.25810111e-06 1.16635146e-05\n",
            "  1.63526549e-05 2.27591845e-05 3.14437772e-05 4.31243255e-05\n",
            "  5.87110045e-05 7.93462300e-05 1.06449267e-04 1.41764875e-04\n",
            "  1.87414936e-04 2.45951427e-04 3.20408542e-04 4.14351023e-04\n",
            "  5.31915120e-04 6.77837898e-04 8.57470026e-04 1.07676676e-03\n",
            "  1.34225158e-03 1.66094708e-03 2.04026819e-03 2.48787361e-03\n",
            "  3.01147289e-03 3.61858846e-03 4.31627413e-03 5.11079470e-03\n",
            "  6.00727403e-03 7.00932248e-03 8.11865767e-03 9.33473532e-03\n",
            "  1.06544093e-02 1.20716417e-02 1.35772836e-02 1.51589468e-02\n",
            "  1.68009857e-02 1.84846012e-02 2.01880791e-02 2.18871644e-02\n",
            "  2.35555688e-02 2.51655994e-02 2.66888927e-02 2.80972245e-02\n",
            "  2.93633686e-02 3.04619657e-02 3.13703643e-02 3.20693967e-02\n",
            "  3.25440508e-02 3.27840059e-02 3.27840059e-02 3.25440508e-02\n",
            "  3.20693967e-02 3.13703643e-02 3.04619657e-02 2.93633686e-02\n",
            "  2.80972245e-02 2.66888927e-02 2.51655994e-02 2.35555688e-02\n",
            "  2.18871644e-02 2.01880791e-02 1.84846012e-02 1.68009857e-02\n",
            "  1.51589468e-02 1.35772836e-02 1.20716417e-02 1.06544093e-02\n",
            "  9.33473532e-03 8.11865767e-03 7.00932248e-03 6.00727403e-03\n",
            "  5.11079470e-03 4.31627413e-03 3.61858846e-03 3.01147289e-03\n",
            "  2.48787361e-03 2.04026819e-03 1.66094708e-03 1.34225158e-03\n",
            "  1.07676676e-03 8.57470026e-04 6.77837898e-04 5.31915120e-04\n",
            "  4.14351023e-04 3.20408542e-04 2.45951427e-04 1.87414936e-04\n",
            "  1.41764875e-04 1.06449267e-04 7.93462300e-05 5.87110045e-05\n",
            "  4.31243255e-05 3.14437772e-05 2.27591845e-05 1.63526549e-05\n",
            "  1.16635146e-05 8.25810111e-06 5.80417561e-06 4.04958466e-06]\n",
            " [5.04803974e-06 7.23523808e-06 1.02941971e-05 1.45392405e-05\n",
            "  2.03845231e-05 2.83706299e-05 3.91964733e-05 5.37569472e-05\n",
            "  7.31866373e-05 9.89096304e-05 1.32695121e-04 1.76718055e-04\n",
            "  2.33623476e-04 3.06592572e-04 3.99407640e-04 5.16512336e-04\n",
            "  6.63062731e-04 8.44963850e-04 1.06888561e-03 1.34225158e-03\n",
            "  1.67319364e-03 2.07046588e-03 2.54331142e-03 3.10127727e-03\n",
            "  3.75397383e-03 4.51077823e-03 5.38048348e-03 6.37089898e-03\n",
            "  7.48841192e-03 8.73752283e-03 1.01203728e-02 1.16362834e-02\n",
            "  1.32813328e-02 1.50479944e-02 1.69248634e-02 1.88964974e-02\n",
            "  2.09433931e-02 2.30421164e-02 2.51655994e-02 2.72836069e-02\n",
            "  2.93633686e-02 3.13703643e-02 3.32692367e-02 3.50248032e-02\n",
            "  3.66031246e-02 3.79725889e-02 3.91049599e-02 3.99763439e-02\n",
            "  4.05680275e-02 4.08671452e-02 4.08671452e-02 4.05680275e-02\n",
            "  3.99763439e-02 3.91049599e-02 3.79725889e-02 3.66031246e-02\n",
            "  3.50248032e-02 3.32692367e-02 3.13703643e-02 2.93633686e-02\n",
            "  2.72836069e-02 2.51655994e-02 2.30421164e-02 2.09433931e-02\n",
            "  1.88964974e-02 1.69248634e-02 1.50479944e-02 1.32813328e-02\n",
            "  1.16362834e-02 1.01203728e-02 8.73752283e-03 7.48841192e-03\n",
            "  6.37089898e-03 5.38048348e-03 4.51077823e-03 3.75397383e-03\n",
            "  3.10127727e-03 2.54331142e-03 2.07046588e-03 1.67319364e-03\n",
            "  1.34225158e-03 1.06888561e-03 8.44963850e-04 6.63062731e-04\n",
            "  5.16512336e-04 3.99407640e-04 3.06592572e-04 2.33623476e-04\n",
            "  1.76718055e-04 1.32695121e-04 9.89096304e-05 7.31866373e-05\n",
            "  5.37569472e-05 3.91964733e-05 2.83706299e-05 2.03845231e-05\n",
            "  1.45392405e-05 1.02941971e-05 7.23523808e-06 5.04803974e-06]\n",
            " [6.24661354e-06 8.95312607e-06 1.27383844e-05 1.79913435e-05\n",
            "  2.52244919e-05 3.51067682e-05 4.85030295e-05 6.65206479e-05\n",
            "  9.05635976e-05 1.22394091e-04 1.64201390e-04 2.18676843e-04\n",
            "  2.89093518e-04 3.79387923e-04 4.94240399e-04 6.39149673e-04\n",
            "  8.20496044e-04 1.04558658e-03 1.32267487e-03 1.66094708e-03\n",
            "  2.07046588e-03 2.56206386e-03 3.14717878e-03 3.83762442e-03\n",
            "  4.64529302e-03 5.58178815e-03 6.65799056e-03 7.88356389e-03\n",
            "  9.26641185e-03 1.08121036e-02 1.25232885e-02 1.43991271e-02\n",
            "  1.64347663e-02 1.86208925e-02 2.09433931e-02 2.33831591e-02\n",
            "  2.59160565e-02 2.85130870e-02 3.11407561e-02 3.37616495e-02\n",
            "  3.63352164e-02 3.88187401e-02 4.11684684e-02 4.33408652e-02\n",
            "  4.52939330e-02 4.69885540e-02 4.83897878e-02 4.94680677e-02\n",
            "  5.02002367e-02 5.05703750e-02 5.05703750e-02 5.02002367e-02\n",
            "  4.94680677e-02 4.83897878e-02 4.69885540e-02 4.52939330e-02\n",
            "  4.33408652e-02 4.11684684e-02 3.88187401e-02 3.63352164e-02\n",
            "  3.37616495e-02 3.11407561e-02 2.85130870e-02 2.59160565e-02\n",
            "  2.33831591e-02 2.09433931e-02 1.86208925e-02 1.64347663e-02\n",
            "  1.43991271e-02 1.25232885e-02 1.08121036e-02 9.26641185e-03\n",
            "  7.88356389e-03 6.65799056e-03 5.58178815e-03 4.64529302e-03\n",
            "  3.83762442e-03 3.14717878e-03 2.56206386e-03 2.07046588e-03\n",
            "  1.66094708e-03 1.32267487e-03 1.04558658e-03 8.20496044e-04\n",
            "  6.39149673e-04 4.94240399e-04 3.79387923e-04 2.89093518e-04\n",
            "  2.18676843e-04 1.64201390e-04 1.22394091e-04 9.05635976e-05\n",
            "  6.65206479e-05 4.85030295e-05 3.51067682e-05 2.52244919e-05\n",
            "  1.79913435e-05 1.27383844e-05 8.95312607e-06 6.24661354e-06]\n",
            " [7.67319265e-06 1.09978088e-05 1.56475308e-05 2.21001417e-05\n",
            "  3.09851706e-05 4.31243255e-05 5.95799767e-05 8.17123940e-05\n",
            "  1.11246186e-04 1.50346013e-04 2.01701112e-04 2.68617473e-04\n",
            "  3.55115655e-04 4.66031171e-04 6.07113242e-04 7.85116374e-04\n",
            "  1.00787798e-03 1.28437388e-03 1.62474260e-03 2.04026819e-03\n",
            "  2.54331142e-03 3.14717878e-03 3.86592014e-03 4.71404726e-03\n",
            "  5.70616831e-03 6.85653682e-03 8.17851847e-03 9.68398383e-03\n",
            "  1.13826416e-02 1.32813328e-02 1.53833120e-02 1.76875478e-02\n",
            "  2.01880791e-02 2.28734649e-02 2.57263698e-02 2.87233208e-02\n",
            "  3.18346721e-02 3.50248032e-02 3.82525698e-02 4.14720134e-02\n",
            "  4.46333222e-02 4.76840241e-02 5.05703750e-02 5.32388959e-02\n",
            "  5.56379983e-02 5.77196307e-02 5.94408733e-02 6.07654068e-02\n",
            "  6.16647860e-02 6.21194552e-02 6.21194552e-02 6.16647860e-02\n",
            "  6.07654068e-02 5.94408733e-02 5.77196307e-02 5.56379983e-02\n",
            "  5.32388959e-02 5.05703750e-02 4.76840241e-02 4.46333222e-02\n",
            "  4.14720134e-02 3.82525698e-02 3.50248032e-02 3.18346721e-02\n",
            "  2.87233208e-02 2.57263698e-02 2.28734649e-02 2.01880791e-02\n",
            "  1.76875478e-02 1.53833120e-02 1.32813328e-02 1.13826416e-02\n",
            "  9.68398383e-03 8.17851847e-03 6.85653682e-03 5.70616831e-03\n",
            "  4.71404726e-03 3.86592014e-03 3.14717878e-03 2.54331142e-03\n",
            "  2.04026819e-03 1.62474260e-03 1.28437388e-03 1.00787798e-03\n",
            "  7.85116374e-04 6.07113242e-04 4.66031171e-04 3.55115655e-04\n",
            "  2.68617473e-04 2.01701112e-04 1.50346013e-04 1.11246186e-04\n",
            "  8.17123940e-05 5.95799767e-05 4.31243255e-05 3.09851706e-05\n",
            "  2.21001417e-05 1.56475308e-05 1.09978088e-05 7.67319265e-06]\n",
            " [9.35658045e-06 1.34105694e-05 1.90803734e-05 2.69485941e-05\n",
            "  3.77828701e-05 5.25851805e-05 7.26509644e-05 9.96389147e-05\n",
            "  1.35651995e-04 1.83329760e-04 2.45951427e-04 3.27548273e-04\n",
            "  4.33022908e-04 5.68271689e-04 7.40305131e-04 9.57359583e-04\n",
            "  1.22899187e-03 1.56614699e-03 1.98118769e-03 2.48787361e-03\n",
            "  3.10127727e-03 3.83762442e-03 4.71404726e-03 5.74824125e-03\n",
            "  6.95801934e-03 8.36076212e-03 9.97276747e-03 1.18085102e-02\n",
            "  1.38798290e-02 1.61950657e-02 1.87581888e-02 2.15679408e-02\n",
            "  2.46170525e-02 2.78915732e-02 3.13703643e-02 3.50248032e-02\n",
            "  3.88187401e-02 4.27087399e-02 4.66446320e-02 5.05703750e-02\n",
            "  5.44252294e-02 5.81452113e-02 6.16647860e-02 6.49187419e-02\n",
            "  6.78441727e-02 7.03824853e-02 7.24813437e-02 7.40964607e-02\n",
            "  7.51931507e-02 7.57475678e-02 7.57475678e-02 7.51931507e-02\n",
            "  7.40964607e-02 7.24813437e-02 7.03824853e-02 6.78441727e-02\n",
            "  6.49187419e-02 6.16647860e-02 5.81452113e-02 5.44252294e-02\n",
            "  5.05703750e-02 4.66446320e-02 4.27087399e-02 3.88187401e-02\n",
            "  3.50248032e-02 3.13703643e-02 2.78915732e-02 2.46170525e-02\n",
            "  2.15679408e-02 1.87581888e-02 1.61950657e-02 1.38798290e-02\n",
            "  1.18085102e-02 9.97276747e-03 8.36076212e-03 6.95801934e-03\n",
            "  5.74824125e-03 4.71404726e-03 3.83762442e-03 3.10127727e-03\n",
            "  2.48787361e-03 1.98118769e-03 1.56614699e-03 1.22899187e-03\n",
            "  9.57359583e-04 7.40305131e-04 5.68271689e-04 4.33022908e-04\n",
            "  3.27548273e-04 2.45951427e-04 1.83329760e-04 1.35651995e-04\n",
            "  9.96389147e-05 7.26509644e-05 5.25851805e-05 3.77828701e-05\n",
            "  2.69485941e-05 1.90803734e-05 1.34105694e-05 9.35658045e-06]\n",
            " [1.13257716e-05 1.62329654e-05 2.30960396e-05 3.26202103e-05\n",
            "  4.57346743e-05 6.36522873e-05 8.79411273e-05 1.20608977e-04\n",
            "  1.64201390e-04 2.21913445e-04 2.97714503e-04 3.96484267e-04\n",
            "  5.24157153e-04 6.87870469e-04 8.96110166e-04 1.15884602e-03\n",
            "  1.48764619e-03 1.89575917e-03 2.39814957e-03 3.01147289e-03\n",
            "  3.75397383e-03 4.64529302e-03 5.70616831e-03 6.95801934e-03\n",
            "  8.42240801e-03 1.01203728e-02 1.20716417e-02 1.42937359e-02\n",
            "  1.68009857e-02 1.96034884e-02 2.27060478e-02 2.61071417e-02\n",
            "  2.97979712e-02 3.37616495e-02 3.79725889e-02 4.23961430e-02\n",
            "  4.69885540e-02 5.16972453e-02 5.64614875e-02 6.12134447e-02\n",
            "  6.58795939e-02 7.03824853e-02 7.46427916e-02 7.85815769e-02\n",
            "  8.21226955e-02 8.51952228e-02 8.77358081e-02 8.96908436e-02\n",
            "  9.10183436e-02 9.16894436e-02 9.16894436e-02 9.10183436e-02\n",
            "  8.96908436e-02 8.77358081e-02 8.51952228e-02 8.21226955e-02\n",
            "  7.85815769e-02 7.46427916e-02 7.03824853e-02 6.58795939e-02\n",
            "  6.12134447e-02 5.64614875e-02 5.16972453e-02 4.69885540e-02\n",
            "  4.23961430e-02 3.79725889e-02 3.37616495e-02 2.97979712e-02\n",
            "  2.61071417e-02 2.27060478e-02 1.96034884e-02 1.68009857e-02\n",
            "  1.42937359e-02 1.20716417e-02 1.01203728e-02 8.42240801e-03\n",
            "  6.95801934e-03 5.70616831e-03 4.64529302e-03 3.75397383e-03\n",
            "  3.01147289e-03 2.39814957e-03 1.89575917e-03 1.48764619e-03\n",
            "  1.15884602e-03 8.96110166e-04 6.87870469e-04 5.24157153e-04\n",
            "  3.96484267e-04 2.97714503e-04 2.21913445e-04 1.64201390e-04\n",
            "  1.20608977e-04 8.79411273e-05 6.36522873e-05 4.57346743e-05\n",
            "  3.26202103e-05 2.30960396e-05 1.62329654e-05 1.13257716e-05]\n",
            " [1.36090571e-05 1.95055454e-05 2.77522213e-05 3.91964733e-05\n",
            "  5.49548246e-05 7.64846440e-05 1.05670135e-04 1.44923852e-04\n",
            "  1.97304534e-04 2.66651389e-04 3.57734007e-04 4.76415842e-04\n",
            "  6.29827693e-04 8.26545757e-04 1.07676676e-03 1.39247039e-03\n",
            "  1.78755696e-03 2.27794587e-03 2.88161862e-03 3.61858846e-03\n",
            "  4.51077823e-03 5.58178815e-03 6.85653682e-03 8.36076212e-03\n",
            "  1.01203728e-02 1.21606488e-02 1.45052953e-02 1.71753656e-02\n",
            "  2.01880791e-02 2.35555688e-02 2.72836069e-02 3.13703643e-02\n",
            "  3.58052682e-02 4.05680275e-02 4.56278959e-02 5.09432425e-02\n",
            "  5.64614875e-02 6.21194552e-02 6.78441727e-02 7.35541286e-02\n",
            "  7.91609776e-02 8.45716558e-02 8.96908436e-02 9.44236914e-02\n",
            "  9.86787027e-02 1.02370654e-01 1.05423424e-01 1.07772596e-01\n",
            "  1.09367721e-01 1.10174115e-01 1.10174115e-01 1.09367721e-01\n",
            "  1.07772596e-01 1.05423424e-01 1.02370654e-01 9.86787027e-02\n",
            "  9.44236914e-02 8.96908436e-02 8.45716558e-02 7.91609776e-02\n",
            "  7.35541286e-02 6.78441727e-02 6.21194552e-02 5.64614875e-02\n",
            "  5.09432425e-02 4.56278959e-02 4.05680275e-02 3.58052682e-02\n",
            "  3.13703643e-02 2.72836069e-02 2.35555688e-02 2.01880791e-02\n",
            "  1.71753656e-02 1.45052953e-02 1.21606488e-02 1.01203728e-02\n",
            "  8.36076212e-03 6.85653682e-03 5.58178815e-03 4.51077823e-03\n",
            "  3.61858846e-03 2.88161862e-03 2.27794587e-03 1.78755696e-03\n",
            "  1.39247039e-03 1.07676676e-03 8.26545757e-04 6.29827693e-04\n",
            "  4.76415842e-04 3.57734007e-04 2.66651389e-04 1.97304534e-04\n",
            "  1.44923852e-04 1.05670135e-04 7.64846440e-05 5.49548246e-05\n",
            "  3.91964733e-05 2.77522213e-05 1.95055454e-05 1.36090571e-05]\n",
            " [1.62329654e-05 2.32663322e-05 3.31030169e-05 4.67537897e-05\n",
            "  6.55504461e-05 9.12313446e-05 1.26043975e-04 1.72866045e-04\n",
            "  2.35346037e-04 3.18063385e-04 4.26707281e-04 5.68271689e-04\n",
            "  7.51262270e-04 9.85908763e-04 1.28437388e-03 1.66094708e-03\n",
            "  2.13220872e-03 2.71714757e-03 3.43721207e-03 4.31627413e-03\n",
            "  5.38048348e-03 6.65799056e-03 8.17851847e-03 9.97276747e-03\n",
            "  1.20716417e-02 1.45052953e-02 1.73020037e-02 2.04868796e-02\n",
            "  2.40804625e-02 2.80972245e-02 3.25440508e-02 3.74187597e-02\n",
            "  4.27087399e-02 4.83897878e-02 5.44252294e-02 6.07654068e-02\n",
            "  6.73476028e-02 7.40964607e-02 8.09249383e-02 8.77358081e-02\n",
            "  9.44236914e-02 1.00877581e-01 1.06983779e-01 1.12629148e-01\n",
            "  1.17704552e-01 1.22108334e-01 1.25749695e-01 1.28551802e-01\n",
            "  1.30454477e-01 1.31416349e-01 1.31416349e-01 1.30454477e-01\n",
            "  1.28551802e-01 1.25749695e-01 1.22108334e-01 1.17704552e-01\n",
            "  1.12629148e-01 1.06983779e-01 1.00877581e-01 9.44236914e-02\n",
            "  8.77358081e-02 8.09249383e-02 7.40964607e-02 6.73476028e-02\n",
            "  6.07654068e-02 5.44252294e-02 4.83897878e-02 4.27087399e-02\n",
            "  3.74187597e-02 3.25440508e-02 2.80972245e-02 2.40804625e-02\n",
            "  2.04868796e-02 1.73020037e-02 1.45052953e-02 1.20716417e-02\n",
            "  9.97276747e-03 8.17851847e-03 6.65799056e-03 5.38048348e-03\n",
            "  4.31627413e-03 3.43721207e-03 2.71714757e-03 2.13220872e-03\n",
            "  1.66094708e-03 1.28437388e-03 9.85908763e-04 7.51262270e-04\n",
            "  5.68271689e-04 4.26707281e-04 3.18063385e-04 2.35346037e-04\n",
            "  1.72866045e-04 1.26043975e-04 9.12313446e-05 6.55504461e-05\n",
            "  4.67537897e-05 3.31030169e-05 2.32663322e-05 1.62329654e-05]\n",
            " [1.92210576e-05 2.75490953e-05 3.91964733e-05 5.53600196e-05\n",
            "  7.76166811e-05 1.08024805e-04 1.49245590e-04 2.04686458e-04\n",
            "  2.78667491e-04 3.76611080e-04 5.05253662e-04 6.72876618e-04\n",
            "  8.89551292e-04 1.16739047e-03 1.52079572e-03 1.96668684e-03\n",
            "  2.52469623e-03 3.21730803e-03 4.06991880e-03 5.11079470e-03\n",
            "  6.37089898e-03 7.88356389e-03 9.68398383e-03 1.18085102e-02\n",
            "  1.42937359e-02 1.71753656e-02 2.04868796e-02 2.42580135e-02\n",
            "  2.85130870e-02 3.32692367e-02 3.85346151e-02 4.43066388e-02\n",
            "  5.05703750e-02 5.72971650e-02 6.44435839e-02 7.19508330e-02\n",
            "  7.97446503e-02 8.77358081e-02 9.58212415e-02 1.03885826e-01\n",
            "  1.11804785e-01 1.19446678e-01 1.26676878e-01 1.33361422e-01\n",
            "  1.39371083e-01 1.44585493e-01 1.48897141e-01 1.52215047e-01\n",
            "  1.54467958e-01 1.55606887e-01 1.55606887e-01 1.54467958e-01\n",
            "  1.52215047e-01 1.48897141e-01 1.44585493e-01 1.39371083e-01\n",
            "  1.33361422e-01 1.26676878e-01 1.19446678e-01 1.11804785e-01\n",
            "  1.03885826e-01 9.58212415e-02 8.77358081e-02 7.97446503e-02\n",
            "  7.19508330e-02 6.44435839e-02 5.72971650e-02 5.05703750e-02\n",
            "  4.43066388e-02 3.85346151e-02 3.32692367e-02 2.85130870e-02\n",
            "  2.42580135e-02 2.04868796e-02 1.71753656e-02 1.42937359e-02\n",
            "  1.18085102e-02 9.68398383e-03 7.88356389e-03 6.37089898e-03\n",
            "  5.11079470e-03 4.06991880e-03 3.21730803e-03 2.52469623e-03\n",
            "  1.96668684e-03 1.52079572e-03 1.16739047e-03 8.89551292e-04\n",
            "  6.72876618e-04 5.05253662e-04 3.76611080e-04 2.78667491e-04\n",
            "  2.04686458e-04 1.49245590e-04 1.08024805e-04 7.76166811e-05\n",
            "  5.53600196e-05 3.91964733e-05 2.75490953e-05 1.92210576e-05]\n",
            " [2.25926038e-05 3.23814542e-05 4.60718869e-05 6.50706646e-05\n",
            "  9.12313446e-05 1.26973327e-04 1.75424608e-04 2.40590303e-04\n",
            "  3.27548273e-04 4.42672048e-04 5.93879695e-04 7.90905224e-04\n",
            "  1.04558658e-03 1.37216125e-03 1.78755696e-03 2.31166139e-03\n",
            "  2.96755064e-03 3.78165277e-03 4.78381913e-03 6.00727403e-03\n",
            "  7.48841192e-03 9.26641185e-03 1.13826416e-02 1.38798290e-02\n",
            "  1.68009857e-02 2.01880791e-02 2.40804625e-02 2.85130870e-02\n",
            "  3.35145388e-02 3.91049599e-02 4.52939330e-02 5.20784215e-02\n",
            "  5.94408733e-02 6.73476028e-02 7.57475678e-02 8.45716558e-02\n",
            "  9.37325787e-02 1.03125457e-01 1.12629148e-01 1.22108334e-01\n",
            "  1.31416349e-01 1.40398699e-01 1.48897141e-01 1.56754214e-01\n",
            "  1.63818023e-01 1.69947088e-01 1.75015038e-01 1.78914935e-01\n",
            "  1.81563026e-01 1.82901734e-01 1.82901734e-01 1.81563026e-01\n",
            "  1.78914935e-01 1.75015038e-01 1.69947088e-01 1.63818023e-01\n",
            "  1.56754214e-01 1.48897141e-01 1.40398699e-01 1.31416349e-01\n",
            "  1.22108334e-01 1.12629148e-01 1.03125457e-01 9.37325787e-02\n",
            "  8.45716558e-02 7.57475678e-02 6.73476028e-02 5.94408733e-02\n",
            "  5.20784215e-02 4.52939330e-02 3.91049599e-02 3.35145388e-02\n",
            "  2.85130870e-02 2.40804625e-02 2.01880791e-02 1.68009857e-02\n",
            "  1.38798290e-02 1.13826416e-02 9.26641185e-03 7.48841192e-03\n",
            "  6.00727403e-03 4.78381913e-03 3.78165277e-03 2.96755064e-03\n",
            "  2.31166139e-03 1.78755696e-03 1.37216125e-03 1.04558658e-03\n",
            "  7.90905224e-04 5.93879695e-04 4.42672048e-04 3.27548273e-04\n",
            "  2.40590303e-04 1.75424608e-04 1.26973327e-04 9.12313446e-05\n",
            "  6.50706646e-05 4.60718869e-05 3.23814542e-05 2.25926038e-05]\n",
            " [2.63611823e-05 3.77828701e-05 5.37569472e-05 7.59248321e-05\n",
            "  1.06449267e-04 1.48153221e-04 2.04686458e-04 2.80722173e-04\n",
            "  3.82185241e-04 5.16512336e-04 6.92942302e-04 9.22832842e-04\n",
            "  1.21999654e-03 1.60104577e-03 2.08573192e-03 2.69726003e-03\n",
            "  3.46255545e-03 4.41245458e-03 5.58178815e-03 7.00932248e-03\n",
            "  8.73752283e-03 1.08121036e-02 1.32813328e-02 1.61950657e-02\n",
            "  1.96034884e-02 2.35555688e-02 2.80972245e-02 3.32692367e-02\n",
            "  3.91049599e-02 4.56278959e-02 5.28492259e-02 6.07654068e-02\n",
            "  6.93559587e-02 7.85815769e-02 8.83827052e-02 9.86787027e-02\n",
            "  1.09367721e-01 1.20327387e-01 1.31416349e-01 1.42476718e-01\n",
            "  1.53337365e-01 1.63818023e-01 1.73734055e-01 1.82901734e-01\n",
            "  1.91143828e-01 1.98295257e-01 2.04208570e-01 2.08758992e-01\n",
            "  2.11848801e-01 2.13410813e-01 2.13410813e-01 2.11848801e-01\n",
            "  2.08758992e-01 2.04208570e-01 1.98295257e-01 1.91143828e-01\n",
            "  1.82901734e-01 1.73734055e-01 1.63818023e-01 1.53337365e-01\n",
            "  1.42476718e-01 1.31416349e-01 1.20327387e-01 1.09367721e-01\n",
            "  9.86787027e-02 8.83827052e-02 7.85815769e-02 6.93559587e-02\n",
            "  6.07654068e-02 5.28492259e-02 4.56278959e-02 3.91049599e-02\n",
            "  3.32692367e-02 2.80972245e-02 2.35555688e-02 1.96034884e-02\n",
            "  1.61950657e-02 1.32813328e-02 1.08121036e-02 8.73752283e-03\n",
            "  7.00932248e-03 5.58178815e-03 4.41245458e-03 3.46255545e-03\n",
            "  2.69726003e-03 2.08573192e-03 1.60104577e-03 1.21999654e-03\n",
            "  9.22832842e-04 6.92942302e-04 5.16512336e-04 3.82185241e-04\n",
            "  2.80722173e-04 2.04686458e-04 1.48153221e-04 1.06449267e-04\n",
            "  7.59248321e-05 5.37569472e-05 3.77828701e-05 2.63611823e-05]\n",
            " [3.05332527e-05 4.37626018e-05 6.22648270e-05 8.79411273e-05\n",
            "  1.23296532e-04 1.71600791e-04 2.37081300e-04 3.25150858e-04\n",
            "  4.42672048e-04 5.98258512e-04 8.02611287e-04 1.06888561e-03\n",
            "  1.41308013e-03 1.85443637e-03 2.41583170e-03 3.12414373e-03\n",
            "  4.01055914e-03 5.11079470e-03 6.46519365e-03 8.11865767e-03\n",
            "  1.01203728e-02 1.25232885e-02 1.53833120e-02 1.87581888e-02\n",
            "  2.27060478e-02 2.72836069e-02 3.25440508e-02 3.85346151e-02\n",
            "  4.52939330e-02 5.28492259e-02 6.12134447e-02 7.03824853e-02\n",
            "  8.03326267e-02 9.10183436e-02 1.02370654e-01 1.14296155e-01\n",
            "  1.26676878e-01 1.39371083e-01 1.52215047e-01 1.65025893e-01\n",
            "  1.77605408e-01 1.89744794e-01 2.01230193e-01 2.11848801e-01\n",
            "  2.21395336e-01 2.29678590e-01 2.36527778e-01 2.41798376e-01\n",
            "  2.45377196e-01 2.47186420e-01 2.47186420e-01 2.45377196e-01\n",
            "  2.41798376e-01 2.36527778e-01 2.29678590e-01 2.21395336e-01\n",
            "  2.11848801e-01 2.01230193e-01 1.89744794e-01 1.77605408e-01\n",
            "  1.65025893e-01 1.52215047e-01 1.39371083e-01 1.26676878e-01\n",
            "  1.14296155e-01 1.02370654e-01 9.10183436e-02 8.03326267e-02\n",
            "  7.03824853e-02 6.12134447e-02 5.28492259e-02 4.52939330e-02\n",
            "  3.85346151e-02 3.25440508e-02 2.72836069e-02 2.27060478e-02\n",
            "  1.87581888e-02 1.53833120e-02 1.25232885e-02 1.01203728e-02\n",
            "  8.11865767e-03 6.46519365e-03 5.11079470e-03 4.01055914e-03\n",
            "  3.12414373e-03 2.41583170e-03 1.85443637e-03 1.41308013e-03\n",
            "  1.06888561e-03 8.02611287e-04 5.98258512e-04 4.42672048e-04\n",
            "  3.25150858e-04 2.37081300e-04 1.71600791e-04 1.23296532e-04\n",
            "  8.79411273e-05 6.22648270e-05 4.37626018e-05 3.05332527e-05]\n",
            " [3.51067682e-05 5.03177152e-05 7.15913521e-05 1.01113655e-04\n",
            "  1.41764875e-04 1.97304534e-04 2.72593238e-04 3.73854561e-04\n",
            "  5.08979018e-04 6.87870469e-04 9.22832842e-04 1.22899187e-03\n",
            "  1.62474260e-03 2.13220872e-03 2.77769434e-03 3.59210302e-03\n",
            "  4.61129285e-03 5.87633052e-03 7.43360220e-03 9.33473532e-03\n",
            "  1.16362834e-02 1.43991271e-02 1.76875478e-02 2.15679408e-02\n",
            "  2.61071417e-02 3.13703643e-02 3.74187597e-02 4.43066388e-02\n",
            "  5.20784215e-02 6.07654068e-02 7.03824853e-02 8.09249383e-02\n",
            "  9.23654917e-02 1.04651801e-01 1.17704552e-01 1.31416349e-01\n",
            "  1.45651557e-01 1.60247201e-01 1.75015038e-01 1.89744794e-01\n",
            "  2.04208570e-01 2.18166291e-01 2.31372066e-01 2.43581213e-01\n",
            "  2.54557705e-01 2.64081692e-01 2.71956805e-01 2.78016876e-01\n",
            "  2.82131760e-01 2.84211985e-01 2.84211985e-01 2.82131760e-01\n",
            "  2.78016876e-01 2.71956805e-01 2.64081692e-01 2.54557705e-01\n",
            "  2.43581213e-01 2.31372066e-01 2.18166291e-01 2.04208570e-01\n",
            "  1.89744794e-01 1.75015038e-01 1.60247201e-01 1.45651557e-01\n",
            "  1.31416349e-01 1.17704552e-01 1.04651801e-01 9.23654917e-02\n",
            "  8.09249383e-02 7.03824853e-02 6.07654068e-02 5.20784215e-02\n",
            "  4.43066388e-02 3.74187597e-02 3.13703643e-02 2.61071417e-02\n",
            "  2.15679408e-02 1.76875478e-02 1.43991271e-02 1.16362834e-02\n",
            "  9.33473532e-03 7.43360220e-03 5.87633052e-03 4.61129285e-03\n",
            "  3.59210302e-03 2.77769434e-03 2.13220872e-03 1.62474260e-03\n",
            "  1.22899187e-03 9.22832842e-04 6.87870469e-04 5.08979018e-04\n",
            "  3.73854561e-04 2.72593238e-04 1.97304534e-04 1.41764875e-04\n",
            "  1.01113655e-04 7.15913521e-05 5.03177152e-05 3.51067682e-05]\n",
            " [4.00698965e-05 5.74312518e-05 8.17123940e-05 1.15408335e-04\n",
            "  1.61806517e-04 2.25197951e-04 3.11130401e-04 4.26707281e-04\n",
            "  5.80934607e-04 7.85116374e-04 1.05329594e-03 1.40273741e-03\n",
            "  1.85443637e-03 2.43364420e-03 3.17038368e-03 4.09992728e-03\n",
            "  5.26320243e-03 6.70708151e-03 8.48450844e-03 1.06544093e-02\n",
            "  1.32813328e-02 1.64347663e-02 2.01880791e-02 2.46170525e-02\n",
            "  2.97979712e-02 3.58052682e-02 4.27087399e-02 5.05703750e-02\n",
            "  5.94408733e-02 6.93559587e-02 8.03326267e-02 9.23654917e-02\n",
            "  1.05423424e-01 1.19446678e-01 1.34344728e-01 1.49994995e-01\n",
            "  1.66242668e-01 1.82901734e-01 1.99757335e-01 2.16569473e-01\n",
            "  2.33078027e-01 2.49008985e-01 2.64081692e-01 2.78016876e-01\n",
            "  2.90545140e-01 3.01415556e-01 3.10403994e-01 3.17320791e-01\n",
            "  3.22017406e-01 3.24391717e-01 3.24391717e-01 3.22017406e-01\n",
            "  3.17320791e-01 3.10403994e-01 3.01415556e-01 2.90545140e-01\n",
            "  2.78016876e-01 2.64081692e-01 2.49008985e-01 2.33078027e-01\n",
            "  2.16569473e-01 1.99757335e-01 1.82901734e-01 1.66242668e-01\n",
            "  1.49994995e-01 1.34344728e-01 1.19446678e-01 1.05423424e-01\n",
            "  9.23654917e-02 8.03326267e-02 6.93559587e-02 5.94408733e-02\n",
            "  5.05703750e-02 4.27087399e-02 3.58052682e-02 2.97979712e-02\n",
            "  2.46170525e-02 2.01880791e-02 1.64347663e-02 1.32813328e-02\n",
            "  1.06544093e-02 8.48450844e-03 6.70708151e-03 5.26320243e-03\n",
            "  4.09992728e-03 3.17038368e-03 2.43364420e-03 1.85443637e-03\n",
            "  1.40273741e-03 1.05329594e-03 7.85116374e-04 5.80934607e-04\n",
            "  4.26707281e-04 3.11130401e-04 2.25197951e-04 1.61806517e-04\n",
            "  1.15408335e-04 8.17123940e-05 5.74312518e-05 4.00698965e-05]\n",
            " [4.53999298e-05 6.50706646e-05 9.25816453e-05 1.30759767e-04\n",
            "  1.83329760e-04 2.55153420e-04 3.52516467e-04 4.83467198e-04\n",
            "  6.58209595e-04 8.89551292e-04 1.19340368e-03 1.58932728e-03\n",
            "  2.10111052e-03 2.75736364e-03 3.59210302e-03 4.64529302e-03\n",
            "  5.96330516e-03 7.59924672e-03 9.61310412e-03 1.20716417e-02\n",
            "  1.50479944e-02 1.86208925e-02 2.28734649e-02 2.78915732e-02\n",
            "  3.37616495e-02 4.05680275e-02 4.83897878e-02 5.72971650e-02\n",
            "  6.73476028e-02 7.85815769e-02 9.10183436e-02 1.04651801e-01\n",
            "  1.19446678e-01 1.35335283e-01 1.52215047e-01 1.69947088e-01\n",
            "  1.88356000e-01 2.07231028e-01 2.26328735e-01 2.45377196e-01\n",
            "  2.64081692e-01 2.82131760e-01 2.99209414e-01 3.14998234e-01\n",
            "  3.29192988e-01 3.41509369e-01 3.51693434e-01 3.59530293e-01\n",
            "  3.64851644e-01 3.67541782e-01 3.67541782e-01 3.64851644e-01\n",
            "  3.59530293e-01 3.51693434e-01 3.41509369e-01 3.29192988e-01\n",
            "  3.14998234e-01 2.99209414e-01 2.82131760e-01 2.64081692e-01\n",
            "  2.45377196e-01 2.26328735e-01 2.07231028e-01 1.88356000e-01\n",
            "  1.69947088e-01 1.52215047e-01 1.35335283e-01 1.19446678e-01\n",
            "  1.04651801e-01 9.10183436e-02 7.85815769e-02 6.73476028e-02\n",
            "  5.72971650e-02 4.83897878e-02 4.05680275e-02 3.37616495e-02\n",
            "  2.78915732e-02 2.28734649e-02 1.86208925e-02 1.50479944e-02\n",
            "  1.20716417e-02 9.61310412e-03 7.59924672e-03 5.96330516e-03\n",
            "  4.64529302e-03 3.59210302e-03 2.75736364e-03 2.10111052e-03\n",
            "  1.58932728e-03 1.19340368e-03 8.89551292e-04 6.58209595e-04\n",
            "  4.83467198e-04 3.52516467e-04 2.55153420e-04 1.83329760e-04\n",
            "  1.30759767e-04 9.25816453e-05 6.50706646e-05 4.53999298e-05]\n",
            " [5.10624598e-05 7.31866373e-05 1.04128939e-04 1.47068847e-04\n",
            "  2.06195660e-04 2.86977564e-04 3.96484267e-04 5.43767897e-04\n",
            "  7.40305131e-04 1.00050104e-03 1.34225158e-03 1.78755696e-03\n",
            "  2.36317263e-03 3.10127727e-03 4.04012995e-03 5.22467962e-03\n",
            "  6.70708151e-03 8.54706674e-03 1.08121036e-02 1.35772836e-02\n",
            "  1.69248634e-02 2.09433931e-02 2.57263698e-02 3.13703643e-02\n",
            "  3.79725889e-02 4.56278959e-02 5.44252294e-02 6.44435839e-02\n",
            "  7.57475678e-02 8.83827052e-02 1.02370654e-01 1.17704552e-01\n",
            "  1.34344728e-01 1.52215047e-01 1.71200149e-01 1.91143828e-01\n",
            "  2.11848801e-01 2.33078027e-01 2.54557705e-01 2.75981995e-01\n",
            "  2.97019419e-01 3.17320791e-01 3.36528464e-01 3.54286554e-01\n",
            "  3.70251755e-01 3.84104304e-01 3.95558582e-01 4.04372897e-01\n",
            "  4.10357956e-01 4.13383623e-01 4.13383623e-01 4.10357956e-01\n",
            "  4.04372897e-01 3.95558582e-01 3.84104304e-01 3.70251755e-01\n",
            "  3.54286554e-01 3.36528464e-01 3.17320791e-01 2.97019419e-01\n",
            "  2.75981995e-01 2.54557705e-01 2.33078027e-01 2.11848801e-01\n",
            "  1.91143828e-01 1.71200149e-01 1.52215047e-01 1.34344728e-01\n",
            "  1.17704552e-01 1.02370654e-01 8.83827052e-02 7.57475678e-02\n",
            "  6.44435839e-02 5.44252294e-02 4.56278959e-02 3.79725889e-02\n",
            "  3.13703643e-02 2.57263698e-02 2.09433931e-02 1.69248634e-02\n",
            "  1.35772836e-02 1.08121036e-02 8.54706674e-03 6.70708151e-03\n",
            "  5.22467962e-03 4.04012995e-03 3.10127727e-03 2.36317263e-03\n",
            "  1.78755696e-03 1.34225158e-03 1.00050104e-03 7.40305131e-04\n",
            "  5.43767897e-04 3.96484267e-04 2.86977564e-04 2.06195660e-04\n",
            "  1.47068847e-04 1.04128939e-04 7.31866373e-05 5.10624598e-05]\n",
            " [5.70108968e-05 8.17123940e-05 1.16259269e-04 1.64201390e-04\n",
            "  2.30216084e-04 3.20408542e-04 4.42672048e-04 6.07113242e-04\n",
            "  8.26545757e-04 1.11705276e-03 1.49861496e-03 1.99579546e-03\n",
            "  2.63846653e-03 3.46255545e-03 4.51077823e-03 5.83332006e-03\n",
            "  7.48841192e-03 9.54274319e-03 1.20716417e-02 1.51589468e-02\n",
            "  1.88964974e-02 2.33831591e-02 2.87233208e-02 3.50248032e-02\n",
            "  4.23961430e-02 5.09432425e-02 6.07654068e-02 7.19508330e-02\n",
            "  8.45716558e-02 9.86787027e-02 1.14296155e-01 1.31416349e-01\n",
            "  1.49994995e-01 1.69947088e-01 1.91143828e-01 2.13410813e-01\n",
            "  2.36527778e-01 2.60230067e-01 2.84211985e-01 3.08132062e-01\n",
            "  3.31620206e-01 3.54286554e-01 3.75731793e-01 3.95558582e-01\n",
            "  4.13383623e-01 4.28849902e-01 4.41638527e-01 4.51479651e-01\n",
            "  4.58161930e-01 4.61540067e-01 4.61540067e-01 4.58161930e-01\n",
            "  4.51479651e-01 4.41638527e-01 4.28849902e-01 4.13383623e-01\n",
            "  3.95558582e-01 3.75731793e-01 3.54286554e-01 3.31620206e-01\n",
            "  3.08132062e-01 2.84211985e-01 2.60230067e-01 2.36527778e-01\n",
            "  2.13410813e-01 1.91143828e-01 1.69947088e-01 1.49994995e-01\n",
            "  1.31416349e-01 1.14296155e-01 9.86787027e-02 8.45716558e-02\n",
            "  7.19508330e-02 6.07654068e-02 5.09432425e-02 4.23961430e-02\n",
            "  3.50248032e-02 2.87233208e-02 2.33831591e-02 1.88964974e-02\n",
            "  1.51589468e-02 1.20716417e-02 9.54274319e-03 7.48841192e-03\n",
            "  5.83332006e-03 4.51077823e-03 3.46255545e-03 2.63846653e-03\n",
            "  1.99579546e-03 1.49861496e-03 1.11705276e-03 8.26545757e-04\n",
            "  6.07113242e-04 4.42672048e-04 3.20408542e-04 2.30216084e-04\n",
            "  1.64201390e-04 1.16259269e-04 8.17123940e-05 5.70108968e-05]\n",
            " [6.31863989e-05 9.05635976e-05 1.28852639e-04 1.81987920e-04\n",
            "  2.55153420e-04 3.55115655e-04 4.90622919e-04 6.72876618e-04\n",
            "  9.16078378e-04 1.23805352e-03 1.66094708e-03 2.21198289e-03\n",
            "  2.92426900e-03 3.83762442e-03 4.99939220e-03 6.46519365e-03\n",
            "  8.29956743e-03 1.05764268e-02 1.33792593e-02 1.68009857e-02\n",
            "  2.09433931e-02 2.59160565e-02 3.18346721e-02 3.88187401e-02\n",
            "  4.69885540e-02 5.64614875e-02 6.73476028e-02 7.97446503e-02\n",
            "  9.37325787e-02 1.09367721e-01 1.26676878e-01 1.45651557e-01\n",
            "  1.66242668e-01 1.88356000e-01 2.11848801e-01 2.36527778e-01\n",
            "  2.62148806e-01 2.88418561e-01 3.14998234e-01 3.41509369e-01\n",
            "  3.67541782e-01 3.92663381e-01 4.16431599e-01 4.38406054e-01\n",
            "  4.58161930e-01 4.75303537e-01 4.89477445e-01 5.00384574e-01\n",
            "  5.07790687e-01 5.11534749e-01 5.11534749e-01 5.07790687e-01\n",
            "  5.00384574e-01 4.89477445e-01 4.75303537e-01 4.58161930e-01\n",
            "  4.38406054e-01 4.16431599e-01 3.92663381e-01 3.67541782e-01\n",
            "  3.41509369e-01 3.14998234e-01 2.88418561e-01 2.62148806e-01\n",
            "  2.36527778e-01 2.11848801e-01 1.88356000e-01 1.66242668e-01\n",
            "  1.45651557e-01 1.26676878e-01 1.09367721e-01 9.37325787e-02\n",
            "  7.97446503e-02 6.73476028e-02 5.64614875e-02 4.69885540e-02\n",
            "  3.88187401e-02 3.18346721e-02 2.59160565e-02 2.09433931e-02\n",
            "  1.68009857e-02 1.33792593e-02 1.05764268e-02 8.29956743e-03\n",
            "  6.46519365e-03 4.99939220e-03 3.83762442e-03 2.92426900e-03\n",
            "  2.21198289e-03 1.66094708e-03 1.23805352e-03 9.16078378e-04\n",
            "  6.72876618e-04 4.90622919e-04 3.55115655e-04 2.55153420e-04\n",
            "  1.81987920e-04 1.28852639e-04 9.05635976e-05 6.31863989e-05]\n",
            " [6.95182654e-05 9.96389147e-05 1.41764875e-04 2.00224807e-04\n",
            "  2.80722173e-04 3.90701555e-04 5.39787912e-04 7.40305131e-04\n",
            "  1.00787798e-03 1.36211803e-03 1.82738947e-03 2.43364420e-03\n",
            "  3.21730803e-03 4.22219018e-03 5.50037792e-03 7.11306635e-03\n",
            "  9.13126150e-03 1.16362834e-02 1.47199858e-02 1.84846012e-02\n",
            "  2.30421164e-02 2.85130870e-02 3.50248032e-02 4.27087399e-02\n",
            "  5.16972453e-02 6.21194552e-02 7.40964607e-02 8.77358081e-02\n",
            "  1.03125457e-01 1.20327387e-01 1.39371083e-01 1.60247201e-01\n",
            "  1.82901734e-01 2.07231028e-01 2.33078027e-01 2.60230067e-01\n",
            "  2.88418561e-01 3.17320791e-01 3.46563995e-01 3.75731793e-01\n",
            "  4.04372897e-01 4.32011914e-01 4.58161930e-01 4.82338430e-01\n",
            "  5.04074029e-01 5.22933385e-01 5.38527650e-01 5.50527775e-01\n",
            "  5.58676050e-01 5.62795302e-01 5.62795302e-01 5.58676050e-01\n",
            "  5.50527775e-01 5.38527650e-01 5.22933385e-01 5.04074029e-01\n",
            "  4.82338430e-01 4.58161930e-01 4.32011914e-01 4.04372897e-01\n",
            "  3.75731793e-01 3.46563995e-01 3.17320791e-01 2.88418561e-01\n",
            "  2.60230067e-01 2.33078027e-01 2.07231028e-01 1.82901734e-01\n",
            "  1.60247201e-01 1.39371083e-01 1.20327387e-01 1.03125457e-01\n",
            "  8.77358081e-02 7.40964607e-02 6.21194552e-02 5.16972453e-02\n",
            "  4.27087399e-02 3.50248032e-02 2.85130870e-02 2.30421164e-02\n",
            "  1.84846012e-02 1.47199858e-02 1.16362834e-02 9.13126150e-03\n",
            "  7.11306635e-03 5.50037792e-03 4.22219018e-03 3.21730803e-03\n",
            "  2.43364420e-03 1.82738947e-03 1.36211803e-03 1.00787798e-03\n",
            "  7.40305131e-04 5.39787912e-04 3.90701555e-04 2.80722173e-04\n",
            "  2.00224807e-04 1.41764875e-04 9.96389147e-05 6.95182654e-05]\n",
            " [7.59248321e-05 1.08821298e-04 1.54829444e-04 2.18676843e-04\n",
            "  3.06592572e-04 4.26707281e-04 5.89532928e-04 8.08529132e-04\n",
            "  1.10076058e-03 1.48764619e-03 1.99579546e-03 2.65792057e-03\n",
            "  3.51380419e-03 4.61129285e-03 6.00727403e-03 7.76858233e-03\n",
            "  9.97276747e-03 1.27086437e-02 1.60765296e-02 2.01880791e-02\n",
            "  2.51655994e-02 3.11407561e-02 3.82525698e-02 4.66446320e-02\n",
            "  5.64614875e-02 6.78441727e-02 8.09249383e-02 9.58212415e-02\n",
            "  1.12629148e-01 1.31416349e-01 1.52215047e-01 1.75015038e-01\n",
            "  1.99757335e-01 2.26328735e-01 2.54557705e-01 2.84211985e-01\n",
            "  3.14998234e-01 3.46563995e-01 3.78502153e-01 4.10357956e-01\n",
            "  4.41638527e-01 4.71824662e-01 5.00384574e-01 5.26789098e-01\n",
            "  5.50527775e-01 5.71125146e-01 5.88156525e-01 6.01262541e-01\n",
            "  6.10161733e-01 6.14660601e-01 6.14660601e-01 6.10161733e-01\n",
            "  6.01262541e-01 5.88156525e-01 5.71125146e-01 5.50527775e-01\n",
            "  5.26789098e-01 5.00384574e-01 4.71824662e-01 4.41638527e-01\n",
            "  4.10357956e-01 3.78502153e-01 3.46563995e-01 3.14998234e-01\n",
            "  2.84211985e-01 2.54557705e-01 2.26328735e-01 1.99757335e-01\n",
            "  1.75015038e-01 1.52215047e-01 1.31416349e-01 1.12629148e-01\n",
            "  9.58212415e-02 8.09249383e-02 6.78441727e-02 5.64614875e-02\n",
            "  4.66446320e-02 3.82525698e-02 3.11407561e-02 2.51655994e-02\n",
            "  2.01880791e-02 1.60765296e-02 1.27086437e-02 9.97276747e-03\n",
            "  7.76858233e-03 6.00727403e-03 4.61129285e-03 3.51380419e-03\n",
            "  2.65792057e-03 1.99579546e-03 1.48764619e-03 1.10076058e-03\n",
            "  8.08529132e-04 5.89532928e-04 4.26707281e-04 3.06592572e-04\n",
            "  2.18676843e-04 1.54829444e-04 1.08821298e-04 7.59248321e-05]\n",
            " [8.23148789e-05 1.17980004e-04 1.67860324e-04 2.37081300e-04\n",
            "  3.32396263e-04 4.62620162e-04 6.39149673e-04 8.76577212e-04\n",
            "  1.19340368e-03 1.61285067e-03 2.16376721e-03 2.88161862e-03\n",
            "  3.80953580e-03 4.99939220e-03 6.51286306e-03 8.42240801e-03\n",
            "  1.08121036e-02 1.37782388e-02 1.74295755e-02 2.18871644e-02\n",
            "  2.72836069e-02 3.37616495e-02 4.14720134e-02 5.05703750e-02\n",
            "  6.12134447e-02 7.35541286e-02 8.77358081e-02 1.03885826e-01\n",
            "  1.22108334e-01 1.42476718e-01 1.65025893e-01 1.89744794e-01\n",
            "  2.16569473e-01 2.45377196e-01 2.75981995e-01 3.08132062e-01\n",
            "  3.41509369e-01 3.75731793e-01 4.10357956e-01 4.44894833e-01\n",
            "  4.78808064e-01 5.11534749e-01 5.42498343e-01 5.71125146e-01\n",
            "  5.96861737e-01 6.19192640e-01 6.37657428e-01 6.51866483e-01\n",
            "  6.61514656e-01 6.66392161e-01 6.66392161e-01 6.61514656e-01\n",
            "  6.51866483e-01 6.37657428e-01 6.19192640e-01 5.96861737e-01\n",
            "  5.71125146e-01 5.42498343e-01 5.11534749e-01 4.78808064e-01\n",
            "  4.44894833e-01 4.10357956e-01 3.75731793e-01 3.41509369e-01\n",
            "  3.08132062e-01 2.75981995e-01 2.45377196e-01 2.16569473e-01\n",
            "  1.89744794e-01 1.65025893e-01 1.42476718e-01 1.22108334e-01\n",
            "  1.03885826e-01 8.77358081e-02 7.35541286e-02 6.12134447e-02\n",
            "  5.05703750e-02 4.14720134e-02 3.37616495e-02 2.72836069e-02\n",
            "  2.18871644e-02 1.74295755e-02 1.37782388e-02 1.08121036e-02\n",
            "  8.42240801e-03 6.51286306e-03 4.99939220e-03 3.80953580e-03\n",
            "  2.88161862e-03 2.16376721e-03 1.61285067e-03 1.19340368e-03\n",
            "  8.76577212e-04 6.39149673e-04 4.62620162e-04 3.32396263e-04\n",
            "  2.37081300e-04 1.67860324e-04 1.17980004e-04 8.23148789e-05]\n",
            " [8.85895382e-05 1.26973327e-04 1.80655901e-04 2.55153420e-04\n",
            "  3.57734007e-04 4.97884551e-04 6.87870469e-04 9.43396521e-04\n",
            "  1.28437388e-03 1.73579428e-03 2.32870582e-03 3.10127727e-03\n",
            "  4.09992728e-03 5.38048348e-03 7.00932248e-03 9.06442731e-03\n",
            "  1.16362834e-02 1.48285198e-02 1.87581888e-02 2.35555688e-02\n",
            "  2.93633686e-02 3.63352164e-02 4.46333222e-02 5.44252294e-02\n",
            "  6.58795939e-02 7.91609776e-02 9.44236914e-02 1.11804785e-01\n",
            "  1.31416349e-01 1.53337365e-01 1.77605408e-01 2.04208570e-01\n",
            "  2.33078027e-01 2.64081692e-01 2.97019419e-01 3.31620206e-01\n",
            "  3.67541782e-01 4.04372897e-01 4.41638527e-01 4.78808064e-01\n",
            "  5.15306416e-01 5.50527775e-01 5.83851648e-01 6.14660601e-01\n",
            "  6.42359029e-01 6.66392161e-01 6.86264474e-01 7.01556650e-01\n",
            "  7.11940279e-01 7.17189585e-01 7.17189585e-01 7.11940279e-01\n",
            "  7.01556650e-01 6.86264474e-01 6.66392161e-01 6.42359029e-01\n",
            "  6.14660601e-01 5.83851648e-01 5.50527775e-01 5.15306416e-01\n",
            "  4.78808064e-01 4.41638527e-01 4.04372897e-01 3.67541782e-01\n",
            "  3.31620206e-01 2.97019419e-01 2.64081692e-01 2.33078027e-01\n",
            "  2.04208570e-01 1.77605408e-01 1.53337365e-01 1.31416349e-01\n",
            "  1.11804785e-01 9.44236914e-02 7.91609776e-02 6.58795939e-02\n",
            "  5.44252294e-02 4.46333222e-02 3.63352164e-02 2.93633686e-02\n",
            "  2.35555688e-02 1.87581888e-02 1.48285198e-02 1.16362834e-02\n",
            "  9.06442731e-03 7.00932248e-03 5.38048348e-03 4.09992728e-03\n",
            "  3.10127727e-03 2.32870582e-03 1.73579428e-03 1.28437388e-03\n",
            "  9.43396521e-04 6.87870469e-04 4.97884551e-04 3.57734007e-04\n",
            "  2.55153420e-04 1.80655901e-04 1.26973327e-04 8.85895382e-05]\n",
            " [9.46446616e-05 1.35651995e-04 1.93003789e-04 2.72593238e-04\n",
            "  3.82185241e-04 5.31915120e-04 7.34886636e-04 1.00787798e-03\n",
            "  1.37216125e-03 1.85443637e-03 2.48787361e-03 3.31325056e-03\n",
            "  4.38015862e-03 5.74824125e-03 7.48841192e-03 9.68398383e-03\n",
            "  1.24316271e-02 1.58420539e-02 2.00403170e-02 2.51655994e-02\n",
            "  3.13703643e-02 3.88187401e-02 4.76840241e-02 5.81452113e-02\n",
            "  7.03824853e-02 8.45716558e-02 1.00877581e-01 1.19446678e-01\n",
            "  1.40398699e-01 1.63818023e-01 1.89744794e-01 2.18166291e-01\n",
            "  2.49008985e-01 2.82131760e-01 3.17320791e-01 3.54286554e-01\n",
            "  3.92663381e-01 4.32011914e-01 4.71824662e-01 5.11534749e-01\n",
            "  5.50527775e-01 5.88156525e-01 6.23758095e-01 6.56672850e-01\n",
            "  6.86264474e-01 7.11940279e-01 7.33170871e-01 7.49508272e-01\n",
            "  7.60601625e-01 7.66209723e-01 7.66209723e-01 7.60601625e-01\n",
            "  7.49508272e-01 7.33170871e-01 7.11940279e-01 6.86264474e-01\n",
            "  6.56672850e-01 6.23758095e-01 5.88156525e-01 5.50527775e-01\n",
            "  5.11534749e-01 4.71824662e-01 4.32011914e-01 3.92663381e-01\n",
            "  3.54286554e-01 3.17320791e-01 2.82131760e-01 2.49008985e-01\n",
            "  2.18166291e-01 1.89744794e-01 1.63818023e-01 1.40398699e-01\n",
            "  1.19446678e-01 1.00877581e-01 8.45716558e-02 7.03824853e-02\n",
            "  5.81452113e-02 4.76840241e-02 3.88187401e-02 3.13703643e-02\n",
            "  2.51655994e-02 2.00403170e-02 1.58420539e-02 1.24316271e-02\n",
            "  9.68398383e-03 7.48841192e-03 5.74824125e-03 4.38015862e-03\n",
            "  3.31325056e-03 2.48787361e-03 1.85443637e-03 1.37216125e-03\n",
            "  1.00787798e-03 7.34886636e-04 5.31915120e-04 3.82185241e-04\n",
            "  2.72593238e-04 1.93003789e-04 1.35651995e-04 9.46446616e-05]\n",
            " [1.00373576e-04 1.43863115e-04 2.04686458e-04 2.89093518e-04\n",
            "  4.05319210e-04 5.64112354e-04 7.79369894e-04 1.06888561e-03\n",
            "  1.45521923e-03 1.96668684e-03 2.63846653e-03 3.51380419e-03\n",
            "  4.64529302e-03 6.09618674e-03 7.94169129e-03 1.02701629e-02\n",
            "  1.31841231e-02 1.68009857e-02 2.12533729e-02 2.66888927e-02\n",
            "  3.32692367e-02 4.11684684e-02 5.05703750e-02 6.16647860e-02\n",
            "  7.46427916e-02 8.96908436e-02 1.06983779e-01 1.26676878e-01\n",
            "  1.48897141e-01 1.73734055e-01 2.01230193e-01 2.31372066e-01\n",
            "  2.64081692e-01 2.99209414e-01 3.36528464e-01 3.75731793e-01\n",
            "  4.16431599e-01 4.58161930e-01 5.00384574e-01 5.42498343e-01\n",
            "  5.83851648e-01 6.23758095e-01 6.61514656e-01 6.96421766e-01\n",
            "  7.27804594e-01 7.55034575e-01 7.77550272e-01 7.94876588e-01\n",
            "  8.06641431e-01 8.12588991e-01 8.12588991e-01 8.06641431e-01\n",
            "  7.94876588e-01 7.77550272e-01 7.55034575e-01 7.27804594e-01\n",
            "  6.96421766e-01 6.61514656e-01 6.23758095e-01 5.83851648e-01\n",
            "  5.42498343e-01 5.00384574e-01 4.58161930e-01 4.16431599e-01\n",
            "  3.75731793e-01 3.36528464e-01 2.99209414e-01 2.64081692e-01\n",
            "  2.31372066e-01 2.01230193e-01 1.73734055e-01 1.48897141e-01\n",
            "  1.26676878e-01 1.06983779e-01 8.96908436e-02 7.46427916e-02\n",
            "  6.16647860e-02 5.05703750e-02 4.11684684e-02 3.32692367e-02\n",
            "  2.66888927e-02 2.12533729e-02 1.68009857e-02 1.31841231e-02\n",
            "  1.02701629e-02 7.94169129e-03 6.09618674e-03 4.64529302e-03\n",
            "  3.51380419e-03 2.63846653e-03 1.96668684e-03 1.45521923e-03\n",
            "  1.06888561e-03 7.79369894e-04 5.64112354e-04 4.05319210e-04\n",
            "  2.89093518e-04 2.04686458e-04 1.43863115e-04 1.00373576e-04]\n",
            " [1.05670135e-04 1.51454550e-04 2.15487448e-04 3.04348538e-04\n",
            "  4.26707281e-04 5.93879695e-04 8.20496044e-04 1.12528906e-03\n",
            "  1.53200891e-03 2.07046588e-03 2.77769434e-03 3.69922223e-03\n",
            "  4.89041798e-03 6.41787314e-03 8.36076212e-03 1.08121036e-02\n",
            "  1.38798290e-02 1.76875478e-02 2.23748807e-02 2.80972245e-02\n",
            "  3.50248032e-02 4.33408652e-02 5.32388959e-02 6.49187419e-02\n",
            "  7.85815769e-02 9.44236914e-02 1.12629148e-01 1.33361422e-01\n",
            "  1.56754214e-01 1.82901734e-01 2.11848801e-01 2.43581213e-01\n",
            "  2.78016876e-01 3.14998234e-01 3.54286554e-01 3.95558582e-01\n",
            "  4.38406054e-01 4.82338430e-01 5.26789098e-01 5.71125146e-01\n",
            "  6.14660601e-01 6.56672850e-01 6.96421766e-01 7.33170871e-01\n",
            "  7.66209723e-01 7.94876588e-01 8.18580403e-01 8.36821003e-01\n",
            "  8.49206658e-01 8.55468061e-01 8.55468061e-01 8.49206658e-01\n",
            "  8.36821003e-01 8.18580403e-01 7.94876588e-01 7.66209723e-01\n",
            "  7.33170871e-01 6.96421766e-01 6.56672850e-01 6.14660601e-01\n",
            "  5.71125146e-01 5.26789098e-01 4.82338430e-01 4.38406054e-01\n",
            "  3.95558582e-01 3.54286554e-01 3.14998234e-01 2.78016876e-01\n",
            "  2.43581213e-01 2.11848801e-01 1.82901734e-01 1.56754214e-01\n",
            "  1.33361422e-01 1.12629148e-01 9.44236914e-02 7.85815769e-02\n",
            "  6.49187419e-02 5.32388959e-02 4.33408652e-02 3.50248032e-02\n",
            "  2.80972245e-02 2.23748807e-02 1.76875478e-02 1.38798290e-02\n",
            "  1.08121036e-02 8.36076212e-03 6.41787314e-03 4.89041798e-03\n",
            "  3.69922223e-03 2.77769434e-03 2.07046588e-03 1.53200891e-03\n",
            "  1.12528906e-03 8.20496044e-04 5.93879695e-04 4.26707281e-04\n",
            "  3.04348538e-04 2.15487448e-04 1.51454550e-04 1.05670135e-04]\n",
            " [1.10431945e-04 1.58279541e-04 2.25197951e-04 3.18063385e-04\n",
            "  4.45935975e-04 6.20641674e-04 8.57470026e-04 1.17599792e-03\n",
            "  1.60104577e-03 2.16376721e-03 2.90286548e-03 3.86592014e-03\n",
            "  5.11079470e-03 6.70708151e-03 8.73752283e-03 1.12993290e-02\n",
            "  1.45052953e-02 1.84846012e-02 2.33831591e-02 2.93633686e-02\n",
            "  3.66031246e-02 4.52939330e-02 5.56379983e-02 6.78441727e-02\n",
            "  8.21226955e-02 9.86787027e-02 1.17704552e-01 1.39371083e-01\n",
            "  1.63818023e-01 1.91143828e-01 2.21395336e-01 2.54557705e-01\n",
            "  2.90545140e-01 3.29192988e-01 3.70251755e-01 4.13383623e-01\n",
            "  4.58161930e-01 5.04074029e-01 5.50527775e-01 5.96861737e-01\n",
            "  6.42359029e-01 6.86264474e-01 7.27804594e-01 7.66209723e-01\n",
            "  8.00737403e-01 8.30696082e-01 8.55468061e-01 8.74530636e-01\n",
            "  8.87474426e-01 8.94017987e-01 8.94017987e-01 8.87474426e-01\n",
            "  8.74530636e-01 8.55468061e-01 8.30696082e-01 8.00737403e-01\n",
            "  7.66209723e-01 7.27804594e-01 6.86264474e-01 6.42359029e-01\n",
            "  5.96861737e-01 5.50527775e-01 5.04074029e-01 4.58161930e-01\n",
            "  4.13383623e-01 3.70251755e-01 3.29192988e-01 2.90545140e-01\n",
            "  2.54557705e-01 2.21395336e-01 1.91143828e-01 1.63818023e-01\n",
            "  1.39371083e-01 1.17704552e-01 9.86787027e-02 8.21226955e-02\n",
            "  6.78441727e-02 5.56379983e-02 4.52939330e-02 3.66031246e-02\n",
            "  2.93633686e-02 2.33831591e-02 1.84846012e-02 1.45052953e-02\n",
            "  1.12993290e-02 8.73752283e-03 6.70708151e-03 5.11079470e-03\n",
            "  3.86592014e-03 2.90286548e-03 2.16376721e-03 1.60104577e-03\n",
            "  1.17599792e-03 8.57470026e-04 6.20641674e-04 4.45935975e-04\n",
            "  3.18063385e-04 2.25197951e-04 1.58279541e-04 1.10431945e-04]\n",
            " [1.14563630e-04 1.64201390e-04 2.33623476e-04 3.29963365e-04\n",
            "  4.62620162e-04 6.43862276e-04 8.89551292e-04 1.21999654e-03\n",
            "  1.66094708e-03 2.24472210e-03 3.01147289e-03 4.01055914e-03\n",
            "  5.30200928e-03 6.95801934e-03 9.06442731e-03 1.17220805e-02\n",
            "  1.50479944e-02 1.91761815e-02 2.42580135e-02 3.04619657e-02\n",
            "  3.79725889e-02 4.69885540e-02 5.77196307e-02 7.03824853e-02\n",
            "  8.51952228e-02 1.02370654e-01 1.22108334e-01 1.44585493e-01\n",
            "  1.69947088e-01 1.98295257e-01 2.29678590e-01 2.64081692e-01\n",
            "  3.01415556e-01 3.41509369e-01 3.84104304e-01 4.28849902e-01\n",
            "  4.75303537e-01 5.22933385e-01 5.71125146e-01 6.19192640e-01\n",
            "  6.66392161e-01 7.11940279e-01 7.55034575e-01 7.94876588e-01\n",
            "  8.30696082e-01 8.61775631e-01 8.87474426e-01 9.07250205e-01\n",
            "  9.20678272e-01 9.27466653e-01 9.27466653e-01 9.20678272e-01\n",
            "  9.07250205e-01 8.87474426e-01 8.61775631e-01 8.30696082e-01\n",
            "  7.94876588e-01 7.55034575e-01 7.11940279e-01 6.66392161e-01\n",
            "  6.19192640e-01 5.71125146e-01 5.22933385e-01 4.75303537e-01\n",
            "  4.28849902e-01 3.84104304e-01 3.41509369e-01 3.01415556e-01\n",
            "  2.64081692e-01 2.29678590e-01 1.98295257e-01 1.69947088e-01\n",
            "  1.44585493e-01 1.22108334e-01 1.02370654e-01 8.51952228e-02\n",
            "  7.03824853e-02 5.77196307e-02 4.69885540e-02 3.79725889e-02\n",
            "  3.04619657e-02 2.42580135e-02 1.91761815e-02 1.50479944e-02\n",
            "  1.17220805e-02 9.06442731e-03 6.95801934e-03 5.30200928e-03\n",
            "  4.01055914e-03 3.01147289e-03 2.24472210e-03 1.66094708e-03\n",
            "  1.21999654e-03 8.89551292e-04 6.43862276e-04 4.62620162e-04\n",
            "  3.29963365e-04 2.33623476e-04 1.64201390e-04 1.14563630e-04]\n",
            " [1.17980004e-04 1.69097998e-04 2.40590303e-04 3.39803119e-04\n",
            "  4.76415842e-04 6.63062731e-04 9.16078378e-04 1.25637775e-03\n",
            "  1.71047776e-03 2.31166139e-03 3.10127727e-03 4.13015702e-03\n",
            "  5.46011916e-03 7.16551269e-03 9.33473532e-03 1.20716417e-02\n",
            "  1.54967368e-02 1.97480296e-02 2.49814056e-02 3.13703643e-02\n",
            "  3.91049599e-02 4.83897878e-02 5.94408733e-02 7.24813437e-02\n",
            "  8.77358081e-02 1.05423424e-01 1.25749695e-01 1.48897141e-01\n",
            "  1.75015038e-01 2.04208570e-01 2.36527778e-01 2.71956805e-01\n",
            "  3.10403994e-01 3.51693434e-01 3.95558582e-01 4.41638527e-01\n",
            "  4.89477445e-01 5.38527650e-01 5.88156525e-01 6.37657428e-01\n",
            "  6.86264474e-01 7.33170871e-01 7.77550272e-01 8.18580403e-01\n",
            "  8.55468061e-01 8.87474426e-01 9.13939578e-01 9.34305086e-01\n",
            "  9.48133588e-01 9.55124403e-01 9.55124403e-01 9.48133588e-01\n",
            "  9.34305086e-01 9.13939578e-01 8.87474426e-01 8.55468061e-01\n",
            "  8.18580403e-01 7.77550272e-01 7.33170871e-01 6.86264474e-01\n",
            "  6.37657428e-01 5.88156525e-01 5.38527650e-01 4.89477445e-01\n",
            "  4.41638527e-01 3.95558582e-01 3.51693434e-01 3.10403994e-01\n",
            "  2.71956805e-01 2.36527778e-01 2.04208570e-01 1.75015038e-01\n",
            "  1.48897141e-01 1.25749695e-01 1.05423424e-01 8.77358081e-02\n",
            "  7.24813437e-02 5.94408733e-02 4.83897878e-02 3.91049599e-02\n",
            "  3.13703643e-02 2.49814056e-02 1.97480296e-02 1.54967368e-02\n",
            "  1.20716417e-02 9.33473532e-03 7.16551269e-03 5.46011916e-03\n",
            "  4.13015702e-03 3.10127727e-03 2.31166139e-03 1.71047776e-03\n",
            "  1.25637775e-03 9.16078378e-04 6.63062731e-04 4.76415842e-04\n",
            "  3.39803119e-04 2.40590303e-04 1.69097998e-04 1.17980004e-04]\n",
            " [1.20608977e-04 1.72866045e-04 2.45951427e-04 3.47375024e-04\n",
            "  4.87031917e-04 6.77837898e-04 9.36491545e-04 1.28437388e-03\n",
            "  1.74859270e-03 2.36317263e-03 3.17038368e-03 4.22219018e-03\n",
            "  5.58178815e-03 7.32518332e-03 9.54274319e-03 1.23406367e-02\n",
            "  1.58420539e-02 2.01880791e-02 2.55380715e-02 3.20693967e-02\n",
            "  3.99763439e-02 4.94680677e-02 6.07654068e-02 7.40964607e-02\n",
            "  8.96908436e-02 1.07772596e-01 1.28551802e-01 1.52215047e-01\n",
            "  1.78914935e-01 2.08758992e-01 2.41798376e-01 2.78016876e-01\n",
            "  3.17320791e-01 3.59530293e-01 4.04372897e-01 4.51479651e-01\n",
            "  5.00384574e-01 5.50527775e-01 6.01262541e-01 6.51866483e-01\n",
            "  7.01556650e-01 7.49508272e-01 7.94876588e-01 8.36821003e-01\n",
            "  8.74530636e-01 9.07250205e-01 9.34305086e-01 9.55124403e-01\n",
            "  9.69261048e-01 9.76407641e-01 9.76407641e-01 9.69261048e-01\n",
            "  9.55124403e-01 9.34305086e-01 9.07250205e-01 8.74530636e-01\n",
            "  8.36821003e-01 7.94876588e-01 7.49508272e-01 7.01556650e-01\n",
            "  6.51866483e-01 6.01262541e-01 5.50527775e-01 5.00384574e-01\n",
            "  4.51479651e-01 4.04372897e-01 3.59530293e-01 3.17320791e-01\n",
            "  2.78016876e-01 2.41798376e-01 2.08758992e-01 1.78914935e-01\n",
            "  1.52215047e-01 1.28551802e-01 1.07772596e-01 8.96908436e-02\n",
            "  7.40964607e-02 6.07654068e-02 4.94680677e-02 3.99763439e-02\n",
            "  3.20693967e-02 2.55380715e-02 2.01880791e-02 1.58420539e-02\n",
            "  1.23406367e-02 9.54274319e-03 7.32518332e-03 5.58178815e-03\n",
            "  4.22219018e-03 3.17038368e-03 2.36317263e-03 1.74859270e-03\n",
            "  1.28437388e-03 9.36491545e-04 6.77837898e-04 4.87031917e-04\n",
            "  3.47375024e-04 2.45951427e-04 1.72866045e-04 1.20608977e-04]\n",
            " [1.22394091e-04 1.75424608e-04 2.49591715e-04 3.52516467e-04\n",
            "  4.94240399e-04 6.87870469e-04 9.50352408e-04 1.30338370e-03\n",
            "  1.77447335e-03 2.39814957e-03 3.21730803e-03 4.28468215e-03\n",
            "  5.66440331e-03 7.43360220e-03 9.68398383e-03 1.25232885e-02\n",
            "  1.60765296e-02 2.04868796e-02 2.59160565e-02 3.25440508e-02\n",
            "  4.05680275e-02 5.02002367e-02 6.16647860e-02 7.51931507e-02\n",
            "  9.10183436e-02 1.09367721e-01 1.30454477e-01 1.54467958e-01\n",
            "  1.81563026e-01 2.11848801e-01 2.45377196e-01 2.82131760e-01\n",
            "  3.22017406e-01 3.64851644e-01 4.10357956e-01 4.58161930e-01\n",
            "  5.07790687e-01 5.58676050e-01 6.10161733e-01 6.61514656e-01\n",
            "  7.11940279e-01 7.60601625e-01 8.06641431e-01 8.49206658e-01\n",
            "  8.87474426e-01 9.20678272e-01 9.48133588e-01 9.69261048e-01\n",
            "  9.83606928e-01 9.90859296e-01 9.90859296e-01 9.83606928e-01\n",
            "  9.69261048e-01 9.48133588e-01 9.20678272e-01 8.87474426e-01\n",
            "  8.49206658e-01 8.06641431e-01 7.60601625e-01 7.11940279e-01\n",
            "  6.61514656e-01 6.10161733e-01 5.58676050e-01 5.07790687e-01\n",
            "  4.58161930e-01 4.10357956e-01 3.64851644e-01 3.22017406e-01\n",
            "  2.82131760e-01 2.45377196e-01 2.11848801e-01 1.81563026e-01\n",
            "  1.54467958e-01 1.30454477e-01 1.09367721e-01 9.10183436e-02\n",
            "  7.51931507e-02 6.16647860e-02 5.02002367e-02 4.05680275e-02\n",
            "  3.25440508e-02 2.59160565e-02 2.04868796e-02 1.60765296e-02\n",
            "  1.25232885e-02 9.68398383e-03 7.43360220e-03 5.66440331e-03\n",
            "  4.28468215e-03 3.21730803e-03 2.39814957e-03 1.77447335e-03\n",
            "  1.30338370e-03 9.50352408e-04 6.87870469e-04 4.94240399e-04\n",
            "  3.52516467e-04 2.49591715e-04 1.75424608e-04 1.22394091e-04]\n",
            " [1.23296532e-04 1.76718055e-04 2.51432015e-04 3.55115655e-04\n",
            "  4.97884551e-04 6.92942302e-04 9.57359583e-04 1.31299386e-03\n",
            "  1.78755696e-03 2.41583170e-03 3.24103001e-03 4.31627413e-03\n",
            "  5.70616831e-03 7.48841192e-03 9.75538615e-03 1.26156257e-02\n",
            "  1.61950657e-02 2.06379343e-02 2.61071417e-02 3.27840059e-02\n",
            "  4.08671452e-02 5.05703750e-02 6.21194552e-02 7.57475678e-02\n",
            "  9.16894436e-02 1.10174115e-01 1.31416349e-01 1.55606887e-01\n",
            "  1.82901734e-01 2.13410813e-01 2.47186420e-01 2.84211985e-01\n",
            "  3.24391717e-01 3.67541782e-01 4.13383623e-01 4.61540067e-01\n",
            "  5.11534749e-01 5.62795302e-01 6.14660601e-01 6.66392161e-01\n",
            "  7.17189585e-01 7.66209723e-01 8.12588991e-01 8.55468061e-01\n",
            "  8.94017987e-01 9.27466653e-01 9.55124403e-01 9.76407641e-01\n",
            "  9.90859296e-01 9.98165138e-01 9.98165138e-01 9.90859296e-01\n",
            "  9.76407641e-01 9.55124403e-01 9.27466653e-01 8.94017987e-01\n",
            "  8.55468061e-01 8.12588991e-01 7.66209723e-01 7.17189585e-01\n",
            "  6.66392161e-01 6.14660601e-01 5.62795302e-01 5.11534749e-01\n",
            "  4.61540067e-01 4.13383623e-01 3.67541782e-01 3.24391717e-01\n",
            "  2.84211985e-01 2.47186420e-01 2.13410813e-01 1.82901734e-01\n",
            "  1.55606887e-01 1.31416349e-01 1.10174115e-01 9.16894436e-02\n",
            "  7.57475678e-02 6.21194552e-02 5.05703750e-02 4.08671452e-02\n",
            "  3.27840059e-02 2.61071417e-02 2.06379343e-02 1.61950657e-02\n",
            "  1.26156257e-02 9.75538615e-03 7.48841192e-03 5.70616831e-03\n",
            "  4.31627413e-03 3.24103001e-03 2.41583170e-03 1.78755696e-03\n",
            "  1.31299386e-03 9.57359583e-04 6.92942302e-04 4.97884551e-04\n",
            "  3.55115655e-04 2.51432015e-04 1.76718055e-04 1.23296532e-04]\n",
            " [1.23296532e-04 1.76718055e-04 2.51432015e-04 3.55115655e-04\n",
            "  4.97884551e-04 6.92942302e-04 9.57359583e-04 1.31299386e-03\n",
            "  1.78755696e-03 2.41583170e-03 3.24103001e-03 4.31627413e-03\n",
            "  5.70616831e-03 7.48841192e-03 9.75538615e-03 1.26156257e-02\n",
            "  1.61950657e-02 2.06379343e-02 2.61071417e-02 3.27840059e-02\n",
            "  4.08671452e-02 5.05703750e-02 6.21194552e-02 7.57475678e-02\n",
            "  9.16894436e-02 1.10174115e-01 1.31416349e-01 1.55606887e-01\n",
            "  1.82901734e-01 2.13410813e-01 2.47186420e-01 2.84211985e-01\n",
            "  3.24391717e-01 3.67541782e-01 4.13383623e-01 4.61540067e-01\n",
            "  5.11534749e-01 5.62795302e-01 6.14660601e-01 6.66392161e-01\n",
            "  7.17189585e-01 7.66209723e-01 8.12588991e-01 8.55468061e-01\n",
            "  8.94017987e-01 9.27466653e-01 9.55124403e-01 9.76407641e-01\n",
            "  9.90859296e-01 9.98165138e-01 9.98165138e-01 9.90859296e-01\n",
            "  9.76407641e-01 9.55124403e-01 9.27466653e-01 8.94017987e-01\n",
            "  8.55468061e-01 8.12588991e-01 7.66209723e-01 7.17189585e-01\n",
            "  6.66392161e-01 6.14660601e-01 5.62795302e-01 5.11534749e-01\n",
            "  4.61540067e-01 4.13383623e-01 3.67541782e-01 3.24391717e-01\n",
            "  2.84211985e-01 2.47186420e-01 2.13410813e-01 1.82901734e-01\n",
            "  1.55606887e-01 1.31416349e-01 1.10174115e-01 9.16894436e-02\n",
            "  7.57475678e-02 6.21194552e-02 5.05703750e-02 4.08671452e-02\n",
            "  3.27840059e-02 2.61071417e-02 2.06379343e-02 1.61950657e-02\n",
            "  1.26156257e-02 9.75538615e-03 7.48841192e-03 5.70616831e-03\n",
            "  4.31627413e-03 3.24103001e-03 2.41583170e-03 1.78755696e-03\n",
            "  1.31299386e-03 9.57359583e-04 6.92942302e-04 4.97884551e-04\n",
            "  3.55115655e-04 2.51432015e-04 1.76718055e-04 1.23296532e-04]\n",
            " [1.22394091e-04 1.75424608e-04 2.49591715e-04 3.52516467e-04\n",
            "  4.94240399e-04 6.87870469e-04 9.50352408e-04 1.30338370e-03\n",
            "  1.77447335e-03 2.39814957e-03 3.21730803e-03 4.28468215e-03\n",
            "  5.66440331e-03 7.43360220e-03 9.68398383e-03 1.25232885e-02\n",
            "  1.60765296e-02 2.04868796e-02 2.59160565e-02 3.25440508e-02\n",
            "  4.05680275e-02 5.02002367e-02 6.16647860e-02 7.51931507e-02\n",
            "  9.10183436e-02 1.09367721e-01 1.30454477e-01 1.54467958e-01\n",
            "  1.81563026e-01 2.11848801e-01 2.45377196e-01 2.82131760e-01\n",
            "  3.22017406e-01 3.64851644e-01 4.10357956e-01 4.58161930e-01\n",
            "  5.07790687e-01 5.58676050e-01 6.10161733e-01 6.61514656e-01\n",
            "  7.11940279e-01 7.60601625e-01 8.06641431e-01 8.49206658e-01\n",
            "  8.87474426e-01 9.20678272e-01 9.48133588e-01 9.69261048e-01\n",
            "  9.83606928e-01 9.90859296e-01 9.90859296e-01 9.83606928e-01\n",
            "  9.69261048e-01 9.48133588e-01 9.20678272e-01 8.87474426e-01\n",
            "  8.49206658e-01 8.06641431e-01 7.60601625e-01 7.11940279e-01\n",
            "  6.61514656e-01 6.10161733e-01 5.58676050e-01 5.07790687e-01\n",
            "  4.58161930e-01 4.10357956e-01 3.64851644e-01 3.22017406e-01\n",
            "  2.82131760e-01 2.45377196e-01 2.11848801e-01 1.81563026e-01\n",
            "  1.54467958e-01 1.30454477e-01 1.09367721e-01 9.10183436e-02\n",
            "  7.51931507e-02 6.16647860e-02 5.02002367e-02 4.05680275e-02\n",
            "  3.25440508e-02 2.59160565e-02 2.04868796e-02 1.60765296e-02\n",
            "  1.25232885e-02 9.68398383e-03 7.43360220e-03 5.66440331e-03\n",
            "  4.28468215e-03 3.21730803e-03 2.39814957e-03 1.77447335e-03\n",
            "  1.30338370e-03 9.50352408e-04 6.87870469e-04 4.94240399e-04\n",
            "  3.52516467e-04 2.49591715e-04 1.75424608e-04 1.22394091e-04]\n",
            " [1.20608977e-04 1.72866045e-04 2.45951427e-04 3.47375024e-04\n",
            "  4.87031917e-04 6.77837898e-04 9.36491545e-04 1.28437388e-03\n",
            "  1.74859270e-03 2.36317263e-03 3.17038368e-03 4.22219018e-03\n",
            "  5.58178815e-03 7.32518332e-03 9.54274319e-03 1.23406367e-02\n",
            "  1.58420539e-02 2.01880791e-02 2.55380715e-02 3.20693967e-02\n",
            "  3.99763439e-02 4.94680677e-02 6.07654068e-02 7.40964607e-02\n",
            "  8.96908436e-02 1.07772596e-01 1.28551802e-01 1.52215047e-01\n",
            "  1.78914935e-01 2.08758992e-01 2.41798376e-01 2.78016876e-01\n",
            "  3.17320791e-01 3.59530293e-01 4.04372897e-01 4.51479651e-01\n",
            "  5.00384574e-01 5.50527775e-01 6.01262541e-01 6.51866483e-01\n",
            "  7.01556650e-01 7.49508272e-01 7.94876588e-01 8.36821003e-01\n",
            "  8.74530636e-01 9.07250205e-01 9.34305086e-01 9.55124403e-01\n",
            "  9.69261048e-01 9.76407641e-01 9.76407641e-01 9.69261048e-01\n",
            "  9.55124403e-01 9.34305086e-01 9.07250205e-01 8.74530636e-01\n",
            "  8.36821003e-01 7.94876588e-01 7.49508272e-01 7.01556650e-01\n",
            "  6.51866483e-01 6.01262541e-01 5.50527775e-01 5.00384574e-01\n",
            "  4.51479651e-01 4.04372897e-01 3.59530293e-01 3.17320791e-01\n",
            "  2.78016876e-01 2.41798376e-01 2.08758992e-01 1.78914935e-01\n",
            "  1.52215047e-01 1.28551802e-01 1.07772596e-01 8.96908436e-02\n",
            "  7.40964607e-02 6.07654068e-02 4.94680677e-02 3.99763439e-02\n",
            "  3.20693967e-02 2.55380715e-02 2.01880791e-02 1.58420539e-02\n",
            "  1.23406367e-02 9.54274319e-03 7.32518332e-03 5.58178815e-03\n",
            "  4.22219018e-03 3.17038368e-03 2.36317263e-03 1.74859270e-03\n",
            "  1.28437388e-03 9.36491545e-04 6.77837898e-04 4.87031917e-04\n",
            "  3.47375024e-04 2.45951427e-04 1.72866045e-04 1.20608977e-04]\n",
            " [1.17980004e-04 1.69097998e-04 2.40590303e-04 3.39803119e-04\n",
            "  4.76415842e-04 6.63062731e-04 9.16078378e-04 1.25637775e-03\n",
            "  1.71047776e-03 2.31166139e-03 3.10127727e-03 4.13015702e-03\n",
            "  5.46011916e-03 7.16551269e-03 9.33473532e-03 1.20716417e-02\n",
            "  1.54967368e-02 1.97480296e-02 2.49814056e-02 3.13703643e-02\n",
            "  3.91049599e-02 4.83897878e-02 5.94408733e-02 7.24813437e-02\n",
            "  8.77358081e-02 1.05423424e-01 1.25749695e-01 1.48897141e-01\n",
            "  1.75015038e-01 2.04208570e-01 2.36527778e-01 2.71956805e-01\n",
            "  3.10403994e-01 3.51693434e-01 3.95558582e-01 4.41638527e-01\n",
            "  4.89477445e-01 5.38527650e-01 5.88156525e-01 6.37657428e-01\n",
            "  6.86264474e-01 7.33170871e-01 7.77550272e-01 8.18580403e-01\n",
            "  8.55468061e-01 8.87474426e-01 9.13939578e-01 9.34305086e-01\n",
            "  9.48133588e-01 9.55124403e-01 9.55124403e-01 9.48133588e-01\n",
            "  9.34305086e-01 9.13939578e-01 8.87474426e-01 8.55468061e-01\n",
            "  8.18580403e-01 7.77550272e-01 7.33170871e-01 6.86264474e-01\n",
            "  6.37657428e-01 5.88156525e-01 5.38527650e-01 4.89477445e-01\n",
            "  4.41638527e-01 3.95558582e-01 3.51693434e-01 3.10403994e-01\n",
            "  2.71956805e-01 2.36527778e-01 2.04208570e-01 1.75015038e-01\n",
            "  1.48897141e-01 1.25749695e-01 1.05423424e-01 8.77358081e-02\n",
            "  7.24813437e-02 5.94408733e-02 4.83897878e-02 3.91049599e-02\n",
            "  3.13703643e-02 2.49814056e-02 1.97480296e-02 1.54967368e-02\n",
            "  1.20716417e-02 9.33473532e-03 7.16551269e-03 5.46011916e-03\n",
            "  4.13015702e-03 3.10127727e-03 2.31166139e-03 1.71047776e-03\n",
            "  1.25637775e-03 9.16078378e-04 6.63062731e-04 4.76415842e-04\n",
            "  3.39803119e-04 2.40590303e-04 1.69097998e-04 1.17980004e-04]\n",
            " [1.14563630e-04 1.64201390e-04 2.33623476e-04 3.29963365e-04\n",
            "  4.62620162e-04 6.43862276e-04 8.89551292e-04 1.21999654e-03\n",
            "  1.66094708e-03 2.24472210e-03 3.01147289e-03 4.01055914e-03\n",
            "  5.30200928e-03 6.95801934e-03 9.06442731e-03 1.17220805e-02\n",
            "  1.50479944e-02 1.91761815e-02 2.42580135e-02 3.04619657e-02\n",
            "  3.79725889e-02 4.69885540e-02 5.77196307e-02 7.03824853e-02\n",
            "  8.51952228e-02 1.02370654e-01 1.22108334e-01 1.44585493e-01\n",
            "  1.69947088e-01 1.98295257e-01 2.29678590e-01 2.64081692e-01\n",
            "  3.01415556e-01 3.41509369e-01 3.84104304e-01 4.28849902e-01\n",
            "  4.75303537e-01 5.22933385e-01 5.71125146e-01 6.19192640e-01\n",
            "  6.66392161e-01 7.11940279e-01 7.55034575e-01 7.94876588e-01\n",
            "  8.30696082e-01 8.61775631e-01 8.87474426e-01 9.07250205e-01\n",
            "  9.20678272e-01 9.27466653e-01 9.27466653e-01 9.20678272e-01\n",
            "  9.07250205e-01 8.87474426e-01 8.61775631e-01 8.30696082e-01\n",
            "  7.94876588e-01 7.55034575e-01 7.11940279e-01 6.66392161e-01\n",
            "  6.19192640e-01 5.71125146e-01 5.22933385e-01 4.75303537e-01\n",
            "  4.28849902e-01 3.84104304e-01 3.41509369e-01 3.01415556e-01\n",
            "  2.64081692e-01 2.29678590e-01 1.98295257e-01 1.69947088e-01\n",
            "  1.44585493e-01 1.22108334e-01 1.02370654e-01 8.51952228e-02\n",
            "  7.03824853e-02 5.77196307e-02 4.69885540e-02 3.79725889e-02\n",
            "  3.04619657e-02 2.42580135e-02 1.91761815e-02 1.50479944e-02\n",
            "  1.17220805e-02 9.06442731e-03 6.95801934e-03 5.30200928e-03\n",
            "  4.01055914e-03 3.01147289e-03 2.24472210e-03 1.66094708e-03\n",
            "  1.21999654e-03 8.89551292e-04 6.43862276e-04 4.62620162e-04\n",
            "  3.29963365e-04 2.33623476e-04 1.64201390e-04 1.14563630e-04]\n",
            " [1.10431945e-04 1.58279541e-04 2.25197951e-04 3.18063385e-04\n",
            "  4.45935975e-04 6.20641674e-04 8.57470026e-04 1.17599792e-03\n",
            "  1.60104577e-03 2.16376721e-03 2.90286548e-03 3.86592014e-03\n",
            "  5.11079470e-03 6.70708151e-03 8.73752283e-03 1.12993290e-02\n",
            "  1.45052953e-02 1.84846012e-02 2.33831591e-02 2.93633686e-02\n",
            "  3.66031246e-02 4.52939330e-02 5.56379983e-02 6.78441727e-02\n",
            "  8.21226955e-02 9.86787027e-02 1.17704552e-01 1.39371083e-01\n",
            "  1.63818023e-01 1.91143828e-01 2.21395336e-01 2.54557705e-01\n",
            "  2.90545140e-01 3.29192988e-01 3.70251755e-01 4.13383623e-01\n",
            "  4.58161930e-01 5.04074029e-01 5.50527775e-01 5.96861737e-01\n",
            "  6.42359029e-01 6.86264474e-01 7.27804594e-01 7.66209723e-01\n",
            "  8.00737403e-01 8.30696082e-01 8.55468061e-01 8.74530636e-01\n",
            "  8.87474426e-01 8.94017987e-01 8.94017987e-01 8.87474426e-01\n",
            "  8.74530636e-01 8.55468061e-01 8.30696082e-01 8.00737403e-01\n",
            "  7.66209723e-01 7.27804594e-01 6.86264474e-01 6.42359029e-01\n",
            "  5.96861737e-01 5.50527775e-01 5.04074029e-01 4.58161930e-01\n",
            "  4.13383623e-01 3.70251755e-01 3.29192988e-01 2.90545140e-01\n",
            "  2.54557705e-01 2.21395336e-01 1.91143828e-01 1.63818023e-01\n",
            "  1.39371083e-01 1.17704552e-01 9.86787027e-02 8.21226955e-02\n",
            "  6.78441727e-02 5.56379983e-02 4.52939330e-02 3.66031246e-02\n",
            "  2.93633686e-02 2.33831591e-02 1.84846012e-02 1.45052953e-02\n",
            "  1.12993290e-02 8.73752283e-03 6.70708151e-03 5.11079470e-03\n",
            "  3.86592014e-03 2.90286548e-03 2.16376721e-03 1.60104577e-03\n",
            "  1.17599792e-03 8.57470026e-04 6.20641674e-04 4.45935975e-04\n",
            "  3.18063385e-04 2.25197951e-04 1.58279541e-04 1.10431945e-04]\n",
            " [1.05670135e-04 1.51454550e-04 2.15487448e-04 3.04348538e-04\n",
            "  4.26707281e-04 5.93879695e-04 8.20496044e-04 1.12528906e-03\n",
            "  1.53200891e-03 2.07046588e-03 2.77769434e-03 3.69922223e-03\n",
            "  4.89041798e-03 6.41787314e-03 8.36076212e-03 1.08121036e-02\n",
            "  1.38798290e-02 1.76875478e-02 2.23748807e-02 2.80972245e-02\n",
            "  3.50248032e-02 4.33408652e-02 5.32388959e-02 6.49187419e-02\n",
            "  7.85815769e-02 9.44236914e-02 1.12629148e-01 1.33361422e-01\n",
            "  1.56754214e-01 1.82901734e-01 2.11848801e-01 2.43581213e-01\n",
            "  2.78016876e-01 3.14998234e-01 3.54286554e-01 3.95558582e-01\n",
            "  4.38406054e-01 4.82338430e-01 5.26789098e-01 5.71125146e-01\n",
            "  6.14660601e-01 6.56672850e-01 6.96421766e-01 7.33170871e-01\n",
            "  7.66209723e-01 7.94876588e-01 8.18580403e-01 8.36821003e-01\n",
            "  8.49206658e-01 8.55468061e-01 8.55468061e-01 8.49206658e-01\n",
            "  8.36821003e-01 8.18580403e-01 7.94876588e-01 7.66209723e-01\n",
            "  7.33170871e-01 6.96421766e-01 6.56672850e-01 6.14660601e-01\n",
            "  5.71125146e-01 5.26789098e-01 4.82338430e-01 4.38406054e-01\n",
            "  3.95558582e-01 3.54286554e-01 3.14998234e-01 2.78016876e-01\n",
            "  2.43581213e-01 2.11848801e-01 1.82901734e-01 1.56754214e-01\n",
            "  1.33361422e-01 1.12629148e-01 9.44236914e-02 7.85815769e-02\n",
            "  6.49187419e-02 5.32388959e-02 4.33408652e-02 3.50248032e-02\n",
            "  2.80972245e-02 2.23748807e-02 1.76875478e-02 1.38798290e-02\n",
            "  1.08121036e-02 8.36076212e-03 6.41787314e-03 4.89041798e-03\n",
            "  3.69922223e-03 2.77769434e-03 2.07046588e-03 1.53200891e-03\n",
            "  1.12528906e-03 8.20496044e-04 5.93879695e-04 4.26707281e-04\n",
            "  3.04348538e-04 2.15487448e-04 1.51454550e-04 1.05670135e-04]\n",
            " [1.00373576e-04 1.43863115e-04 2.04686458e-04 2.89093518e-04\n",
            "  4.05319210e-04 5.64112354e-04 7.79369894e-04 1.06888561e-03\n",
            "  1.45521923e-03 1.96668684e-03 2.63846653e-03 3.51380419e-03\n",
            "  4.64529302e-03 6.09618674e-03 7.94169129e-03 1.02701629e-02\n",
            "  1.31841231e-02 1.68009857e-02 2.12533729e-02 2.66888927e-02\n",
            "  3.32692367e-02 4.11684684e-02 5.05703750e-02 6.16647860e-02\n",
            "  7.46427916e-02 8.96908436e-02 1.06983779e-01 1.26676878e-01\n",
            "  1.48897141e-01 1.73734055e-01 2.01230193e-01 2.31372066e-01\n",
            "  2.64081692e-01 2.99209414e-01 3.36528464e-01 3.75731793e-01\n",
            "  4.16431599e-01 4.58161930e-01 5.00384574e-01 5.42498343e-01\n",
            "  5.83851648e-01 6.23758095e-01 6.61514656e-01 6.96421766e-01\n",
            "  7.27804594e-01 7.55034575e-01 7.77550272e-01 7.94876588e-01\n",
            "  8.06641431e-01 8.12588991e-01 8.12588991e-01 8.06641431e-01\n",
            "  7.94876588e-01 7.77550272e-01 7.55034575e-01 7.27804594e-01\n",
            "  6.96421766e-01 6.61514656e-01 6.23758095e-01 5.83851648e-01\n",
            "  5.42498343e-01 5.00384574e-01 4.58161930e-01 4.16431599e-01\n",
            "  3.75731793e-01 3.36528464e-01 2.99209414e-01 2.64081692e-01\n",
            "  2.31372066e-01 2.01230193e-01 1.73734055e-01 1.48897141e-01\n",
            "  1.26676878e-01 1.06983779e-01 8.96908436e-02 7.46427916e-02\n",
            "  6.16647860e-02 5.05703750e-02 4.11684684e-02 3.32692367e-02\n",
            "  2.66888927e-02 2.12533729e-02 1.68009857e-02 1.31841231e-02\n",
            "  1.02701629e-02 7.94169129e-03 6.09618674e-03 4.64529302e-03\n",
            "  3.51380419e-03 2.63846653e-03 1.96668684e-03 1.45521923e-03\n",
            "  1.06888561e-03 7.79369894e-04 5.64112354e-04 4.05319210e-04\n",
            "  2.89093518e-04 2.04686458e-04 1.43863115e-04 1.00373576e-04]\n",
            " [9.46446616e-05 1.35651995e-04 1.93003789e-04 2.72593238e-04\n",
            "  3.82185241e-04 5.31915120e-04 7.34886636e-04 1.00787798e-03\n",
            "  1.37216125e-03 1.85443637e-03 2.48787361e-03 3.31325056e-03\n",
            "  4.38015862e-03 5.74824125e-03 7.48841192e-03 9.68398383e-03\n",
            "  1.24316271e-02 1.58420539e-02 2.00403170e-02 2.51655994e-02\n",
            "  3.13703643e-02 3.88187401e-02 4.76840241e-02 5.81452113e-02\n",
            "  7.03824853e-02 8.45716558e-02 1.00877581e-01 1.19446678e-01\n",
            "  1.40398699e-01 1.63818023e-01 1.89744794e-01 2.18166291e-01\n",
            "  2.49008985e-01 2.82131760e-01 3.17320791e-01 3.54286554e-01\n",
            "  3.92663381e-01 4.32011914e-01 4.71824662e-01 5.11534749e-01\n",
            "  5.50527775e-01 5.88156525e-01 6.23758095e-01 6.56672850e-01\n",
            "  6.86264474e-01 7.11940279e-01 7.33170871e-01 7.49508272e-01\n",
            "  7.60601625e-01 7.66209723e-01 7.66209723e-01 7.60601625e-01\n",
            "  7.49508272e-01 7.33170871e-01 7.11940279e-01 6.86264474e-01\n",
            "  6.56672850e-01 6.23758095e-01 5.88156525e-01 5.50527775e-01\n",
            "  5.11534749e-01 4.71824662e-01 4.32011914e-01 3.92663381e-01\n",
            "  3.54286554e-01 3.17320791e-01 2.82131760e-01 2.49008985e-01\n",
            "  2.18166291e-01 1.89744794e-01 1.63818023e-01 1.40398699e-01\n",
            "  1.19446678e-01 1.00877581e-01 8.45716558e-02 7.03824853e-02\n",
            "  5.81452113e-02 4.76840241e-02 3.88187401e-02 3.13703643e-02\n",
            "  2.51655994e-02 2.00403170e-02 1.58420539e-02 1.24316271e-02\n",
            "  9.68398383e-03 7.48841192e-03 5.74824125e-03 4.38015862e-03\n",
            "  3.31325056e-03 2.48787361e-03 1.85443637e-03 1.37216125e-03\n",
            "  1.00787798e-03 7.34886636e-04 5.31915120e-04 3.82185241e-04\n",
            "  2.72593238e-04 1.93003789e-04 1.35651995e-04 9.46446616e-05]\n",
            " [8.85895382e-05 1.26973327e-04 1.80655901e-04 2.55153420e-04\n",
            "  3.57734007e-04 4.97884551e-04 6.87870469e-04 9.43396521e-04\n",
            "  1.28437388e-03 1.73579428e-03 2.32870582e-03 3.10127727e-03\n",
            "  4.09992728e-03 5.38048348e-03 7.00932248e-03 9.06442731e-03\n",
            "  1.16362834e-02 1.48285198e-02 1.87581888e-02 2.35555688e-02\n",
            "  2.93633686e-02 3.63352164e-02 4.46333222e-02 5.44252294e-02\n",
            "  6.58795939e-02 7.91609776e-02 9.44236914e-02 1.11804785e-01\n",
            "  1.31416349e-01 1.53337365e-01 1.77605408e-01 2.04208570e-01\n",
            "  2.33078027e-01 2.64081692e-01 2.97019419e-01 3.31620206e-01\n",
            "  3.67541782e-01 4.04372897e-01 4.41638527e-01 4.78808064e-01\n",
            "  5.15306416e-01 5.50527775e-01 5.83851648e-01 6.14660601e-01\n",
            "  6.42359029e-01 6.66392161e-01 6.86264474e-01 7.01556650e-01\n",
            "  7.11940279e-01 7.17189585e-01 7.17189585e-01 7.11940279e-01\n",
            "  7.01556650e-01 6.86264474e-01 6.66392161e-01 6.42359029e-01\n",
            "  6.14660601e-01 5.83851648e-01 5.50527775e-01 5.15306416e-01\n",
            "  4.78808064e-01 4.41638527e-01 4.04372897e-01 3.67541782e-01\n",
            "  3.31620206e-01 2.97019419e-01 2.64081692e-01 2.33078027e-01\n",
            "  2.04208570e-01 1.77605408e-01 1.53337365e-01 1.31416349e-01\n",
            "  1.11804785e-01 9.44236914e-02 7.91609776e-02 6.58795939e-02\n",
            "  5.44252294e-02 4.46333222e-02 3.63352164e-02 2.93633686e-02\n",
            "  2.35555688e-02 1.87581888e-02 1.48285198e-02 1.16362834e-02\n",
            "  9.06442731e-03 7.00932248e-03 5.38048348e-03 4.09992728e-03\n",
            "  3.10127727e-03 2.32870582e-03 1.73579428e-03 1.28437388e-03\n",
            "  9.43396521e-04 6.87870469e-04 4.97884551e-04 3.57734007e-04\n",
            "  2.55153420e-04 1.80655901e-04 1.26973327e-04 8.85895382e-05]\n",
            " [8.23148789e-05 1.17980004e-04 1.67860324e-04 2.37081300e-04\n",
            "  3.32396263e-04 4.62620162e-04 6.39149673e-04 8.76577212e-04\n",
            "  1.19340368e-03 1.61285067e-03 2.16376721e-03 2.88161862e-03\n",
            "  3.80953580e-03 4.99939220e-03 6.51286306e-03 8.42240801e-03\n",
            "  1.08121036e-02 1.37782388e-02 1.74295755e-02 2.18871644e-02\n",
            "  2.72836069e-02 3.37616495e-02 4.14720134e-02 5.05703750e-02\n",
            "  6.12134447e-02 7.35541286e-02 8.77358081e-02 1.03885826e-01\n",
            "  1.22108334e-01 1.42476718e-01 1.65025893e-01 1.89744794e-01\n",
            "  2.16569473e-01 2.45377196e-01 2.75981995e-01 3.08132062e-01\n",
            "  3.41509369e-01 3.75731793e-01 4.10357956e-01 4.44894833e-01\n",
            "  4.78808064e-01 5.11534749e-01 5.42498343e-01 5.71125146e-01\n",
            "  5.96861737e-01 6.19192640e-01 6.37657428e-01 6.51866483e-01\n",
            "  6.61514656e-01 6.66392161e-01 6.66392161e-01 6.61514656e-01\n",
            "  6.51866483e-01 6.37657428e-01 6.19192640e-01 5.96861737e-01\n",
            "  5.71125146e-01 5.42498343e-01 5.11534749e-01 4.78808064e-01\n",
            "  4.44894833e-01 4.10357956e-01 3.75731793e-01 3.41509369e-01\n",
            "  3.08132062e-01 2.75981995e-01 2.45377196e-01 2.16569473e-01\n",
            "  1.89744794e-01 1.65025893e-01 1.42476718e-01 1.22108334e-01\n",
            "  1.03885826e-01 8.77358081e-02 7.35541286e-02 6.12134447e-02\n",
            "  5.05703750e-02 4.14720134e-02 3.37616495e-02 2.72836069e-02\n",
            "  2.18871644e-02 1.74295755e-02 1.37782388e-02 1.08121036e-02\n",
            "  8.42240801e-03 6.51286306e-03 4.99939220e-03 3.80953580e-03\n",
            "  2.88161862e-03 2.16376721e-03 1.61285067e-03 1.19340368e-03\n",
            "  8.76577212e-04 6.39149673e-04 4.62620162e-04 3.32396263e-04\n",
            "  2.37081300e-04 1.67860324e-04 1.17980004e-04 8.23148789e-05]\n",
            " [7.59248321e-05 1.08821298e-04 1.54829444e-04 2.18676843e-04\n",
            "  3.06592572e-04 4.26707281e-04 5.89532928e-04 8.08529132e-04\n",
            "  1.10076058e-03 1.48764619e-03 1.99579546e-03 2.65792057e-03\n",
            "  3.51380419e-03 4.61129285e-03 6.00727403e-03 7.76858233e-03\n",
            "  9.97276747e-03 1.27086437e-02 1.60765296e-02 2.01880791e-02\n",
            "  2.51655994e-02 3.11407561e-02 3.82525698e-02 4.66446320e-02\n",
            "  5.64614875e-02 6.78441727e-02 8.09249383e-02 9.58212415e-02\n",
            "  1.12629148e-01 1.31416349e-01 1.52215047e-01 1.75015038e-01\n",
            "  1.99757335e-01 2.26328735e-01 2.54557705e-01 2.84211985e-01\n",
            "  3.14998234e-01 3.46563995e-01 3.78502153e-01 4.10357956e-01\n",
            "  4.41638527e-01 4.71824662e-01 5.00384574e-01 5.26789098e-01\n",
            "  5.50527775e-01 5.71125146e-01 5.88156525e-01 6.01262541e-01\n",
            "  6.10161733e-01 6.14660601e-01 6.14660601e-01 6.10161733e-01\n",
            "  6.01262541e-01 5.88156525e-01 5.71125146e-01 5.50527775e-01\n",
            "  5.26789098e-01 5.00384574e-01 4.71824662e-01 4.41638527e-01\n",
            "  4.10357956e-01 3.78502153e-01 3.46563995e-01 3.14998234e-01\n",
            "  2.84211985e-01 2.54557705e-01 2.26328735e-01 1.99757335e-01\n",
            "  1.75015038e-01 1.52215047e-01 1.31416349e-01 1.12629148e-01\n",
            "  9.58212415e-02 8.09249383e-02 6.78441727e-02 5.64614875e-02\n",
            "  4.66446320e-02 3.82525698e-02 3.11407561e-02 2.51655994e-02\n",
            "  2.01880791e-02 1.60765296e-02 1.27086437e-02 9.97276747e-03\n",
            "  7.76858233e-03 6.00727403e-03 4.61129285e-03 3.51380419e-03\n",
            "  2.65792057e-03 1.99579546e-03 1.48764619e-03 1.10076058e-03\n",
            "  8.08529132e-04 5.89532928e-04 4.26707281e-04 3.06592572e-04\n",
            "  2.18676843e-04 1.54829444e-04 1.08821298e-04 7.59248321e-05]\n",
            " [6.95182654e-05 9.96389147e-05 1.41764875e-04 2.00224807e-04\n",
            "  2.80722173e-04 3.90701555e-04 5.39787912e-04 7.40305131e-04\n",
            "  1.00787798e-03 1.36211803e-03 1.82738947e-03 2.43364420e-03\n",
            "  3.21730803e-03 4.22219018e-03 5.50037792e-03 7.11306635e-03\n",
            "  9.13126150e-03 1.16362834e-02 1.47199858e-02 1.84846012e-02\n",
            "  2.30421164e-02 2.85130870e-02 3.50248032e-02 4.27087399e-02\n",
            "  5.16972453e-02 6.21194552e-02 7.40964607e-02 8.77358081e-02\n",
            "  1.03125457e-01 1.20327387e-01 1.39371083e-01 1.60247201e-01\n",
            "  1.82901734e-01 2.07231028e-01 2.33078027e-01 2.60230067e-01\n",
            "  2.88418561e-01 3.17320791e-01 3.46563995e-01 3.75731793e-01\n",
            "  4.04372897e-01 4.32011914e-01 4.58161930e-01 4.82338430e-01\n",
            "  5.04074029e-01 5.22933385e-01 5.38527650e-01 5.50527775e-01\n",
            "  5.58676050e-01 5.62795302e-01 5.62795302e-01 5.58676050e-01\n",
            "  5.50527775e-01 5.38527650e-01 5.22933385e-01 5.04074029e-01\n",
            "  4.82338430e-01 4.58161930e-01 4.32011914e-01 4.04372897e-01\n",
            "  3.75731793e-01 3.46563995e-01 3.17320791e-01 2.88418561e-01\n",
            "  2.60230067e-01 2.33078027e-01 2.07231028e-01 1.82901734e-01\n",
            "  1.60247201e-01 1.39371083e-01 1.20327387e-01 1.03125457e-01\n",
            "  8.77358081e-02 7.40964607e-02 6.21194552e-02 5.16972453e-02\n",
            "  4.27087399e-02 3.50248032e-02 2.85130870e-02 2.30421164e-02\n",
            "  1.84846012e-02 1.47199858e-02 1.16362834e-02 9.13126150e-03\n",
            "  7.11306635e-03 5.50037792e-03 4.22219018e-03 3.21730803e-03\n",
            "  2.43364420e-03 1.82738947e-03 1.36211803e-03 1.00787798e-03\n",
            "  7.40305131e-04 5.39787912e-04 3.90701555e-04 2.80722173e-04\n",
            "  2.00224807e-04 1.41764875e-04 9.96389147e-05 6.95182654e-05]\n",
            " [6.31863989e-05 9.05635976e-05 1.28852639e-04 1.81987920e-04\n",
            "  2.55153420e-04 3.55115655e-04 4.90622919e-04 6.72876618e-04\n",
            "  9.16078378e-04 1.23805352e-03 1.66094708e-03 2.21198289e-03\n",
            "  2.92426900e-03 3.83762442e-03 4.99939220e-03 6.46519365e-03\n",
            "  8.29956743e-03 1.05764268e-02 1.33792593e-02 1.68009857e-02\n",
            "  2.09433931e-02 2.59160565e-02 3.18346721e-02 3.88187401e-02\n",
            "  4.69885540e-02 5.64614875e-02 6.73476028e-02 7.97446503e-02\n",
            "  9.37325787e-02 1.09367721e-01 1.26676878e-01 1.45651557e-01\n",
            "  1.66242668e-01 1.88356000e-01 2.11848801e-01 2.36527778e-01\n",
            "  2.62148806e-01 2.88418561e-01 3.14998234e-01 3.41509369e-01\n",
            "  3.67541782e-01 3.92663381e-01 4.16431599e-01 4.38406054e-01\n",
            "  4.58161930e-01 4.75303537e-01 4.89477445e-01 5.00384574e-01\n",
            "  5.07790687e-01 5.11534749e-01 5.11534749e-01 5.07790687e-01\n",
            "  5.00384574e-01 4.89477445e-01 4.75303537e-01 4.58161930e-01\n",
            "  4.38406054e-01 4.16431599e-01 3.92663381e-01 3.67541782e-01\n",
            "  3.41509369e-01 3.14998234e-01 2.88418561e-01 2.62148806e-01\n",
            "  2.36527778e-01 2.11848801e-01 1.88356000e-01 1.66242668e-01\n",
            "  1.45651557e-01 1.26676878e-01 1.09367721e-01 9.37325787e-02\n",
            "  7.97446503e-02 6.73476028e-02 5.64614875e-02 4.69885540e-02\n",
            "  3.88187401e-02 3.18346721e-02 2.59160565e-02 2.09433931e-02\n",
            "  1.68009857e-02 1.33792593e-02 1.05764268e-02 8.29956743e-03\n",
            "  6.46519365e-03 4.99939220e-03 3.83762442e-03 2.92426900e-03\n",
            "  2.21198289e-03 1.66094708e-03 1.23805352e-03 9.16078378e-04\n",
            "  6.72876618e-04 4.90622919e-04 3.55115655e-04 2.55153420e-04\n",
            "  1.81987920e-04 1.28852639e-04 9.05635976e-05 6.31863989e-05]\n",
            " [5.70108968e-05 8.17123940e-05 1.16259269e-04 1.64201390e-04\n",
            "  2.30216084e-04 3.20408542e-04 4.42672048e-04 6.07113242e-04\n",
            "  8.26545757e-04 1.11705276e-03 1.49861496e-03 1.99579546e-03\n",
            "  2.63846653e-03 3.46255545e-03 4.51077823e-03 5.83332006e-03\n",
            "  7.48841192e-03 9.54274319e-03 1.20716417e-02 1.51589468e-02\n",
            "  1.88964974e-02 2.33831591e-02 2.87233208e-02 3.50248032e-02\n",
            "  4.23961430e-02 5.09432425e-02 6.07654068e-02 7.19508330e-02\n",
            "  8.45716558e-02 9.86787027e-02 1.14296155e-01 1.31416349e-01\n",
            "  1.49994995e-01 1.69947088e-01 1.91143828e-01 2.13410813e-01\n",
            "  2.36527778e-01 2.60230067e-01 2.84211985e-01 3.08132062e-01\n",
            "  3.31620206e-01 3.54286554e-01 3.75731793e-01 3.95558582e-01\n",
            "  4.13383623e-01 4.28849902e-01 4.41638527e-01 4.51479651e-01\n",
            "  4.58161930e-01 4.61540067e-01 4.61540067e-01 4.58161930e-01\n",
            "  4.51479651e-01 4.41638527e-01 4.28849902e-01 4.13383623e-01\n",
            "  3.95558582e-01 3.75731793e-01 3.54286554e-01 3.31620206e-01\n",
            "  3.08132062e-01 2.84211985e-01 2.60230067e-01 2.36527778e-01\n",
            "  2.13410813e-01 1.91143828e-01 1.69947088e-01 1.49994995e-01\n",
            "  1.31416349e-01 1.14296155e-01 9.86787027e-02 8.45716558e-02\n",
            "  7.19508330e-02 6.07654068e-02 5.09432425e-02 4.23961430e-02\n",
            "  3.50248032e-02 2.87233208e-02 2.33831591e-02 1.88964974e-02\n",
            "  1.51589468e-02 1.20716417e-02 9.54274319e-03 7.48841192e-03\n",
            "  5.83332006e-03 4.51077823e-03 3.46255545e-03 2.63846653e-03\n",
            "  1.99579546e-03 1.49861496e-03 1.11705276e-03 8.26545757e-04\n",
            "  6.07113242e-04 4.42672048e-04 3.20408542e-04 2.30216084e-04\n",
            "  1.64201390e-04 1.16259269e-04 8.17123940e-05 5.70108968e-05]\n",
            " [5.10624598e-05 7.31866373e-05 1.04128939e-04 1.47068847e-04\n",
            "  2.06195660e-04 2.86977564e-04 3.96484267e-04 5.43767897e-04\n",
            "  7.40305131e-04 1.00050104e-03 1.34225158e-03 1.78755696e-03\n",
            "  2.36317263e-03 3.10127727e-03 4.04012995e-03 5.22467962e-03\n",
            "  6.70708151e-03 8.54706674e-03 1.08121036e-02 1.35772836e-02\n",
            "  1.69248634e-02 2.09433931e-02 2.57263698e-02 3.13703643e-02\n",
            "  3.79725889e-02 4.56278959e-02 5.44252294e-02 6.44435839e-02\n",
            "  7.57475678e-02 8.83827052e-02 1.02370654e-01 1.17704552e-01\n",
            "  1.34344728e-01 1.52215047e-01 1.71200149e-01 1.91143828e-01\n",
            "  2.11848801e-01 2.33078027e-01 2.54557705e-01 2.75981995e-01\n",
            "  2.97019419e-01 3.17320791e-01 3.36528464e-01 3.54286554e-01\n",
            "  3.70251755e-01 3.84104304e-01 3.95558582e-01 4.04372897e-01\n",
            "  4.10357956e-01 4.13383623e-01 4.13383623e-01 4.10357956e-01\n",
            "  4.04372897e-01 3.95558582e-01 3.84104304e-01 3.70251755e-01\n",
            "  3.54286554e-01 3.36528464e-01 3.17320791e-01 2.97019419e-01\n",
            "  2.75981995e-01 2.54557705e-01 2.33078027e-01 2.11848801e-01\n",
            "  1.91143828e-01 1.71200149e-01 1.52215047e-01 1.34344728e-01\n",
            "  1.17704552e-01 1.02370654e-01 8.83827052e-02 7.57475678e-02\n",
            "  6.44435839e-02 5.44252294e-02 4.56278959e-02 3.79725889e-02\n",
            "  3.13703643e-02 2.57263698e-02 2.09433931e-02 1.69248634e-02\n",
            "  1.35772836e-02 1.08121036e-02 8.54706674e-03 6.70708151e-03\n",
            "  5.22467962e-03 4.04012995e-03 3.10127727e-03 2.36317263e-03\n",
            "  1.78755696e-03 1.34225158e-03 1.00050104e-03 7.40305131e-04\n",
            "  5.43767897e-04 3.96484267e-04 2.86977564e-04 2.06195660e-04\n",
            "  1.47068847e-04 1.04128939e-04 7.31866373e-05 5.10624598e-05]\n",
            " [4.53999298e-05 6.50706646e-05 9.25816453e-05 1.30759767e-04\n",
            "  1.83329760e-04 2.55153420e-04 3.52516467e-04 4.83467198e-04\n",
            "  6.58209595e-04 8.89551292e-04 1.19340368e-03 1.58932728e-03\n",
            "  2.10111052e-03 2.75736364e-03 3.59210302e-03 4.64529302e-03\n",
            "  5.96330516e-03 7.59924672e-03 9.61310412e-03 1.20716417e-02\n",
            "  1.50479944e-02 1.86208925e-02 2.28734649e-02 2.78915732e-02\n",
            "  3.37616495e-02 4.05680275e-02 4.83897878e-02 5.72971650e-02\n",
            "  6.73476028e-02 7.85815769e-02 9.10183436e-02 1.04651801e-01\n",
            "  1.19446678e-01 1.35335283e-01 1.52215047e-01 1.69947088e-01\n",
            "  1.88356000e-01 2.07231028e-01 2.26328735e-01 2.45377196e-01\n",
            "  2.64081692e-01 2.82131760e-01 2.99209414e-01 3.14998234e-01\n",
            "  3.29192988e-01 3.41509369e-01 3.51693434e-01 3.59530293e-01\n",
            "  3.64851644e-01 3.67541782e-01 3.67541782e-01 3.64851644e-01\n",
            "  3.59530293e-01 3.51693434e-01 3.41509369e-01 3.29192988e-01\n",
            "  3.14998234e-01 2.99209414e-01 2.82131760e-01 2.64081692e-01\n",
            "  2.45377196e-01 2.26328735e-01 2.07231028e-01 1.88356000e-01\n",
            "  1.69947088e-01 1.52215047e-01 1.35335283e-01 1.19446678e-01\n",
            "  1.04651801e-01 9.10183436e-02 7.85815769e-02 6.73476028e-02\n",
            "  5.72971650e-02 4.83897878e-02 4.05680275e-02 3.37616495e-02\n",
            "  2.78915732e-02 2.28734649e-02 1.86208925e-02 1.50479944e-02\n",
            "  1.20716417e-02 9.61310412e-03 7.59924672e-03 5.96330516e-03\n",
            "  4.64529302e-03 3.59210302e-03 2.75736364e-03 2.10111052e-03\n",
            "  1.58932728e-03 1.19340368e-03 8.89551292e-04 6.58209595e-04\n",
            "  4.83467198e-04 3.52516467e-04 2.55153420e-04 1.83329760e-04\n",
            "  1.30759767e-04 9.25816453e-05 6.50706646e-05 4.53999298e-05]\n",
            " [4.00698965e-05 5.74312518e-05 8.17123940e-05 1.15408335e-04\n",
            "  1.61806517e-04 2.25197951e-04 3.11130401e-04 4.26707281e-04\n",
            "  5.80934607e-04 7.85116374e-04 1.05329594e-03 1.40273741e-03\n",
            "  1.85443637e-03 2.43364420e-03 3.17038368e-03 4.09992728e-03\n",
            "  5.26320243e-03 6.70708151e-03 8.48450844e-03 1.06544093e-02\n",
            "  1.32813328e-02 1.64347663e-02 2.01880791e-02 2.46170525e-02\n",
            "  2.97979712e-02 3.58052682e-02 4.27087399e-02 5.05703750e-02\n",
            "  5.94408733e-02 6.93559587e-02 8.03326267e-02 9.23654917e-02\n",
            "  1.05423424e-01 1.19446678e-01 1.34344728e-01 1.49994995e-01\n",
            "  1.66242668e-01 1.82901734e-01 1.99757335e-01 2.16569473e-01\n",
            "  2.33078027e-01 2.49008985e-01 2.64081692e-01 2.78016876e-01\n",
            "  2.90545140e-01 3.01415556e-01 3.10403994e-01 3.17320791e-01\n",
            "  3.22017406e-01 3.24391717e-01 3.24391717e-01 3.22017406e-01\n",
            "  3.17320791e-01 3.10403994e-01 3.01415556e-01 2.90545140e-01\n",
            "  2.78016876e-01 2.64081692e-01 2.49008985e-01 2.33078027e-01\n",
            "  2.16569473e-01 1.99757335e-01 1.82901734e-01 1.66242668e-01\n",
            "  1.49994995e-01 1.34344728e-01 1.19446678e-01 1.05423424e-01\n",
            "  9.23654917e-02 8.03326267e-02 6.93559587e-02 5.94408733e-02\n",
            "  5.05703750e-02 4.27087399e-02 3.58052682e-02 2.97979712e-02\n",
            "  2.46170525e-02 2.01880791e-02 1.64347663e-02 1.32813328e-02\n",
            "  1.06544093e-02 8.48450844e-03 6.70708151e-03 5.26320243e-03\n",
            "  4.09992728e-03 3.17038368e-03 2.43364420e-03 1.85443637e-03\n",
            "  1.40273741e-03 1.05329594e-03 7.85116374e-04 5.80934607e-04\n",
            "  4.26707281e-04 3.11130401e-04 2.25197951e-04 1.61806517e-04\n",
            "  1.15408335e-04 8.17123940e-05 5.74312518e-05 4.00698965e-05]\n",
            " [3.51067682e-05 5.03177152e-05 7.15913521e-05 1.01113655e-04\n",
            "  1.41764875e-04 1.97304534e-04 2.72593238e-04 3.73854561e-04\n",
            "  5.08979018e-04 6.87870469e-04 9.22832842e-04 1.22899187e-03\n",
            "  1.62474260e-03 2.13220872e-03 2.77769434e-03 3.59210302e-03\n",
            "  4.61129285e-03 5.87633052e-03 7.43360220e-03 9.33473532e-03\n",
            "  1.16362834e-02 1.43991271e-02 1.76875478e-02 2.15679408e-02\n",
            "  2.61071417e-02 3.13703643e-02 3.74187597e-02 4.43066388e-02\n",
            "  5.20784215e-02 6.07654068e-02 7.03824853e-02 8.09249383e-02\n",
            "  9.23654917e-02 1.04651801e-01 1.17704552e-01 1.31416349e-01\n",
            "  1.45651557e-01 1.60247201e-01 1.75015038e-01 1.89744794e-01\n",
            "  2.04208570e-01 2.18166291e-01 2.31372066e-01 2.43581213e-01\n",
            "  2.54557705e-01 2.64081692e-01 2.71956805e-01 2.78016876e-01\n",
            "  2.82131760e-01 2.84211985e-01 2.84211985e-01 2.82131760e-01\n",
            "  2.78016876e-01 2.71956805e-01 2.64081692e-01 2.54557705e-01\n",
            "  2.43581213e-01 2.31372066e-01 2.18166291e-01 2.04208570e-01\n",
            "  1.89744794e-01 1.75015038e-01 1.60247201e-01 1.45651557e-01\n",
            "  1.31416349e-01 1.17704552e-01 1.04651801e-01 9.23654917e-02\n",
            "  8.09249383e-02 7.03824853e-02 6.07654068e-02 5.20784215e-02\n",
            "  4.43066388e-02 3.74187597e-02 3.13703643e-02 2.61071417e-02\n",
            "  2.15679408e-02 1.76875478e-02 1.43991271e-02 1.16362834e-02\n",
            "  9.33473532e-03 7.43360220e-03 5.87633052e-03 4.61129285e-03\n",
            "  3.59210302e-03 2.77769434e-03 2.13220872e-03 1.62474260e-03\n",
            "  1.22899187e-03 9.22832842e-04 6.87870469e-04 5.08979018e-04\n",
            "  3.73854561e-04 2.72593238e-04 1.97304534e-04 1.41764875e-04\n",
            "  1.01113655e-04 7.15913521e-05 5.03177152e-05 3.51067682e-05]\n",
            " [3.05332527e-05 4.37626018e-05 6.22648270e-05 8.79411273e-05\n",
            "  1.23296532e-04 1.71600791e-04 2.37081300e-04 3.25150858e-04\n",
            "  4.42672048e-04 5.98258512e-04 8.02611287e-04 1.06888561e-03\n",
            "  1.41308013e-03 1.85443637e-03 2.41583170e-03 3.12414373e-03\n",
            "  4.01055914e-03 5.11079470e-03 6.46519365e-03 8.11865767e-03\n",
            "  1.01203728e-02 1.25232885e-02 1.53833120e-02 1.87581888e-02\n",
            "  2.27060478e-02 2.72836069e-02 3.25440508e-02 3.85346151e-02\n",
            "  4.52939330e-02 5.28492259e-02 6.12134447e-02 7.03824853e-02\n",
            "  8.03326267e-02 9.10183436e-02 1.02370654e-01 1.14296155e-01\n",
            "  1.26676878e-01 1.39371083e-01 1.52215047e-01 1.65025893e-01\n",
            "  1.77605408e-01 1.89744794e-01 2.01230193e-01 2.11848801e-01\n",
            "  2.21395336e-01 2.29678590e-01 2.36527778e-01 2.41798376e-01\n",
            "  2.45377196e-01 2.47186420e-01 2.47186420e-01 2.45377196e-01\n",
            "  2.41798376e-01 2.36527778e-01 2.29678590e-01 2.21395336e-01\n",
            "  2.11848801e-01 2.01230193e-01 1.89744794e-01 1.77605408e-01\n",
            "  1.65025893e-01 1.52215047e-01 1.39371083e-01 1.26676878e-01\n",
            "  1.14296155e-01 1.02370654e-01 9.10183436e-02 8.03326267e-02\n",
            "  7.03824853e-02 6.12134447e-02 5.28492259e-02 4.52939330e-02\n",
            "  3.85346151e-02 3.25440508e-02 2.72836069e-02 2.27060478e-02\n",
            "  1.87581888e-02 1.53833120e-02 1.25232885e-02 1.01203728e-02\n",
            "  8.11865767e-03 6.46519365e-03 5.11079470e-03 4.01055914e-03\n",
            "  3.12414373e-03 2.41583170e-03 1.85443637e-03 1.41308013e-03\n",
            "  1.06888561e-03 8.02611287e-04 5.98258512e-04 4.42672048e-04\n",
            "  3.25150858e-04 2.37081300e-04 1.71600791e-04 1.23296532e-04\n",
            "  8.79411273e-05 6.22648270e-05 4.37626018e-05 3.05332527e-05]\n",
            " [2.63611823e-05 3.77828701e-05 5.37569472e-05 7.59248321e-05\n",
            "  1.06449267e-04 1.48153221e-04 2.04686458e-04 2.80722173e-04\n",
            "  3.82185241e-04 5.16512336e-04 6.92942302e-04 9.22832842e-04\n",
            "  1.21999654e-03 1.60104577e-03 2.08573192e-03 2.69726003e-03\n",
            "  3.46255545e-03 4.41245458e-03 5.58178815e-03 7.00932248e-03\n",
            "  8.73752283e-03 1.08121036e-02 1.32813328e-02 1.61950657e-02\n",
            "  1.96034884e-02 2.35555688e-02 2.80972245e-02 3.32692367e-02\n",
            "  3.91049599e-02 4.56278959e-02 5.28492259e-02 6.07654068e-02\n",
            "  6.93559587e-02 7.85815769e-02 8.83827052e-02 9.86787027e-02\n",
            "  1.09367721e-01 1.20327387e-01 1.31416349e-01 1.42476718e-01\n",
            "  1.53337365e-01 1.63818023e-01 1.73734055e-01 1.82901734e-01\n",
            "  1.91143828e-01 1.98295257e-01 2.04208570e-01 2.08758992e-01\n",
            "  2.11848801e-01 2.13410813e-01 2.13410813e-01 2.11848801e-01\n",
            "  2.08758992e-01 2.04208570e-01 1.98295257e-01 1.91143828e-01\n",
            "  1.82901734e-01 1.73734055e-01 1.63818023e-01 1.53337365e-01\n",
            "  1.42476718e-01 1.31416349e-01 1.20327387e-01 1.09367721e-01\n",
            "  9.86787027e-02 8.83827052e-02 7.85815769e-02 6.93559587e-02\n",
            "  6.07654068e-02 5.28492259e-02 4.56278959e-02 3.91049599e-02\n",
            "  3.32692367e-02 2.80972245e-02 2.35555688e-02 1.96034884e-02\n",
            "  1.61950657e-02 1.32813328e-02 1.08121036e-02 8.73752283e-03\n",
            "  7.00932248e-03 5.58178815e-03 4.41245458e-03 3.46255545e-03\n",
            "  2.69726003e-03 2.08573192e-03 1.60104577e-03 1.21999654e-03\n",
            "  9.22832842e-04 6.92942302e-04 5.16512336e-04 3.82185241e-04\n",
            "  2.80722173e-04 2.04686458e-04 1.48153221e-04 1.06449267e-04\n",
            "  7.59248321e-05 5.37569472e-05 3.77828701e-05 2.63611823e-05]\n",
            " [2.25926038e-05 3.23814542e-05 4.60718869e-05 6.50706646e-05\n",
            "  9.12313446e-05 1.26973327e-04 1.75424608e-04 2.40590303e-04\n",
            "  3.27548273e-04 4.42672048e-04 5.93879695e-04 7.90905224e-04\n",
            "  1.04558658e-03 1.37216125e-03 1.78755696e-03 2.31166139e-03\n",
            "  2.96755064e-03 3.78165277e-03 4.78381913e-03 6.00727403e-03\n",
            "  7.48841192e-03 9.26641185e-03 1.13826416e-02 1.38798290e-02\n",
            "  1.68009857e-02 2.01880791e-02 2.40804625e-02 2.85130870e-02\n",
            "  3.35145388e-02 3.91049599e-02 4.52939330e-02 5.20784215e-02\n",
            "  5.94408733e-02 6.73476028e-02 7.57475678e-02 8.45716558e-02\n",
            "  9.37325787e-02 1.03125457e-01 1.12629148e-01 1.22108334e-01\n",
            "  1.31416349e-01 1.40398699e-01 1.48897141e-01 1.56754214e-01\n",
            "  1.63818023e-01 1.69947088e-01 1.75015038e-01 1.78914935e-01\n",
            "  1.81563026e-01 1.82901734e-01 1.82901734e-01 1.81563026e-01\n",
            "  1.78914935e-01 1.75015038e-01 1.69947088e-01 1.63818023e-01\n",
            "  1.56754214e-01 1.48897141e-01 1.40398699e-01 1.31416349e-01\n",
            "  1.22108334e-01 1.12629148e-01 1.03125457e-01 9.37325787e-02\n",
            "  8.45716558e-02 7.57475678e-02 6.73476028e-02 5.94408733e-02\n",
            "  5.20784215e-02 4.52939330e-02 3.91049599e-02 3.35145388e-02\n",
            "  2.85130870e-02 2.40804625e-02 2.01880791e-02 1.68009857e-02\n",
            "  1.38798290e-02 1.13826416e-02 9.26641185e-03 7.48841192e-03\n",
            "  6.00727403e-03 4.78381913e-03 3.78165277e-03 2.96755064e-03\n",
            "  2.31166139e-03 1.78755696e-03 1.37216125e-03 1.04558658e-03\n",
            "  7.90905224e-04 5.93879695e-04 4.42672048e-04 3.27548273e-04\n",
            "  2.40590303e-04 1.75424608e-04 1.26973327e-04 9.12313446e-05\n",
            "  6.50706646e-05 4.60718869e-05 3.23814542e-05 2.25926038e-05]\n",
            " [1.92210576e-05 2.75490953e-05 3.91964733e-05 5.53600196e-05\n",
            "  7.76166811e-05 1.08024805e-04 1.49245590e-04 2.04686458e-04\n",
            "  2.78667491e-04 3.76611080e-04 5.05253662e-04 6.72876618e-04\n",
            "  8.89551292e-04 1.16739047e-03 1.52079572e-03 1.96668684e-03\n",
            "  2.52469623e-03 3.21730803e-03 4.06991880e-03 5.11079470e-03\n",
            "  6.37089898e-03 7.88356389e-03 9.68398383e-03 1.18085102e-02\n",
            "  1.42937359e-02 1.71753656e-02 2.04868796e-02 2.42580135e-02\n",
            "  2.85130870e-02 3.32692367e-02 3.85346151e-02 4.43066388e-02\n",
            "  5.05703750e-02 5.72971650e-02 6.44435839e-02 7.19508330e-02\n",
            "  7.97446503e-02 8.77358081e-02 9.58212415e-02 1.03885826e-01\n",
            "  1.11804785e-01 1.19446678e-01 1.26676878e-01 1.33361422e-01\n",
            "  1.39371083e-01 1.44585493e-01 1.48897141e-01 1.52215047e-01\n",
            "  1.54467958e-01 1.55606887e-01 1.55606887e-01 1.54467958e-01\n",
            "  1.52215047e-01 1.48897141e-01 1.44585493e-01 1.39371083e-01\n",
            "  1.33361422e-01 1.26676878e-01 1.19446678e-01 1.11804785e-01\n",
            "  1.03885826e-01 9.58212415e-02 8.77358081e-02 7.97446503e-02\n",
            "  7.19508330e-02 6.44435839e-02 5.72971650e-02 5.05703750e-02\n",
            "  4.43066388e-02 3.85346151e-02 3.32692367e-02 2.85130870e-02\n",
            "  2.42580135e-02 2.04868796e-02 1.71753656e-02 1.42937359e-02\n",
            "  1.18085102e-02 9.68398383e-03 7.88356389e-03 6.37089898e-03\n",
            "  5.11079470e-03 4.06991880e-03 3.21730803e-03 2.52469623e-03\n",
            "  1.96668684e-03 1.52079572e-03 1.16739047e-03 8.89551292e-04\n",
            "  6.72876618e-04 5.05253662e-04 3.76611080e-04 2.78667491e-04\n",
            "  2.04686458e-04 1.49245590e-04 1.08024805e-04 7.76166811e-05\n",
            "  5.53600196e-05 3.91964733e-05 2.75490953e-05 1.92210576e-05]\n",
            " [1.62329654e-05 2.32663322e-05 3.31030169e-05 4.67537897e-05\n",
            "  6.55504461e-05 9.12313446e-05 1.26043975e-04 1.72866045e-04\n",
            "  2.35346037e-04 3.18063385e-04 4.26707281e-04 5.68271689e-04\n",
            "  7.51262270e-04 9.85908763e-04 1.28437388e-03 1.66094708e-03\n",
            "  2.13220872e-03 2.71714757e-03 3.43721207e-03 4.31627413e-03\n",
            "  5.38048348e-03 6.65799056e-03 8.17851847e-03 9.97276747e-03\n",
            "  1.20716417e-02 1.45052953e-02 1.73020037e-02 2.04868796e-02\n",
            "  2.40804625e-02 2.80972245e-02 3.25440508e-02 3.74187597e-02\n",
            "  4.27087399e-02 4.83897878e-02 5.44252294e-02 6.07654068e-02\n",
            "  6.73476028e-02 7.40964607e-02 8.09249383e-02 8.77358081e-02\n",
            "  9.44236914e-02 1.00877581e-01 1.06983779e-01 1.12629148e-01\n",
            "  1.17704552e-01 1.22108334e-01 1.25749695e-01 1.28551802e-01\n",
            "  1.30454477e-01 1.31416349e-01 1.31416349e-01 1.30454477e-01\n",
            "  1.28551802e-01 1.25749695e-01 1.22108334e-01 1.17704552e-01\n",
            "  1.12629148e-01 1.06983779e-01 1.00877581e-01 9.44236914e-02\n",
            "  8.77358081e-02 8.09249383e-02 7.40964607e-02 6.73476028e-02\n",
            "  6.07654068e-02 5.44252294e-02 4.83897878e-02 4.27087399e-02\n",
            "  3.74187597e-02 3.25440508e-02 2.80972245e-02 2.40804625e-02\n",
            "  2.04868796e-02 1.73020037e-02 1.45052953e-02 1.20716417e-02\n",
            "  9.97276747e-03 8.17851847e-03 6.65799056e-03 5.38048348e-03\n",
            "  4.31627413e-03 3.43721207e-03 2.71714757e-03 2.13220872e-03\n",
            "  1.66094708e-03 1.28437388e-03 9.85908763e-04 7.51262270e-04\n",
            "  5.68271689e-04 4.26707281e-04 3.18063385e-04 2.35346037e-04\n",
            "  1.72866045e-04 1.26043975e-04 9.12313446e-05 6.55504461e-05\n",
            "  4.67537897e-05 3.31030169e-05 2.32663322e-05 1.62329654e-05]\n",
            " [1.36090571e-05 1.95055454e-05 2.77522213e-05 3.91964733e-05\n",
            "  5.49548246e-05 7.64846440e-05 1.05670135e-04 1.44923852e-04\n",
            "  1.97304534e-04 2.66651389e-04 3.57734007e-04 4.76415842e-04\n",
            "  6.29827693e-04 8.26545757e-04 1.07676676e-03 1.39247039e-03\n",
            "  1.78755696e-03 2.27794587e-03 2.88161862e-03 3.61858846e-03\n",
            "  4.51077823e-03 5.58178815e-03 6.85653682e-03 8.36076212e-03\n",
            "  1.01203728e-02 1.21606488e-02 1.45052953e-02 1.71753656e-02\n",
            "  2.01880791e-02 2.35555688e-02 2.72836069e-02 3.13703643e-02\n",
            "  3.58052682e-02 4.05680275e-02 4.56278959e-02 5.09432425e-02\n",
            "  5.64614875e-02 6.21194552e-02 6.78441727e-02 7.35541286e-02\n",
            "  7.91609776e-02 8.45716558e-02 8.96908436e-02 9.44236914e-02\n",
            "  9.86787027e-02 1.02370654e-01 1.05423424e-01 1.07772596e-01\n",
            "  1.09367721e-01 1.10174115e-01 1.10174115e-01 1.09367721e-01\n",
            "  1.07772596e-01 1.05423424e-01 1.02370654e-01 9.86787027e-02\n",
            "  9.44236914e-02 8.96908436e-02 8.45716558e-02 7.91609776e-02\n",
            "  7.35541286e-02 6.78441727e-02 6.21194552e-02 5.64614875e-02\n",
            "  5.09432425e-02 4.56278959e-02 4.05680275e-02 3.58052682e-02\n",
            "  3.13703643e-02 2.72836069e-02 2.35555688e-02 2.01880791e-02\n",
            "  1.71753656e-02 1.45052953e-02 1.21606488e-02 1.01203728e-02\n",
            "  8.36076212e-03 6.85653682e-03 5.58178815e-03 4.51077823e-03\n",
            "  3.61858846e-03 2.88161862e-03 2.27794587e-03 1.78755696e-03\n",
            "  1.39247039e-03 1.07676676e-03 8.26545757e-04 6.29827693e-04\n",
            "  4.76415842e-04 3.57734007e-04 2.66651389e-04 1.97304534e-04\n",
            "  1.44923852e-04 1.05670135e-04 7.64846440e-05 5.49548246e-05\n",
            "  3.91964733e-05 2.77522213e-05 1.95055454e-05 1.36090571e-05]\n",
            " [1.13257716e-05 1.62329654e-05 2.30960396e-05 3.26202103e-05\n",
            "  4.57346743e-05 6.36522873e-05 8.79411273e-05 1.20608977e-04\n",
            "  1.64201390e-04 2.21913445e-04 2.97714503e-04 3.96484267e-04\n",
            "  5.24157153e-04 6.87870469e-04 8.96110166e-04 1.15884602e-03\n",
            "  1.48764619e-03 1.89575917e-03 2.39814957e-03 3.01147289e-03\n",
            "  3.75397383e-03 4.64529302e-03 5.70616831e-03 6.95801934e-03\n",
            "  8.42240801e-03 1.01203728e-02 1.20716417e-02 1.42937359e-02\n",
            "  1.68009857e-02 1.96034884e-02 2.27060478e-02 2.61071417e-02\n",
            "  2.97979712e-02 3.37616495e-02 3.79725889e-02 4.23961430e-02\n",
            "  4.69885540e-02 5.16972453e-02 5.64614875e-02 6.12134447e-02\n",
            "  6.58795939e-02 7.03824853e-02 7.46427916e-02 7.85815769e-02\n",
            "  8.21226955e-02 8.51952228e-02 8.77358081e-02 8.96908436e-02\n",
            "  9.10183436e-02 9.16894436e-02 9.16894436e-02 9.10183436e-02\n",
            "  8.96908436e-02 8.77358081e-02 8.51952228e-02 8.21226955e-02\n",
            "  7.85815769e-02 7.46427916e-02 7.03824853e-02 6.58795939e-02\n",
            "  6.12134447e-02 5.64614875e-02 5.16972453e-02 4.69885540e-02\n",
            "  4.23961430e-02 3.79725889e-02 3.37616495e-02 2.97979712e-02\n",
            "  2.61071417e-02 2.27060478e-02 1.96034884e-02 1.68009857e-02\n",
            "  1.42937359e-02 1.20716417e-02 1.01203728e-02 8.42240801e-03\n",
            "  6.95801934e-03 5.70616831e-03 4.64529302e-03 3.75397383e-03\n",
            "  3.01147289e-03 2.39814957e-03 1.89575917e-03 1.48764619e-03\n",
            "  1.15884602e-03 8.96110166e-04 6.87870469e-04 5.24157153e-04\n",
            "  3.96484267e-04 2.97714503e-04 2.21913445e-04 1.64201390e-04\n",
            "  1.20608977e-04 8.79411273e-05 6.36522873e-05 4.57346743e-05\n",
            "  3.26202103e-05 2.30960396e-05 1.62329654e-05 1.13257716e-05]\n",
            " [9.35658045e-06 1.34105694e-05 1.90803734e-05 2.69485941e-05\n",
            "  3.77828701e-05 5.25851805e-05 7.26509644e-05 9.96389147e-05\n",
            "  1.35651995e-04 1.83329760e-04 2.45951427e-04 3.27548273e-04\n",
            "  4.33022908e-04 5.68271689e-04 7.40305131e-04 9.57359583e-04\n",
            "  1.22899187e-03 1.56614699e-03 1.98118769e-03 2.48787361e-03\n",
            "  3.10127727e-03 3.83762442e-03 4.71404726e-03 5.74824125e-03\n",
            "  6.95801934e-03 8.36076212e-03 9.97276747e-03 1.18085102e-02\n",
            "  1.38798290e-02 1.61950657e-02 1.87581888e-02 2.15679408e-02\n",
            "  2.46170525e-02 2.78915732e-02 3.13703643e-02 3.50248032e-02\n",
            "  3.88187401e-02 4.27087399e-02 4.66446320e-02 5.05703750e-02\n",
            "  5.44252294e-02 5.81452113e-02 6.16647860e-02 6.49187419e-02\n",
            "  6.78441727e-02 7.03824853e-02 7.24813437e-02 7.40964607e-02\n",
            "  7.51931507e-02 7.57475678e-02 7.57475678e-02 7.51931507e-02\n",
            "  7.40964607e-02 7.24813437e-02 7.03824853e-02 6.78441727e-02\n",
            "  6.49187419e-02 6.16647860e-02 5.81452113e-02 5.44252294e-02\n",
            "  5.05703750e-02 4.66446320e-02 4.27087399e-02 3.88187401e-02\n",
            "  3.50248032e-02 3.13703643e-02 2.78915732e-02 2.46170525e-02\n",
            "  2.15679408e-02 1.87581888e-02 1.61950657e-02 1.38798290e-02\n",
            "  1.18085102e-02 9.97276747e-03 8.36076212e-03 6.95801934e-03\n",
            "  5.74824125e-03 4.71404726e-03 3.83762442e-03 3.10127727e-03\n",
            "  2.48787361e-03 1.98118769e-03 1.56614699e-03 1.22899187e-03\n",
            "  9.57359583e-04 7.40305131e-04 5.68271689e-04 4.33022908e-04\n",
            "  3.27548273e-04 2.45951427e-04 1.83329760e-04 1.35651995e-04\n",
            "  9.96389147e-05 7.26509644e-05 5.25851805e-05 3.77828701e-05\n",
            "  2.69485941e-05 1.90803734e-05 1.34105694e-05 9.35658045e-06]\n",
            " [7.67319265e-06 1.09978088e-05 1.56475308e-05 2.21001417e-05\n",
            "  3.09851706e-05 4.31243255e-05 5.95799767e-05 8.17123940e-05\n",
            "  1.11246186e-04 1.50346013e-04 2.01701112e-04 2.68617473e-04\n",
            "  3.55115655e-04 4.66031171e-04 6.07113242e-04 7.85116374e-04\n",
            "  1.00787798e-03 1.28437388e-03 1.62474260e-03 2.04026819e-03\n",
            "  2.54331142e-03 3.14717878e-03 3.86592014e-03 4.71404726e-03\n",
            "  5.70616831e-03 6.85653682e-03 8.17851847e-03 9.68398383e-03\n",
            "  1.13826416e-02 1.32813328e-02 1.53833120e-02 1.76875478e-02\n",
            "  2.01880791e-02 2.28734649e-02 2.57263698e-02 2.87233208e-02\n",
            "  3.18346721e-02 3.50248032e-02 3.82525698e-02 4.14720134e-02\n",
            "  4.46333222e-02 4.76840241e-02 5.05703750e-02 5.32388959e-02\n",
            "  5.56379983e-02 5.77196307e-02 5.94408733e-02 6.07654068e-02\n",
            "  6.16647860e-02 6.21194552e-02 6.21194552e-02 6.16647860e-02\n",
            "  6.07654068e-02 5.94408733e-02 5.77196307e-02 5.56379983e-02\n",
            "  5.32388959e-02 5.05703750e-02 4.76840241e-02 4.46333222e-02\n",
            "  4.14720134e-02 3.82525698e-02 3.50248032e-02 3.18346721e-02\n",
            "  2.87233208e-02 2.57263698e-02 2.28734649e-02 2.01880791e-02\n",
            "  1.76875478e-02 1.53833120e-02 1.32813328e-02 1.13826416e-02\n",
            "  9.68398383e-03 8.17851847e-03 6.85653682e-03 5.70616831e-03\n",
            "  4.71404726e-03 3.86592014e-03 3.14717878e-03 2.54331142e-03\n",
            "  2.04026819e-03 1.62474260e-03 1.28437388e-03 1.00787798e-03\n",
            "  7.85116374e-04 6.07113242e-04 4.66031171e-04 3.55115655e-04\n",
            "  2.68617473e-04 2.01701112e-04 1.50346013e-04 1.11246186e-04\n",
            "  8.17123940e-05 5.95799767e-05 4.31243255e-05 3.09851706e-05\n",
            "  2.21001417e-05 1.56475308e-05 1.09978088e-05 7.67319265e-06]\n",
            " [6.24661354e-06 8.95312607e-06 1.27383844e-05 1.79913435e-05\n",
            "  2.52244919e-05 3.51067682e-05 4.85030295e-05 6.65206479e-05\n",
            "  9.05635976e-05 1.22394091e-04 1.64201390e-04 2.18676843e-04\n",
            "  2.89093518e-04 3.79387923e-04 4.94240399e-04 6.39149673e-04\n",
            "  8.20496044e-04 1.04558658e-03 1.32267487e-03 1.66094708e-03\n",
            "  2.07046588e-03 2.56206386e-03 3.14717878e-03 3.83762442e-03\n",
            "  4.64529302e-03 5.58178815e-03 6.65799056e-03 7.88356389e-03\n",
            "  9.26641185e-03 1.08121036e-02 1.25232885e-02 1.43991271e-02\n",
            "  1.64347663e-02 1.86208925e-02 2.09433931e-02 2.33831591e-02\n",
            "  2.59160565e-02 2.85130870e-02 3.11407561e-02 3.37616495e-02\n",
            "  3.63352164e-02 3.88187401e-02 4.11684684e-02 4.33408652e-02\n",
            "  4.52939330e-02 4.69885540e-02 4.83897878e-02 4.94680677e-02\n",
            "  5.02002367e-02 5.05703750e-02 5.05703750e-02 5.02002367e-02\n",
            "  4.94680677e-02 4.83897878e-02 4.69885540e-02 4.52939330e-02\n",
            "  4.33408652e-02 4.11684684e-02 3.88187401e-02 3.63352164e-02\n",
            "  3.37616495e-02 3.11407561e-02 2.85130870e-02 2.59160565e-02\n",
            "  2.33831591e-02 2.09433931e-02 1.86208925e-02 1.64347663e-02\n",
            "  1.43991271e-02 1.25232885e-02 1.08121036e-02 9.26641185e-03\n",
            "  7.88356389e-03 6.65799056e-03 5.58178815e-03 4.64529302e-03\n",
            "  3.83762442e-03 3.14717878e-03 2.56206386e-03 2.07046588e-03\n",
            "  1.66094708e-03 1.32267487e-03 1.04558658e-03 8.20496044e-04\n",
            "  6.39149673e-04 4.94240399e-04 3.79387923e-04 2.89093518e-04\n",
            "  2.18676843e-04 1.64201390e-04 1.22394091e-04 9.05635976e-05\n",
            "  6.65206479e-05 4.85030295e-05 3.51067682e-05 2.52244919e-05\n",
            "  1.79913435e-05 1.27383844e-05 8.95312607e-06 6.24661354e-06]\n",
            " [5.04803974e-06 7.23523808e-06 1.02941971e-05 1.45392405e-05\n",
            "  2.03845231e-05 2.83706299e-05 3.91964733e-05 5.37569472e-05\n",
            "  7.31866373e-05 9.89096304e-05 1.32695121e-04 1.76718055e-04\n",
            "  2.33623476e-04 3.06592572e-04 3.99407640e-04 5.16512336e-04\n",
            "  6.63062731e-04 8.44963850e-04 1.06888561e-03 1.34225158e-03\n",
            "  1.67319364e-03 2.07046588e-03 2.54331142e-03 3.10127727e-03\n",
            "  3.75397383e-03 4.51077823e-03 5.38048348e-03 6.37089898e-03\n",
            "  7.48841192e-03 8.73752283e-03 1.01203728e-02 1.16362834e-02\n",
            "  1.32813328e-02 1.50479944e-02 1.69248634e-02 1.88964974e-02\n",
            "  2.09433931e-02 2.30421164e-02 2.51655994e-02 2.72836069e-02\n",
            "  2.93633686e-02 3.13703643e-02 3.32692367e-02 3.50248032e-02\n",
            "  3.66031246e-02 3.79725889e-02 3.91049599e-02 3.99763439e-02\n",
            "  4.05680275e-02 4.08671452e-02 4.08671452e-02 4.05680275e-02\n",
            "  3.99763439e-02 3.91049599e-02 3.79725889e-02 3.66031246e-02\n",
            "  3.50248032e-02 3.32692367e-02 3.13703643e-02 2.93633686e-02\n",
            "  2.72836069e-02 2.51655994e-02 2.30421164e-02 2.09433931e-02\n",
            "  1.88964974e-02 1.69248634e-02 1.50479944e-02 1.32813328e-02\n",
            "  1.16362834e-02 1.01203728e-02 8.73752283e-03 7.48841192e-03\n",
            "  6.37089898e-03 5.38048348e-03 4.51077823e-03 3.75397383e-03\n",
            "  3.10127727e-03 2.54331142e-03 2.07046588e-03 1.67319364e-03\n",
            "  1.34225158e-03 1.06888561e-03 8.44963850e-04 6.63062731e-04\n",
            "  5.16512336e-04 3.99407640e-04 3.06592572e-04 2.33623476e-04\n",
            "  1.76718055e-04 1.32695121e-04 9.89096304e-05 7.31866373e-05\n",
            "  5.37569472e-05 3.91964733e-05 2.83706299e-05 2.03845231e-05\n",
            "  1.45392405e-05 1.02941971e-05 7.23523808e-06 5.04803974e-06]\n",
            " [4.04958466e-06 5.80417561e-06 8.25810111e-06 1.16635146e-05\n",
            "  1.63526549e-05 2.27591845e-05 3.14437772e-05 4.31243255e-05\n",
            "  5.87110045e-05 7.93462300e-05 1.06449267e-04 1.41764875e-04\n",
            "  1.87414936e-04 2.45951427e-04 3.20408542e-04 4.14351023e-04\n",
            "  5.31915120e-04 6.77837898e-04 8.57470026e-04 1.07676676e-03\n",
            "  1.34225158e-03 1.66094708e-03 2.04026819e-03 2.48787361e-03\n",
            "  3.01147289e-03 3.61858846e-03 4.31627413e-03 5.11079470e-03\n",
            "  6.00727403e-03 7.00932248e-03 8.11865767e-03 9.33473532e-03\n",
            "  1.06544093e-02 1.20716417e-02 1.35772836e-02 1.51589468e-02\n",
            "  1.68009857e-02 1.84846012e-02 2.01880791e-02 2.18871644e-02\n",
            "  2.35555688e-02 2.51655994e-02 2.66888927e-02 2.80972245e-02\n",
            "  2.93633686e-02 3.04619657e-02 3.13703643e-02 3.20693967e-02\n",
            "  3.25440508e-02 3.27840059e-02 3.27840059e-02 3.25440508e-02\n",
            "  3.20693967e-02 3.13703643e-02 3.04619657e-02 2.93633686e-02\n",
            "  2.80972245e-02 2.66888927e-02 2.51655994e-02 2.35555688e-02\n",
            "  2.18871644e-02 2.01880791e-02 1.84846012e-02 1.68009857e-02\n",
            "  1.51589468e-02 1.35772836e-02 1.20716417e-02 1.06544093e-02\n",
            "  9.33473532e-03 8.11865767e-03 7.00932248e-03 6.00727403e-03\n",
            "  5.11079470e-03 4.31627413e-03 3.61858846e-03 3.01147289e-03\n",
            "  2.48787361e-03 2.04026819e-03 1.66094708e-03 1.34225158e-03\n",
            "  1.07676676e-03 8.57470026e-04 6.77837898e-04 5.31915120e-04\n",
            "  4.14351023e-04 3.20408542e-04 2.45951427e-04 1.87414936e-04\n",
            "  1.41764875e-04 1.06449267e-04 7.93462300e-05 5.87110045e-05\n",
            "  4.31243255e-05 3.14437772e-05 2.27591845e-05 1.63526549e-05\n",
            "  1.16635146e-05 8.25810111e-06 5.80417561e-06 4.04958466e-06]\n",
            " [3.22483717e-06 4.62208420e-06 6.57623773e-06 9.28809710e-06\n",
            "  1.30222365e-05 1.81239979e-05 2.50398670e-05 3.43415287e-05\n",
            "  4.67537897e-05 6.31863989e-05 8.47695702e-05 1.12892723e-04\n",
            "  1.49245590e-04 1.95860408e-04 2.55153420e-04 3.29963365e-04\n",
            "  4.23584094e-04 5.39787912e-04 6.82835758e-04 8.57470026e-04\n",
            "  1.06888561e-03 1.32267487e-03 1.62474260e-03 1.98118769e-03\n",
            "  2.39814957e-03 2.88161862e-03 3.43721207e-03 4.06991880e-03\n",
            "  4.78381913e-03 5.58178815e-03 6.46519365e-03 7.43360220e-03\n",
            "  8.48450844e-03 9.61310412e-03 1.08121036e-02 1.20716417e-02\n",
            "  1.33792593e-02 1.47199858e-02 1.60765296e-02 1.74295755e-02\n",
            "  1.87581888e-02 2.00403170e-02 2.12533729e-02 2.23748807e-02\n",
            "  2.33831591e-02 2.42580135e-02 2.49814056e-02 2.55380715e-02\n",
            "  2.59160565e-02 2.61071417e-02 2.61071417e-02 2.59160565e-02\n",
            "  2.55380715e-02 2.49814056e-02 2.42580135e-02 2.33831591e-02\n",
            "  2.23748807e-02 2.12533729e-02 2.00403170e-02 1.87581888e-02\n",
            "  1.74295755e-02 1.60765296e-02 1.47199858e-02 1.33792593e-02\n",
            "  1.20716417e-02 1.08121036e-02 9.61310412e-03 8.48450844e-03\n",
            "  7.43360220e-03 6.46519365e-03 5.58178815e-03 4.78381913e-03\n",
            "  4.06991880e-03 3.43721207e-03 2.88161862e-03 2.39814957e-03\n",
            "  1.98118769e-03 1.62474260e-03 1.32267487e-03 1.06888561e-03\n",
            "  8.57470026e-04 6.82835758e-04 5.39787912e-04 4.23584094e-04\n",
            "  3.29963365e-04 2.55153420e-04 1.95860408e-04 1.49245590e-04\n",
            "  1.12892723e-04 8.47695702e-05 6.31863989e-05 4.67537897e-05\n",
            "  3.43415287e-05 2.50398670e-05 1.81239979e-05 1.30222365e-05\n",
            "  9.28809710e-06 6.57623773e-06 4.62208420e-06 3.22483717e-06]\n",
            " [2.54926327e-06 3.65379983e-06 5.19857607e-06 7.34232570e-06\n",
            "  1.02941971e-05 1.43271861e-05 1.97942439e-05 2.71472925e-05\n",
            "  3.69592983e-05 4.99494262e-05 6.70111205e-05 8.92427300e-05\n",
            "  1.17980004e-04 1.54829444e-04 2.01701112e-04 2.60839057e-04\n",
            "  3.34847100e-04 4.26707281e-04 5.39787912e-04 6.77837898e-04\n",
            "  8.44963850e-04 1.04558658e-03 1.28437388e-03 1.56614699e-03\n",
            "  1.89575917e-03 2.27794587e-03 2.71714757e-03 3.21730803e-03\n",
            "  3.78165277e-03 4.41245458e-03 5.11079470e-03 5.87633052e-03\n",
            "  6.70708151e-03 7.59924672e-03 8.54706674e-03 9.54274319e-03\n",
            "  1.05764268e-02 1.16362834e-02 1.27086437e-02 1.37782388e-02\n",
            "  1.48285198e-02 1.58420539e-02 1.68009857e-02 1.76875478e-02\n",
            "  1.84846012e-02 1.91761815e-02 1.97480296e-02 2.01880791e-02\n",
            "  2.04868796e-02 2.06379343e-02 2.06379343e-02 2.04868796e-02\n",
            "  2.01880791e-02 1.97480296e-02 1.91761815e-02 1.84846012e-02\n",
            "  1.76875478e-02 1.68009857e-02 1.58420539e-02 1.48285198e-02\n",
            "  1.37782388e-02 1.27086437e-02 1.16362834e-02 1.05764268e-02\n",
            "  9.54274319e-03 8.54706674e-03 7.59924672e-03 6.70708151e-03\n",
            "  5.87633052e-03 5.11079470e-03 4.41245458e-03 3.78165277e-03\n",
            "  3.21730803e-03 2.71714757e-03 2.27794587e-03 1.89575917e-03\n",
            "  1.56614699e-03 1.28437388e-03 1.04558658e-03 8.44963850e-04\n",
            "  6.77837898e-04 5.39787912e-04 4.26707281e-04 3.34847100e-04\n",
            "  2.60839057e-04 2.01701112e-04 1.54829444e-04 1.17980004e-04\n",
            "  8.92427300e-05 6.70111205e-05 4.99494262e-05 3.69592983e-05\n",
            "  2.71472925e-05 1.97942439e-05 1.43271861e-05 1.02941971e-05\n",
            "  7.34232570e-06 5.19857607e-06 3.65379983e-06 2.54926327e-06]\n",
            " [2.00046602e-06 2.86722147e-06 4.07944321e-06 5.76169327e-06\n",
            "  8.07809522e-06 1.12428752e-05 1.55330023e-05 2.13031101e-05\n",
            "  2.90028186e-05 3.91964733e-05 5.25851805e-05 7.00308402e-05\n",
            "  9.25816453e-05 1.21498256e-04 1.58279541e-04 2.04686458e-04\n",
            "  2.62762286e-04 3.34847100e-04 4.23584094e-04 5.31915120e-04\n",
            "  6.63062731e-04 8.20496044e-04 1.00787798e-03 1.22899187e-03\n",
            "  1.48764619e-03 1.78755696e-03 2.13220872e-03 2.52469623e-03\n",
            "  2.96755064e-03 3.46255545e-03 4.01055914e-03 4.61129285e-03\n",
            "  5.26320243e-03 5.96330516e-03 6.70708151e-03 7.48841192e-03\n",
            "  8.29956743e-03 9.13126150e-03 9.97276747e-03 1.08121036e-02\n",
            "  1.16362834e-02 1.24316271e-02 1.31841231e-02 1.38798290e-02\n",
            "  1.45052953e-02 1.50479944e-02 1.54967368e-02 1.58420539e-02\n",
            "  1.60765296e-02 1.61950657e-02 1.61950657e-02 1.60765296e-02\n",
            "  1.58420539e-02 1.54967368e-02 1.50479944e-02 1.45052953e-02\n",
            "  1.38798290e-02 1.31841231e-02 1.24316271e-02 1.16362834e-02\n",
            "  1.08121036e-02 9.97276747e-03 9.13126150e-03 8.29956743e-03\n",
            "  7.48841192e-03 6.70708151e-03 5.96330516e-03 5.26320243e-03\n",
            "  4.61129285e-03 4.01055914e-03 3.46255545e-03 2.96755064e-03\n",
            "  2.52469623e-03 2.13220872e-03 1.78755696e-03 1.48764619e-03\n",
            "  1.22899187e-03 1.00787798e-03 8.20496044e-04 6.63062731e-04\n",
            "  5.31915120e-04 4.23584094e-04 3.34847100e-04 2.62762286e-04\n",
            "  2.04686458e-04 1.58279541e-04 1.21498256e-04 9.25816453e-05\n",
            "  7.00308402e-05 5.25851805e-05 3.91964733e-05 2.90028186e-05\n",
            "  2.13031101e-05 1.55330023e-05 1.12428752e-05 8.07809522e-06\n",
            "  5.76169327e-06 4.07944321e-06 2.86722147e-06 2.00046602e-06]\n",
            " [1.55832220e-06 2.23350701e-06 3.17780301e-06 4.48824147e-06\n",
            "  6.29267131e-06 8.75797037e-06 1.20998918e-05 1.65946880e-05\n",
            "  2.25926038e-05 3.05332527e-05 4.09627825e-05 5.45525953e-05\n",
            "  7.21192122e-05 9.46446616e-05 1.23296532e-04 1.59446574e-04\n",
            "  2.04686458e-04 2.60839057e-04 3.29963365e-04 4.14351023e-04\n",
            "  5.16512336e-04 6.39149673e-04 7.85116374e-04 9.57359583e-04\n",
            "  1.15884602e-03 1.39247039e-03 1.66094708e-03 1.96668684e-03\n",
            "  2.31166139e-03 2.69726003e-03 3.12414373e-03 3.59210302e-03\n",
            "  4.09992728e-03 4.64529302e-03 5.22467962e-03 5.83332006e-03\n",
            "  6.46519365e-03 7.11306635e-03 7.76858233e-03 8.42240801e-03\n",
            "  9.06442731e-03 9.68398383e-03 1.02701629e-02 1.08121036e-02\n",
            "  1.12993290e-02 1.17220805e-02 1.20716417e-02 1.23406367e-02\n",
            "  1.25232885e-02 1.26156257e-02 1.26156257e-02 1.25232885e-02\n",
            "  1.23406367e-02 1.20716417e-02 1.17220805e-02 1.12993290e-02\n",
            "  1.08121036e-02 1.02701629e-02 9.68398383e-03 9.06442731e-03\n",
            "  8.42240801e-03 7.76858233e-03 7.11306635e-03 6.46519365e-03\n",
            "  5.83332006e-03 5.22467962e-03 4.64529302e-03 4.09992728e-03\n",
            "  3.59210302e-03 3.12414373e-03 2.69726003e-03 2.31166139e-03\n",
            "  1.96668684e-03 1.66094708e-03 1.39247039e-03 1.15884602e-03\n",
            "  9.57359583e-04 7.85116374e-04 6.39149673e-04 5.16512336e-04\n",
            "  4.14351023e-04 3.29963365e-04 2.60839057e-04 2.04686458e-04\n",
            "  1.59446574e-04 1.23296532e-04 9.46446616e-05 7.21192122e-05\n",
            "  5.45525953e-05 4.09627825e-05 3.05332527e-05 2.25926038e-05\n",
            "  1.65946880e-05 1.20998918e-05 8.75797037e-06 6.29267131e-06\n",
            "  4.48824147e-06 3.17780301e-06 2.23350701e-06 1.55832220e-06]\n",
            " [1.20501632e-06 1.72712190e-06 2.45732525e-06 3.47065852e-06\n",
            "  4.86598447e-06 6.77234606e-06 9.35658045e-06 1.28323076e-05\n",
            "  1.74703641e-05 2.36106935e-05 3.16756197e-05 4.21843233e-05\n",
            "  5.57682022e-05 7.31866373e-05 9.53424993e-05 1.23296532e-04\n",
            "  1.58279541e-04 2.01701112e-04 2.55153420e-04 3.20408542e-04\n",
            "  3.99407640e-04 4.94240399e-04 6.07113242e-04 7.40305131e-04\n",
            "  8.96110166e-04 1.07676676e-03 1.28437388e-03 1.52079572e-03\n",
            "  1.78755696e-03 2.08573192e-03 2.41583170e-03 2.77769434e-03\n",
            "  3.17038368e-03 3.59210302e-03 4.04012995e-03 4.51077823e-03\n",
            "  4.99939220e-03 5.50037792e-03 6.00727403e-03 6.51286306e-03\n",
            "  7.00932248e-03 7.48841192e-03 7.94169129e-03 8.36076212e-03\n",
            "  8.73752283e-03 9.06442731e-03 9.33473532e-03 9.54274319e-03\n",
            "  9.68398383e-03 9.75538615e-03 9.75538615e-03 9.68398383e-03\n",
            "  9.54274319e-03 9.33473532e-03 9.06442731e-03 8.73752283e-03\n",
            "  8.36076212e-03 7.94169129e-03 7.48841192e-03 7.00932248e-03\n",
            "  6.51286306e-03 6.00727403e-03 5.50037792e-03 4.99939220e-03\n",
            "  4.51077823e-03 4.04012995e-03 3.59210302e-03 3.17038368e-03\n",
            "  2.77769434e-03 2.41583170e-03 2.08573192e-03 1.78755696e-03\n",
            "  1.52079572e-03 1.28437388e-03 1.07676676e-03 8.96110166e-04\n",
            "  7.40305131e-04 6.07113242e-04 4.94240399e-04 3.99407640e-04\n",
            "  3.20408542e-04 2.55153420e-04 2.01701112e-04 1.58279541e-04\n",
            "  1.23296532e-04 9.53424993e-05 7.31866373e-05 5.57682022e-05\n",
            "  4.21843233e-05 3.16756197e-05 2.36106935e-05 1.74703641e-05\n",
            "  1.28323076e-05 9.35658045e-06 6.77234606e-06 4.86598447e-06\n",
            "  3.47065852e-06 2.45732525e-06 1.72712190e-06 1.20501632e-06]\n",
            " [9.24992454e-07 1.32577020e-06 1.88628757e-06 2.66414063e-06\n",
            "  3.73521822e-06 5.19857607e-06 7.18228141e-06 9.85031281e-06\n",
            "  1.34105694e-05 1.81239979e-05 2.43147820e-05 3.23814542e-05\n",
            "  4.28086868e-05 5.61793945e-05 7.31866373e-05 9.46446616e-05\n",
            "  1.21498256e-04 1.54829444e-04 1.95860408e-04 2.45951427e-04\n",
            "  3.06592572e-04 3.79387923e-04 4.66031171e-04 5.68271689e-04\n",
            "  6.87870469e-04 8.26545757e-04 9.85908763e-04 1.16739047e-03\n",
            "  1.37216125e-03 1.60104577e-03 1.85443637e-03 2.13220872e-03\n",
            "  2.43364420e-03 2.75736364e-03 3.10127727e-03 3.46255545e-03\n",
            "  3.83762442e-03 4.22219018e-03 4.61129285e-03 4.99939220e-03\n",
            "  5.38048348e-03 5.74824125e-03 6.09618674e-03 6.41787314e-03\n",
            "  6.70708151e-03 6.95801934e-03 7.16551269e-03 7.32518332e-03\n",
            "  7.43360220e-03 7.48841192e-03 7.48841192e-03 7.43360220e-03\n",
            "  7.32518332e-03 7.16551269e-03 6.95801934e-03 6.70708151e-03\n",
            "  6.41787314e-03 6.09618674e-03 5.74824125e-03 5.38048348e-03\n",
            "  4.99939220e-03 4.61129285e-03 4.22219018e-03 3.83762442e-03\n",
            "  3.46255545e-03 3.10127727e-03 2.75736364e-03 2.43364420e-03\n",
            "  2.13220872e-03 1.85443637e-03 1.60104577e-03 1.37216125e-03\n",
            "  1.16739047e-03 9.85908763e-04 8.26545757e-04 6.87870469e-04\n",
            "  5.68271689e-04 4.66031171e-04 3.79387923e-04 3.06592572e-04\n",
            "  2.45951427e-04 1.95860408e-04 1.54829444e-04 1.21498256e-04\n",
            "  9.46446616e-05 7.31866373e-05 5.61793945e-05 4.28086868e-05\n",
            "  3.23814542e-05 2.43147820e-05 1.81239979e-05 1.34105694e-05\n",
            "  9.85031281e-06 7.18228141e-06 5.19857607e-06 3.73521822e-06\n",
            "  2.66414063e-06 1.88628757e-06 1.32577020e-06 9.24992454e-07]\n",
            " [7.04844056e-07 1.01023661e-06 1.43735073e-06 2.03007460e-06\n",
            "  2.84623550e-06 3.96131387e-06 5.47289693e-06 7.50593629e-06\n",
            "  1.02188511e-05 1.38104826e-05 1.85278588e-05 2.46746613e-05\n",
            "  3.26202103e-05 4.28086868e-05 5.57682022e-05 7.21192122e-05\n",
            "  9.25816453e-05 1.17980004e-04 1.49245590e-04 1.87414936e-04\n",
            "  2.33623476e-04 2.89093518e-04 3.55115655e-04 4.33022908e-04\n",
            "  5.24157153e-04 6.29827693e-04 7.51262270e-04 8.89551292e-04\n",
            "  1.04558658e-03 1.21999654e-03 1.41308013e-03 1.62474260e-03\n",
            "  1.85443637e-03 2.10111052e-03 2.36317263e-03 2.63846653e-03\n",
            "  2.92426900e-03 3.21730803e-03 3.51380419e-03 3.80953580e-03\n",
            "  4.09992728e-03 4.38015862e-03 4.64529302e-03 4.89041798e-03\n",
            "  5.11079470e-03 5.30200928e-03 5.46011916e-03 5.58178815e-03\n",
            "  5.66440331e-03 5.70616831e-03 5.70616831e-03 5.66440331e-03\n",
            "  5.58178815e-03 5.46011916e-03 5.30200928e-03 5.11079470e-03\n",
            "  4.89041798e-03 4.64529302e-03 4.38015862e-03 4.09992728e-03\n",
            "  3.80953580e-03 3.51380419e-03 3.21730803e-03 2.92426900e-03\n",
            "  2.63846653e-03 2.36317263e-03 2.10111052e-03 1.85443637e-03\n",
            "  1.62474260e-03 1.41308013e-03 1.21999654e-03 1.04558658e-03\n",
            "  8.89551292e-04 7.51262270e-04 6.29827693e-04 5.24157153e-04\n",
            "  4.33022908e-04 3.55115655e-04 2.89093518e-04 2.33623476e-04\n",
            "  1.87414936e-04 1.49245590e-04 1.17980004e-04 9.25816453e-05\n",
            "  7.21192122e-05 5.57682022e-05 4.28086868e-05 3.26202103e-05\n",
            "  2.46746613e-05 1.85278588e-05 1.38104826e-05 1.02188511e-05\n",
            "  7.50593629e-06 5.47289693e-06 3.96131387e-06 2.84623550e-06\n",
            "  2.03007460e-06 1.43735073e-06 1.01023661e-06 7.04844056e-07]\n",
            " [5.33159907e-07 7.64165708e-07 1.08724444e-06 1.53559412e-06\n",
            "  2.15295659e-06 2.99642696e-06 4.13982241e-06 5.67765914e-06\n",
            "  7.72976893e-06 1.04465599e-05 1.40148894e-05 1.86644691e-05\n",
            "  2.46746613e-05 3.23814542e-05 4.21843233e-05 5.45525953e-05\n",
            "  7.00308402e-05 8.92427300e-05 1.12892723e-04 1.41764875e-04\n",
            "  1.76718055e-04 2.18676843e-04 2.68617473e-04 3.27548273e-04\n",
            "  3.96484267e-04 4.76415842e-04 5.68271689e-04 6.72876618e-04\n",
            "  7.90905224e-04 9.22832842e-04 1.06888561e-03 1.22899187e-03\n",
            "  1.40273741e-03 1.58932728e-03 1.78755696e-03 1.99579546e-03\n",
            "  2.21198289e-03 2.43364420e-03 2.65792057e-03 2.88161862e-03\n",
            "  3.10127727e-03 3.31325056e-03 3.51380419e-03 3.69922223e-03\n",
            "  3.86592014e-03 4.01055914e-03 4.13015702e-03 4.22219018e-03\n",
            "  4.28468215e-03 4.31627413e-03 4.31627413e-03 4.28468215e-03\n",
            "  4.22219018e-03 4.13015702e-03 4.01055914e-03 3.86592014e-03\n",
            "  3.69922223e-03 3.51380419e-03 3.31325056e-03 3.10127727e-03\n",
            "  2.88161862e-03 2.65792057e-03 2.43364420e-03 2.21198289e-03\n",
            "  1.99579546e-03 1.78755696e-03 1.58932728e-03 1.40273741e-03\n",
            "  1.22899187e-03 1.06888561e-03 9.22832842e-04 7.90905224e-04\n",
            "  6.72876618e-04 5.68271689e-04 4.76415842e-04 3.96484267e-04\n",
            "  3.27548273e-04 2.68617473e-04 2.18676843e-04 1.76718055e-04\n",
            "  1.41764875e-04 1.12892723e-04 8.92427300e-05 7.00308402e-05\n",
            "  5.45525953e-05 4.21843233e-05 3.23814542e-05 2.46746613e-05\n",
            "  1.86644691e-05 1.40148894e-05 1.04465599e-05 7.72976893e-06\n",
            "  5.67765914e-06 4.13982241e-06 2.99642696e-06 2.15295659e-06\n",
            "  1.53559412e-06 1.08724444e-06 7.64165708e-07 5.33159907e-07]\n",
            " [4.00342334e-07 5.73801366e-07 8.16396680e-07 1.15305619e-06\n",
            "  1.61662506e-06 2.24997519e-06 3.10853487e-06 4.26327501e-06\n",
            "  5.80417561e-06 7.84417602e-06 1.05235848e-05 1.40148894e-05\n",
            "  1.85278588e-05 2.43147820e-05 3.16756197e-05 4.09627825e-05\n",
            "  5.25851805e-05 6.70111205e-05 8.47695702e-05 1.06449267e-04\n",
            "  1.32695121e-04 1.64201390e-04 2.01701112e-04 2.45951427e-04\n",
            "  2.97714503e-04 3.57734007e-04 4.26707281e-04 5.05253662e-04\n",
            "  5.93879695e-04 6.92942302e-04 8.02611287e-04 9.22832842e-04\n",
            "  1.05329594e-03 1.19340368e-03 1.34225158e-03 1.49861496e-03\n",
            "  1.66094708e-03 1.82738947e-03 1.99579546e-03 2.16376721e-03\n",
            "  2.32870582e-03 2.48787361e-03 2.63846653e-03 2.77769434e-03\n",
            "  2.90286548e-03 3.01147289e-03 3.10127727e-03 3.17038368e-03\n",
            "  3.21730803e-03 3.24103001e-03 3.24103001e-03 3.21730803e-03\n",
            "  3.17038368e-03 3.10127727e-03 3.01147289e-03 2.90286548e-03\n",
            "  2.77769434e-03 2.63846653e-03 2.48787361e-03 2.32870582e-03\n",
            "  2.16376721e-03 1.99579546e-03 1.82738947e-03 1.66094708e-03\n",
            "  1.49861496e-03 1.34225158e-03 1.19340368e-03 1.05329594e-03\n",
            "  9.22832842e-04 8.02611287e-04 6.92942302e-04 5.93879695e-04\n",
            "  5.05253662e-04 4.26707281e-04 3.57734007e-04 2.97714503e-04\n",
            "  2.45951427e-04 2.01701112e-04 1.64201390e-04 1.32695121e-04\n",
            "  1.06449267e-04 8.47695702e-05 6.70111205e-05 5.25851805e-05\n",
            "  4.09627825e-05 3.16756197e-05 2.43147820e-05 1.85278588e-05\n",
            "  1.40148894e-05 1.05235848e-05 7.84417602e-06 5.80417561e-06\n",
            "  4.26327501e-06 3.10853487e-06 2.24997519e-06 1.61662506e-06\n",
            "  1.15305619e-06 8.16396680e-07 5.73801366e-07 4.00342334e-07]\n",
            " [2.98411214e-07 4.27705861e-07 6.08534007e-07 8.59476676e-07\n",
            "  1.20501632e-06 1.67710924e-06 2.31707114e-06 3.17780301e-06\n",
            "  4.32637507e-06 5.84697119e-06 7.84417602e-06 1.04465599e-05\n",
            "  1.38104826e-05 1.81239979e-05 2.36106935e-05 3.05332527e-05\n",
            "  3.91964733e-05 4.99494262e-05 6.31863989e-05 7.93462300e-05\n",
            "  9.89096304e-05 1.22394091e-04 1.50346013e-04 1.83329760e-04\n",
            "  2.21913445e-04 2.66651389e-04 3.18063385e-04 3.76611080e-04\n",
            "  4.42672048e-04 5.16512336e-04 5.98258512e-04 6.87870469e-04\n",
            "  7.85116374e-04 8.89551292e-04 1.00050104e-03 1.11705276e-03\n",
            "  1.23805352e-03 1.36211803e-03 1.48764619e-03 1.61285067e-03\n",
            "  1.73579428e-03 1.85443637e-03 1.96668684e-03 2.07046588e-03\n",
            "  2.16376721e-03 2.24472210e-03 2.31166139e-03 2.36317263e-03\n",
            "  2.39814957e-03 2.41583170e-03 2.41583170e-03 2.39814957e-03\n",
            "  2.36317263e-03 2.31166139e-03 2.24472210e-03 2.16376721e-03\n",
            "  2.07046588e-03 1.96668684e-03 1.85443637e-03 1.73579428e-03\n",
            "  1.61285067e-03 1.48764619e-03 1.36211803e-03 1.23805352e-03\n",
            "  1.11705276e-03 1.00050104e-03 8.89551292e-04 7.85116374e-04\n",
            "  6.87870469e-04 5.98258512e-04 5.16512336e-04 4.42672048e-04\n",
            "  3.76611080e-04 3.18063385e-04 2.66651389e-04 2.21913445e-04\n",
            "  1.83329760e-04 1.50346013e-04 1.22394091e-04 9.89096304e-05\n",
            "  7.93462300e-05 6.31863989e-05 4.99494262e-05 3.91964733e-05\n",
            "  3.05332527e-05 2.36106935e-05 1.81239979e-05 1.38104826e-05\n",
            "  1.04465599e-05 7.84417602e-06 5.84697119e-06 4.32637507e-06\n",
            "  3.17780301e-06 2.31707114e-06 1.67710924e-06 1.20501632e-06\n",
            "  8.59476676e-07 6.08534007e-07 4.27705861e-07 2.98411214e-07]\n",
            " [2.20804720e-07 3.16474276e-07 4.50275241e-07 6.35956352e-07\n",
            "  8.91633019e-07 1.24095081e-06 1.71448062e-06 2.35136574e-06\n",
            "  3.20123371e-06 4.32637507e-06 5.80417561e-06 7.72976893e-06\n",
            "  1.02188511e-05 1.34105694e-05 1.74703641e-05 2.25926038e-05\n",
            "  2.90028186e-05 3.69592983e-05 4.67537897e-05 5.87110045e-05\n",
            "  7.31866373e-05 9.05635976e-05 1.11246186e-04 1.35651995e-04\n",
            "  1.64201390e-04 1.97304534e-04 2.35346037e-04 2.78667491e-04\n",
            "  3.27548273e-04 3.82185241e-04 4.42672048e-04 5.08979018e-04\n",
            "  5.80934607e-04 6.58209595e-04 7.40305131e-04 8.26545757e-04\n",
            "  9.16078378e-04 1.00787798e-03 1.10076058e-03 1.19340368e-03\n",
            "  1.28437388e-03 1.37216125e-03 1.45521923e-03 1.53200891e-03\n",
            "  1.60104577e-03 1.66094708e-03 1.71047776e-03 1.74859270e-03\n",
            "  1.77447335e-03 1.78755696e-03 1.78755696e-03 1.77447335e-03\n",
            "  1.74859270e-03 1.71047776e-03 1.66094708e-03 1.60104577e-03\n",
            "  1.53200891e-03 1.45521923e-03 1.37216125e-03 1.28437388e-03\n",
            "  1.19340368e-03 1.10076058e-03 1.00787798e-03 9.16078378e-04\n",
            "  8.26545757e-04 7.40305131e-04 6.58209595e-04 5.80934607e-04\n",
            "  5.08979018e-04 4.42672048e-04 3.82185241e-04 3.27548273e-04\n",
            "  2.78667491e-04 2.35346037e-04 1.97304534e-04 1.64201390e-04\n",
            "  1.35651995e-04 1.11246186e-04 9.05635976e-05 7.31866373e-05\n",
            "  5.87110045e-05 4.67537897e-05 3.69592983e-05 2.90028186e-05\n",
            "  2.25926038e-05 1.74703641e-05 1.34105694e-05 1.02188511e-05\n",
            "  7.72976893e-06 5.80417561e-06 4.32637507e-06 3.20123371e-06\n",
            "  2.35136574e-06 1.71448062e-06 1.24095081e-06 8.91633019e-07\n",
            "  6.35956352e-07 4.50275241e-07 3.16474276e-07 2.20804720e-07]\n",
            " [1.62185177e-07 2.32456246e-07 3.30735544e-07 4.67121777e-07\n",
            "  6.54921047e-07 9.11501465e-07 1.25931793e-06 1.72712190e-06\n",
            "  2.35136574e-06 3.17780301e-06 4.26327501e-06 5.67765914e-06\n",
            "  7.50593629e-06 9.85031281e-06 1.28323076e-05 1.65946880e-05\n",
            "  2.13031101e-05 2.71472925e-05 3.43415287e-05 4.31243255e-05\n",
            "  5.37569472e-05 6.65206479e-05 8.17123940e-05 9.96389147e-05\n",
            "  1.20608977e-04 1.44923852e-04 1.72866045e-04 2.04686458e-04\n",
            "  2.40590303e-04 2.80722173e-04 3.25150858e-04 3.73854561e-04\n",
            "  4.26707281e-04 4.83467198e-04 5.43767897e-04 6.07113242e-04\n",
            "  6.72876618e-04 7.40305131e-04 8.08529132e-04 8.76577212e-04\n",
            "  9.43396521e-04 1.00787798e-03 1.06888561e-03 1.12528906e-03\n",
            "  1.17599792e-03 1.21999654e-03 1.25637775e-03 1.28437388e-03\n",
            "  1.30338370e-03 1.31299386e-03 1.31299386e-03 1.30338370e-03\n",
            "  1.28437388e-03 1.25637775e-03 1.21999654e-03 1.17599792e-03\n",
            "  1.12528906e-03 1.06888561e-03 1.00787798e-03 9.43396521e-04\n",
            "  8.76577212e-04 8.08529132e-04 7.40305131e-04 6.72876618e-04\n",
            "  6.07113242e-04 5.43767897e-04 4.83467198e-04 4.26707281e-04\n",
            "  3.73854561e-04 3.25150858e-04 2.80722173e-04 2.40590303e-04\n",
            "  2.04686458e-04 1.72866045e-04 1.44923852e-04 1.20608977e-04\n",
            "  9.96389147e-05 8.17123940e-05 6.65206479e-05 5.37569472e-05\n",
            "  4.31243255e-05 3.43415287e-05 2.71472925e-05 2.13031101e-05\n",
            "  1.65946880e-05 1.28323076e-05 9.85031281e-06 7.50593629e-06\n",
            "  5.67765914e-06 4.26327501e-06 3.17780301e-06 2.35136574e-06\n",
            "  1.72712190e-06 1.25931793e-06 9.11501465e-07 6.54921047e-07\n",
            "  4.67121777e-07 3.30735544e-07 2.32456246e-07 1.62185177e-07]\n",
            " [1.18256100e-07 1.69493721e-07 2.41153332e-07 3.40598326e-07\n",
            "  4.77530750e-07 6.64614430e-07 9.18222183e-07 1.25931793e-06\n",
            "  1.71448062e-06 2.31707114e-06 3.10853487e-06 4.13982241e-06\n",
            "  5.47289693e-06 7.18228141e-06 9.35658045e-06 1.20998918e-05\n",
            "  1.55330023e-05 1.97942439e-05 2.50398670e-05 3.14437772e-05\n",
            "  3.91964733e-05 4.85030295e-05 5.95799767e-05 7.26509644e-05\n",
            "  8.79411273e-05 1.05670135e-04 1.26043975e-04 1.49245590e-04\n",
            "  1.75424608e-04 2.04686458e-04 2.37081300e-04 2.72593238e-04\n",
            "  3.11130401e-04 3.52516467e-04 3.96484267e-04 4.42672048e-04\n",
            "  4.90622919e-04 5.39787912e-04 5.89532928e-04 6.39149673e-04\n",
            "  6.87870469e-04 7.34886636e-04 7.79369894e-04 8.20496044e-04\n",
            "  8.57470026e-04 8.89551292e-04 9.16078378e-04 9.36491545e-04\n",
            "  9.50352408e-04 9.57359583e-04 9.57359583e-04 9.50352408e-04\n",
            "  9.36491545e-04 9.16078378e-04 8.89551292e-04 8.57470026e-04\n",
            "  8.20496044e-04 7.79369894e-04 7.34886636e-04 6.87870469e-04\n",
            "  6.39149673e-04 5.89532928e-04 5.39787912e-04 4.90622919e-04\n",
            "  4.42672048e-04 3.96484267e-04 3.52516467e-04 3.11130401e-04\n",
            "  2.72593238e-04 2.37081300e-04 2.04686458e-04 1.75424608e-04\n",
            "  1.49245590e-04 1.26043975e-04 1.05670135e-04 8.79411273e-05\n",
            "  7.26509644e-05 5.95799767e-05 4.85030295e-05 3.91964733e-05\n",
            "  3.14437772e-05 2.50398670e-05 1.97942439e-05 1.55330023e-05\n",
            "  1.20998918e-05 9.35658045e-06 7.18228141e-06 5.47289693e-06\n",
            "  4.13982241e-06 3.10853487e-06 2.31707114e-06 1.71448062e-06\n",
            "  1.25931793e-06 9.18222183e-07 6.64614430e-07 4.77530750e-07\n",
            "  3.40598326e-07 2.41153332e-07 1.69493721e-07 1.18256100e-07]\n",
            " [8.55944368e-08 1.22680518e-07 1.74548151e-07 2.46527002e-07\n",
            "  3.45639468e-07 4.81051698e-07 6.64614430e-07 9.11501465e-07\n",
            "  1.24095081e-06 1.67710924e-06 2.24997519e-06 2.99642696e-06\n",
            "  3.96131387e-06 5.19857607e-06 6.77234606e-06 8.75797037e-06\n",
            "  1.12428752e-05 1.43271861e-05 1.81239979e-05 2.27591845e-05\n",
            "  2.83706299e-05 3.51067682e-05 4.31243255e-05 5.25851805e-05\n",
            "  6.36522873e-05 7.64846440e-05 9.12313446e-05 1.08024805e-04\n",
            "  1.26973327e-04 1.48153221e-04 1.71600791e-04 1.97304534e-04\n",
            "  2.25197951e-04 2.55153420e-04 2.86977564e-04 3.20408542e-04\n",
            "  3.55115655e-04 3.90701555e-04 4.26707281e-04 4.62620162e-04\n",
            "  4.97884551e-04 5.31915120e-04 5.64112354e-04 5.93879695e-04\n",
            "  6.20641674e-04 6.43862276e-04 6.63062731e-04 6.77837898e-04\n",
            "  6.87870469e-04 6.92942302e-04 6.92942302e-04 6.87870469e-04\n",
            "  6.77837898e-04 6.63062731e-04 6.43862276e-04 6.20641674e-04\n",
            "  5.93879695e-04 5.64112354e-04 5.31915120e-04 4.97884551e-04\n",
            "  4.62620162e-04 4.26707281e-04 3.90701555e-04 3.55115655e-04\n",
            "  3.20408542e-04 2.86977564e-04 2.55153420e-04 2.25197951e-04\n",
            "  1.97304534e-04 1.71600791e-04 1.48153221e-04 1.26973327e-04\n",
            "  1.08024805e-04 9.12313446e-05 7.64846440e-05 6.36522873e-05\n",
            "  5.25851805e-05 4.31243255e-05 3.51067682e-05 2.83706299e-05\n",
            "  2.27591845e-05 1.81239979e-05 1.43271861e-05 1.12428752e-05\n",
            "  8.75797037e-06 6.77234606e-06 5.19857607e-06 3.96131387e-06\n",
            "  2.99642696e-06 2.24997519e-06 1.67710924e-06 1.24095081e-06\n",
            "  9.11501465e-07 6.64614430e-07 4.81051698e-07 3.45639468e-07\n",
            "  2.46527002e-07 1.74548151e-07 1.22680518e-07 8.55944368e-08]\n",
            " [6.15002831e-08 8.81469270e-08 1.25414234e-07 1.77131610e-07\n",
            "  2.48344705e-07 3.45639468e-07 4.77530750e-07 6.54921047e-07\n",
            "  8.91633019e-07 1.20501632e-06 1.61662506e-06 2.15295659e-06\n",
            "  2.84623550e-06 3.73521822e-06 4.86598447e-06 6.29267131e-06\n",
            "  8.07809522e-06 1.02941971e-05 1.30222365e-05 1.63526549e-05\n",
            "  2.03845231e-05 2.52244919e-05 3.09851706e-05 3.77828701e-05\n",
            "  4.57346743e-05 5.49548246e-05 6.55504461e-05 7.76166811e-05\n",
            "  9.12313446e-05 1.06449267e-04 1.23296532e-04 1.41764875e-04\n",
            "  1.61806517e-04 1.83329760e-04 2.06195660e-04 2.30216084e-04\n",
            "  2.55153420e-04 2.80722173e-04 3.06592572e-04 3.32396263e-04\n",
            "  3.57734007e-04 3.82185241e-04 4.05319210e-04 4.26707281e-04\n",
            "  4.45935975e-04 4.62620162e-04 4.76415842e-04 4.87031917e-04\n",
            "  4.94240399e-04 4.97884551e-04 4.97884551e-04 4.94240399e-04\n",
            "  4.87031917e-04 4.76415842e-04 4.62620162e-04 4.45935975e-04\n",
            "  4.26707281e-04 4.05319210e-04 3.82185241e-04 3.57734007e-04\n",
            "  3.32396263e-04 3.06592572e-04 2.80722173e-04 2.55153420e-04\n",
            "  2.30216084e-04 2.06195660e-04 1.83329760e-04 1.61806517e-04\n",
            "  1.41764875e-04 1.23296532e-04 1.06449267e-04 9.12313446e-05\n",
            "  7.76166811e-05 6.55504461e-05 5.49548246e-05 4.57346743e-05\n",
            "  3.77828701e-05 3.09851706e-05 2.52244919e-05 2.03845231e-05\n",
            "  1.63526549e-05 1.30222365e-05 1.02941971e-05 8.07809522e-06\n",
            "  6.29267131e-06 4.86598447e-06 3.73521822e-06 2.84623550e-06\n",
            "  2.15295659e-06 1.61662506e-06 1.20501632e-06 8.91633019e-07\n",
            "  6.54921047e-07 4.77530750e-07 3.45639468e-07 2.48344705e-07\n",
            "  1.77131610e-07 1.25414234e-07 8.81469270e-08 6.15002831e-08]\n",
            " [4.38650150e-08 6.28707069e-08 8.94515757e-08 1.26338943e-07\n",
            "  1.77131610e-07 2.46527002e-07 3.40598326e-07 4.67121777e-07\n",
            "  6.35956352e-07 8.59476676e-07 1.15305619e-06 1.53559412e-06\n",
            "  2.03007460e-06 2.66414063e-06 3.47065852e-06 4.48824147e-06\n",
            "  5.76169327e-06 7.34232570e-06 9.28809710e-06 1.16635146e-05\n",
            "  1.45392405e-05 1.79913435e-05 2.21001417e-05 2.69485941e-05\n",
            "  3.26202103e-05 3.91964733e-05 4.67537897e-05 5.53600196e-05\n",
            "  6.50706646e-05 7.59248321e-05 8.79411273e-05 1.01113655e-04\n",
            "  1.15408335e-04 1.30759767e-04 1.47068847e-04 1.64201390e-04\n",
            "  1.81987920e-04 2.00224807e-04 2.18676843e-04 2.37081300e-04\n",
            "  2.55153420e-04 2.72593238e-04 2.89093518e-04 3.04348538e-04\n",
            "  3.18063385e-04 3.29963365e-04 3.39803119e-04 3.47375024e-04\n",
            "  3.52516467e-04 3.55115655e-04 3.55115655e-04 3.52516467e-04\n",
            "  3.47375024e-04 3.39803119e-04 3.29963365e-04 3.18063385e-04\n",
            "  3.04348538e-04 2.89093518e-04 2.72593238e-04 2.55153420e-04\n",
            "  2.37081300e-04 2.18676843e-04 2.00224807e-04 1.81987920e-04\n",
            "  1.64201390e-04 1.47068847e-04 1.30759767e-04 1.15408335e-04\n",
            "  1.01113655e-04 8.79411273e-05 7.59248321e-05 6.50706646e-05\n",
            "  5.53600196e-05 4.67537897e-05 3.91964733e-05 3.26202103e-05\n",
            "  2.69485941e-05 2.21001417e-05 1.79913435e-05 1.45392405e-05\n",
            "  1.16635146e-05 9.28809710e-06 7.34232570e-06 5.76169327e-06\n",
            "  4.48824147e-06 3.47065852e-06 2.66414063e-06 2.03007460e-06\n",
            "  1.53559412e-06 1.15305619e-06 8.59476676e-07 6.35956352e-07\n",
            "  4.67121777e-07 3.40598326e-07 2.46527002e-07 1.77131610e-07\n",
            "  1.26338943e-07 8.94515757e-08 6.28707069e-08 4.38650150e-08]\n",
            " [3.10576820e-08 4.45142541e-08 6.33342676e-08 8.94515757e-08\n",
            "  1.25414234e-07 1.74548151e-07 2.41153332e-07 3.30735544e-07\n",
            "  4.50275241e-07 6.08534007e-07 8.16396680e-07 1.08724444e-06\n",
            "  1.43735073e-06 1.88628757e-06 2.45732525e-06 3.17780301e-06\n",
            "  4.07944321e-06 5.19857607e-06 6.57623773e-06 8.25810111e-06\n",
            "  1.02941971e-05 1.27383844e-05 1.56475308e-05 1.90803734e-05\n",
            "  2.30960396e-05 2.77522213e-05 3.31030169e-05 3.91964733e-05\n",
            "  4.60718869e-05 5.37569472e-05 6.22648270e-05 7.15913521e-05\n",
            "  8.17123940e-05 9.25816453e-05 1.04128939e-04 1.16259269e-04\n",
            "  1.28852639e-04 1.41764875e-04 1.54829444e-04 1.67860324e-04\n",
            "  1.80655901e-04 1.93003789e-04 2.04686458e-04 2.15487448e-04\n",
            "  2.25197951e-04 2.33623476e-04 2.40590303e-04 2.45951427e-04\n",
            "  2.49591715e-04 2.51432015e-04 2.51432015e-04 2.49591715e-04\n",
            "  2.45951427e-04 2.40590303e-04 2.33623476e-04 2.25197951e-04\n",
            "  2.15487448e-04 2.04686458e-04 1.93003789e-04 1.80655901e-04\n",
            "  1.67860324e-04 1.54829444e-04 1.41764875e-04 1.28852639e-04\n",
            "  1.16259269e-04 1.04128939e-04 9.25816453e-05 8.17123940e-05\n",
            "  7.15913521e-05 6.22648270e-05 5.37569472e-05 4.60718869e-05\n",
            "  3.91964733e-05 3.31030169e-05 2.77522213e-05 2.30960396e-05\n",
            "  1.90803734e-05 1.56475308e-05 1.27383844e-05 1.02941971e-05\n",
            "  8.25810111e-06 6.57623773e-06 5.19857607e-06 4.07944321e-06\n",
            "  3.17780301e-06 2.45732525e-06 1.88628757e-06 1.43735073e-06\n",
            "  1.08724444e-06 8.16396680e-07 6.08534007e-07 4.50275241e-07\n",
            "  3.30735544e-07 2.41153332e-07 1.74548151e-07 1.25414234e-07\n",
            "  8.94515757e-08 6.33342676e-08 4.45142541e-08 3.10576820e-08]\n",
            " [2.18287761e-08 3.12866777e-08 4.45142541e-08 6.28707069e-08\n",
            "  8.81469270e-08 1.22680518e-07 1.69493721e-07 2.32456246e-07\n",
            "  3.16474276e-07 4.27705861e-07 5.73801366e-07 7.64165708e-07\n",
            "  1.01023661e-06 1.32577020e-06 1.72712190e-06 2.23350701e-06\n",
            "  2.86722147e-06 3.65379983e-06 4.62208420e-06 5.80417561e-06\n",
            "  7.23523808e-06 8.95312607e-06 1.09978088e-05 1.34105694e-05\n",
            "  1.62329654e-05 1.95055454e-05 2.32663322e-05 2.75490953e-05\n",
            "  3.23814542e-05 3.77828701e-05 4.37626018e-05 5.03177152e-05\n",
            "  5.74312518e-05 6.50706646e-05 7.31866373e-05 8.17123940e-05\n",
            "  9.05635976e-05 9.96389147e-05 1.08821298e-04 1.17980004e-04\n",
            "  1.26973327e-04 1.35651995e-04 1.43863115e-04 1.51454550e-04\n",
            "  1.58279541e-04 1.64201390e-04 1.69097998e-04 1.72866045e-04\n",
            "  1.75424608e-04 1.76718055e-04 1.76718055e-04 1.75424608e-04\n",
            "  1.72866045e-04 1.69097998e-04 1.64201390e-04 1.58279541e-04\n",
            "  1.51454550e-04 1.43863115e-04 1.35651995e-04 1.26973327e-04\n",
            "  1.17980004e-04 1.08821298e-04 9.96389147e-05 9.05635976e-05\n",
            "  8.17123940e-05 7.31866373e-05 6.50706646e-05 5.74312518e-05\n",
            "  5.03177152e-05 4.37626018e-05 3.77828701e-05 3.23814542e-05\n",
            "  2.75490953e-05 2.32663322e-05 1.95055454e-05 1.62329654e-05\n",
            "  1.34105694e-05 1.09978088e-05 8.95312607e-06 7.23523808e-06\n",
            "  5.80417561e-06 4.62208420e-06 3.65379983e-06 2.86722147e-06\n",
            "  2.23350701e-06 1.72712190e-06 1.32577020e-06 1.01023661e-06\n",
            "  7.64165708e-07 5.73801366e-07 4.27705861e-07 3.16474276e-07\n",
            "  2.32456246e-07 1.69493721e-07 1.22680518e-07 8.81469270e-08\n",
            "  6.28707069e-08 4.45142541e-08 3.12866777e-08 2.18287761e-08]\n",
            " [1.52299797e-08 2.18287761e-08 3.10576820e-08 4.38650150e-08\n",
            "  6.15002831e-08 8.55944368e-08 1.18256100e-07 1.62185177e-07\n",
            "  2.20804720e-07 2.98411214e-07 4.00342334e-07 5.33159907e-07\n",
            "  7.04844056e-07 9.24992454e-07 1.20501632e-06 1.55832220e-06\n",
            "  2.00046602e-06 2.54926327e-06 3.22483717e-06 4.04958466e-06\n",
            "  5.04803974e-06 6.24661354e-06 7.67319265e-06 9.35658045e-06\n",
            "  1.13257716e-05 1.36090571e-05 1.62329654e-05 1.92210576e-05\n",
            "  2.25926038e-05 2.63611823e-05 3.05332527e-05 3.51067682e-05\n",
            "  4.00698965e-05 4.53999298e-05 5.10624598e-05 5.70108968e-05\n",
            "  6.31863989e-05 6.95182654e-05 7.59248321e-05 8.23148789e-05\n",
            "  8.85895382e-05 9.46446616e-05 1.00373576e-04 1.05670135e-04\n",
            "  1.10431945e-04 1.14563630e-04 1.17980004e-04 1.20608977e-04\n",
            "  1.22394091e-04 1.23296532e-04 1.23296532e-04 1.22394091e-04\n",
            "  1.20608977e-04 1.17980004e-04 1.14563630e-04 1.10431945e-04\n",
            "  1.05670135e-04 1.00373576e-04 9.46446616e-05 8.85895382e-05\n",
            "  8.23148789e-05 7.59248321e-05 6.95182654e-05 6.31863989e-05\n",
            "  5.70108968e-05 5.10624598e-05 4.53999298e-05 4.00698965e-05\n",
            "  3.51067682e-05 3.05332527e-05 2.63611823e-05 2.25926038e-05\n",
            "  1.92210576e-05 1.62329654e-05 1.36090571e-05 1.13257716e-05\n",
            "  9.35658045e-06 7.67319265e-06 6.24661354e-06 5.04803974e-06\n",
            "  4.04958466e-06 3.22483717e-06 2.54926327e-06 2.00046602e-06\n",
            "  1.55832220e-06 1.20501632e-06 9.24992454e-07 7.04844056e-07\n",
            "  5.33159907e-07 4.00342334e-07 2.98411214e-07 2.20804720e-07\n",
            "  1.62185177e-07 1.18256100e-07 8.55944368e-08 6.15002831e-08\n",
            "  4.38650150e-08 3.10576820e-08 2.18287761e-08 1.52299797e-08]]\n"
          ]
        }
      ],
      "source": [
        "import numpy as np\n",
        "\n",
        "x = np.linspace(-3, 3, 100)\n",
        "y = np.linspace(-3, 3, 100)\n",
        "X, Y = np.meshgrid(x, y)\n",
        "\n",
        "Z = np.exp(-(X**2 + Y**2))\n",
        "print(Z)\n"
      ]
    },
    {
      "cell_type": "markdown",
      "id": "86550d61",
      "metadata": {
        "id": "86550d61"
      },
      "source": [
        "#### 57. How to randomly place p elements in a 2D array? (★★☆)"
      ]
    },
    {
      "cell_type": "code",
      "execution_count": null,
      "id": "db9f2582",
      "metadata": {
        "colab": {
          "base_uri": "https://localhost:8080/"
        },
        "id": "db9f2582",
        "outputId": "3d7d7979-2f9b-4427-d410-7f4339029ec4"
      },
      "outputs": [
        {
          "output_type": "stream",
          "name": "stdout",
          "text": [
            "[[0. 0. 0. 0. 0.]\n",
            " [0. 0. 1. 0. 0.]\n",
            " [0. 1. 0. 0. 0.]\n",
            " [0. 1. 0. 1. 0.]\n",
            " [0. 1. 0. 0. 0.]]\n"
          ]
        }
      ],
      "source": [
        "import numpy as np\n",
        "\n",
        "arr = np.zeros((5, 5))\n",
        "p = 5\n",
        "indices = np.random.choice(arr.size, p, replace=False)\n",
        "np.put(arr, indices, 1)\n",
        "print(arr)\n"
      ]
    },
    {
      "cell_type": "markdown",
      "id": "153f8cfa",
      "metadata": {
        "id": "153f8cfa"
      },
      "source": [
        "#### 58. Subtract the mean of each row of a matrix (★★☆)"
      ]
    },
    {
      "cell_type": "code",
      "execution_count": null,
      "id": "8301cb12",
      "metadata": {
        "colab": {
          "base_uri": "https://localhost:8080/"
        },
        "id": "8301cb12",
        "outputId": "963d8b44-c060-4ecd-b385-a74c7b4251ba"
      },
      "outputs": [
        {
          "output_type": "stream",
          "name": "stdout",
          "text": [
            "[[-0.15809066  0.24859253 -0.03075016  0.22116134 -0.28091305]\n",
            " [-0.14131266 -0.09586047  0.33342001 -0.13713017  0.04088329]\n",
            " [ 0.01794185 -0.13104671  0.33024404 -0.30064133  0.08350214]\n",
            " [ 0.00876691  0.3492486  -0.04852477 -0.00935446 -0.30013627]\n",
            " [ 0.18922757  0.02420089  0.10083347 -0.09676271 -0.21749923]]\n"
          ]
        }
      ],
      "source": [
        "import numpy as np\n",
        "\n",
        "matrix = np.random.random((5, 5))\n",
        "matrix -= matrix.mean(axis=1)[:, np.newaxis]\n",
        "print(matrix)\n"
      ]
    },
    {
      "cell_type": "markdown",
      "id": "f4038090",
      "metadata": {
        "id": "f4038090"
      },
      "source": [
        "#### 59. How to sort an array by the nth column? (★★☆)"
      ]
    },
    {
      "cell_type": "code",
      "execution_count": null,
      "id": "eb5745df",
      "metadata": {
        "colab": {
          "base_uri": "https://localhost:8080/"
        },
        "id": "eb5745df",
        "outputId": "3d1d185c-4099-4757-da1a-fe187e7de0a6"
      },
      "outputs": [
        {
          "output_type": "stream",
          "name": "stdout",
          "text": [
            "[[0.87356612 0.78243861 0.13959319 0.67964038 0.87330072]\n",
            " [0.68030736 0.18761802 0.24734453 0.96830826 0.64129836]\n",
            " [0.22833917 0.96180596 0.36862269 0.16188498 0.6170707 ]\n",
            " [0.96796    0.38411875 0.39408561 0.76466651 0.89656302]\n",
            " [0.36607467 0.96341127 0.53298261 0.63936282 0.19142146]]\n"
          ]
        }
      ],
      "source": [
        "import numpy as np\n",
        "\n",
        "arr = np.random.random((5, 5))\n",
        "n = 2\n",
        "sorted_arr = arr[arr[:, n].argsort()]\n",
        "print(sorted_arr)\n"
      ]
    },
    {
      "cell_type": "markdown",
      "id": "20d2a462",
      "metadata": {
        "id": "20d2a462"
      },
      "source": [
        "#### 60. How to tell if a given 2D array has null columns? (★★☆)"
      ]
    },
    {
      "cell_type": "code",
      "execution_count": null,
      "id": "b92b7316",
      "metadata": {
        "colab": {
          "base_uri": "https://localhost:8080/"
        },
        "id": "b92b7316",
        "outputId": "b058e8fa-4f0b-4f49-d30b-2837e64bdf07"
      },
      "outputs": [
        {
          "output_type": "stream",
          "name": "stdout",
          "text": [
            "False\n"
          ]
        }
      ],
      "source": [
        "import numpy as np\n",
        "\n",
        "arr = np.random.random((5, 5))\n",
        "has_null_columns = np.any(np.all(arr == 0, axis=0))\n",
        "print(has_null_columns)\n"
      ]
    },
    {
      "cell_type": "markdown",
      "id": "bb2aa49b",
      "metadata": {
        "id": "bb2aa49b"
      },
      "source": [
        "#### 61. Find the nearest value from a given value in an array (★★☆)"
      ]
    },
    {
      "cell_type": "code",
      "execution_count": null,
      "id": "8b62e59c",
      "metadata": {
        "colab": {
          "base_uri": "https://localhost:8080/"
        },
        "id": "8b62e59c",
        "outputId": "2f64d149-008b-4767-c486-7dd23e22ddcf"
      },
      "outputs": [
        {
          "output_type": "stream",
          "name": "stdout",
          "text": [
            "0.500428790360608\n"
          ]
        }
      ],
      "source": [
        "import numpy as np\n",
        "\n",
        "arr = np.random.random(10)\n",
        "value = 0.5\n",
        "nearest_value = arr[np.abs(arr - value).argmin()]\n",
        "print(nearest_value)\n"
      ]
    },
    {
      "cell_type": "markdown",
      "id": "1a950e1a",
      "metadata": {
        "id": "1a950e1a"
      },
      "source": [
        "#### 62. Considering two arrays with shape (1,3) and (3,1), how to compute their sum using an iterator? (★★☆)"
      ]
    },
    {
      "cell_type": "code",
      "execution_count": null,
      "id": "cad1d01b",
      "metadata": {
        "colab": {
          "base_uri": "https://localhost:8080/"
        },
        "id": "cad1d01b",
        "outputId": "90663d16-f34e-403b-9d45-6cf7872fb4b0"
      },
      "outputs": [
        {
          "output_type": "stream",
          "name": "stdout",
          "text": [
            "2\n",
            "3\n",
            "4\n",
            "3\n",
            "4\n",
            "5\n",
            "4\n",
            "5\n",
            "6\n"
          ]
        }
      ],
      "source": [
        "import numpy as np\n",
        "\n",
        "arr1 = np.array([[1, 2, 3]])\n",
        "arr2 = np.array([[1], [2], [3]])\n",
        "\n",
        "sum_iter = np.nditer([arr1, arr2], flags=['multi_index'])\n",
        "for x, y in sum_iter:\n",
        "    print(x + y)\n"
      ]
    },
    {
      "cell_type": "markdown",
      "id": "165b3a20",
      "metadata": {
        "id": "165b3a20"
      },
      "source": [
        "#### 63. Create an array class that has a name attribute (★★☆)"
      ]
    },
    {
      "cell_type": "code",
      "execution_count": null,
      "id": "666bf983",
      "metadata": {
        "colab": {
          "base_uri": "https://localhost:8080/"
        },
        "id": "666bf983",
        "outputId": "e65d0008-3da0-4260-d3c0-87a8ee43f74c"
      },
      "outputs": [
        {
          "output_type": "stream",
          "name": "stdout",
          "text": [
            "[[1. 0. 0.]\n",
            " [0. 1. 0.]\n",
            " [0. 0. 1.]]\n",
            "Array name: MyArray\n"
          ]
        }
      ],
      "source": [
        "import numpy as np\n",
        "\n",
        "class NamedArray(np.ndarray):\n",
        "    def __new__(cls, shape, dtype=float, name=\"Unnamed\"):\n",
        "        obj = super().__new__(cls, shape, dtype=dtype)\n",
        "        obj.name = name\n",
        "        return obj\n",
        "\n",
        "arr = NamedArray((3, 3), name=\"MyArray\")\n",
        "print(arr)\n",
        "print(\"Array name:\", arr.name)\n"
      ]
    },
    {
      "cell_type": "markdown",
      "id": "87f85b12",
      "metadata": {
        "id": "87f85b12"
      },
      "source": [
        "#### 64. Consider a given vector, how to add 1 to each element indexed by a second vector (be careful with repeated indices)? (★★★)"
      ]
    },
    {
      "cell_type": "code",
      "execution_count": null,
      "id": "03ee4c88",
      "metadata": {
        "colab": {
          "base_uri": "https://localhost:8080/"
        },
        "id": "03ee4c88",
        "outputId": "866b9540-3859-4f51-f8dd-84888395693e"
      },
      "outputs": [
        {
          "output_type": "stream",
          "name": "stdout",
          "text": [
            "[2 2 5 4 6]\n"
          ]
        }
      ],
      "source": [
        "import numpy as np\n",
        "\n",
        "vec1 = np.array([1, 2, 3, 4, 5])\n",
        "indices = np.array([0, 2, 2, 4])\n",
        "\n",
        "np.add.at(vec1, indices, 1)\n",
        "print(vec1)\n"
      ]
    },
    {
      "cell_type": "markdown",
      "id": "1cda27c4",
      "metadata": {
        "id": "1cda27c4"
      },
      "source": [
        "#### 65. How to accumulate elements of a vector (X) to an array (F) based on an index list (I)? (★★★)"
      ]
    },
    {
      "cell_type": "code",
      "execution_count": null,
      "id": "aee2c782",
      "metadata": {
        "colab": {
          "base_uri": "https://localhost:8080/"
        },
        "id": "aee2c782",
        "outputId": "4512b9a4-6040-4a83-c1a3-2e6f633efc51"
      },
      "outputs": [
        {
          "output_type": "stream",
          "name": "stdout",
          "text": [
            "[10.  0. 50.  0. 40.]\n"
          ]
        }
      ],
      "source": [
        "import numpy as np\n",
        "\n",
        "X = np.array([10, 20, 30, 40, 50])\n",
        "I = np.array([0, 2, 2, 4])\n",
        "F = np.zeros(5)\n",
        "\n",
        "\n",
        "X = X[:len(I)]\n",
        "\n",
        "np.add.at(F, I, X)\n",
        "print(F)"
      ]
    },
    {
      "cell_type": "markdown",
      "id": "1db205db",
      "metadata": {
        "id": "1db205db"
      },
      "source": [
        "#### 66. Considering a (w,h,3) image of (dtype=ubyte), compute the number of unique colors (★★☆)"
      ]
    },
    {
      "cell_type": "code",
      "execution_count": null,
      "id": "43204f35",
      "metadata": {
        "colab": {
          "base_uri": "https://localhost:8080/"
        },
        "id": "43204f35",
        "outputId": "ea97f2d1-a0af-465f-ee1f-e463988a65e5"
      },
      "outputs": [
        {
          "output_type": "stream",
          "name": "stdout",
          "text": [
            "25\n"
          ]
        }
      ],
      "source": [
        "import numpy as np\n",
        "\n",
        "image = np.random.randint(0, 256, (5, 5, 3), dtype=np.uint8)\n",
        "unique_colors = np.unique(image.reshape(-1, 3), axis=0)\n",
        "print(len(unique_colors))\n"
      ]
    },
    {
      "cell_type": "markdown",
      "id": "ebaf1222",
      "metadata": {
        "id": "ebaf1222"
      },
      "source": [
        "#### 67. Considering a four dimensions array, how to get sum over the last two axis at once? (★★★)"
      ]
    },
    {
      "cell_type": "code",
      "execution_count": null,
      "id": "aabbbab9",
      "metadata": {
        "colab": {
          "base_uri": "https://localhost:8080/"
        },
        "id": "aabbbab9",
        "outputId": "b4d5e962-4223-4b9c-bc77-0b06eeee33f5"
      },
      "outputs": [
        {
          "output_type": "stream",
          "name": "stdout",
          "text": [
            "[[4.2267915  5.30915379 3.58185195]\n",
            " [4.71187503 5.58247282 3.84656351]\n",
            " [4.20248509 4.13287838 5.00166447]]\n"
          ]
        }
      ],
      "source": [
        "import numpy as np\n",
        "\n",
        "arr = np.random.random((3, 3, 3, 3))\n",
        "sum_result = arr.sum(axis=(-2, -1))\n",
        "print(sum_result)\n"
      ]
    },
    {
      "cell_type": "markdown",
      "id": "2dfb4033",
      "metadata": {
        "id": "2dfb4033"
      },
      "source": [
        " 68. Considering a one-dimensional vector D, how to compute means of subsets of D using a vector S of same size describing subset  indices? (★★★)"
      ]
    },
    {
      "cell_type": "code",
      "execution_count": null,
      "id": "7a9c2287",
      "metadata": {
        "colab": {
          "base_uri": "https://localhost:8080/"
        },
        "id": "7a9c2287",
        "outputId": "153f870f-61de-449d-f7fb-6b2b062d5172"
      },
      "outputs": [
        {
          "output_type": "stream",
          "name": "stdout",
          "text": [
            "[np.float64(1.5), np.float64(3.5), np.float64(5.5)]\n"
          ]
        }
      ],
      "source": [
        "import numpy as np\n",
        "\n",
        "D = np.array([1, 2, 3, 4, 5, 6])\n",
        "S = np.array([0, 0, 1, 1, 2, 2])\n",
        "\n",
        "means = [D[S == i].mean() for i in np.unique(S)]\n",
        "print(means)\n"
      ]
    },
    {
      "cell_type": "markdown",
      "id": "7035c626",
      "metadata": {
        "id": "7035c626"
      },
      "source": [
        "#### 69. How to get the diagonal of a dot product? (★★★)"
      ]
    },
    {
      "cell_type": "code",
      "execution_count": null,
      "id": "f6af16c1",
      "metadata": {
        "colab": {
          "base_uri": "https://localhost:8080/"
        },
        "id": "f6af16c1",
        "outputId": "c166e9f7-4883-4f67-cb13-c9e25c842e2c"
      },
      "outputs": [
        {
          "output_type": "stream",
          "name": "stdout",
          "text": [
            "[0.28342347 1.16348256 0.73798588]\n"
          ]
        }
      ],
      "source": [
        "import numpy as np\n",
        "\n",
        "A = np.random.random((3, 3))\n",
        "B = np.random.random((3, 3))\n",
        "\n",
        "diagonal = np.diagonal(np.dot(A, B))\n",
        "print(diagonal)\n"
      ]
    },
    {
      "cell_type": "markdown",
      "id": "8f73f0e5",
      "metadata": {
        "id": "8f73f0e5"
      },
      "source": [
        "#### 70. Consider the vector [1, 2, 3, 4, 5], how to build a new vector with 3 consecutive zeros interleaved between each value? (★★★)"
      ]
    },
    {
      "cell_type": "code",
      "execution_count": null,
      "id": "b0cabc11",
      "metadata": {
        "colab": {
          "base_uri": "https://localhost:8080/"
        },
        "id": "b0cabc11",
        "outputId": "2be4a357-9193-4e0d-c580-ef84f25f26e1"
      },
      "outputs": [
        {
          "output_type": "stream",
          "name": "stdout",
          "text": [
            "[1 0 0 0 2 0 0 0 3 0 0 0 4 0 0 0 5]\n"
          ]
        }
      ],
      "source": [
        "import numpy as np\n",
        "\n",
        "vec = np.array([1, 2, 3, 4, 5])\n",
        "result = np.zeros(len(vec) * 4 - 3, dtype=int)\n",
        "result[::4] = vec\n",
        "print(result)\n"
      ]
    },
    {
      "cell_type": "markdown",
      "id": "bafaa79e",
      "metadata": {
        "id": "bafaa79e"
      },
      "source": [
        "#### 71. Consider an array of dimension (5,5,3), how to mulitply it by an array with dimensions (5,5)? (★★★)"
      ]
    },
    {
      "cell_type": "code",
      "execution_count": null,
      "id": "d441e30b",
      "metadata": {
        "colab": {
          "base_uri": "https://localhost:8080/"
        },
        "id": "d441e30b",
        "outputId": "2f5eb151-4707-4209-ede1-292bdc4beb6c"
      },
      "outputs": [
        {
          "output_type": "stream",
          "name": "stdout",
          "text": [
            "[[[0.56537759 0.5841579  0.28746963]\n",
            "  [0.03691113 0.52845861 0.22886505]\n",
            "  [0.17854799 0.00411561 0.16778339]\n",
            "  [0.14946688 0.23934261 0.31979871]\n",
            "  [0.01094505 0.12739014 0.23763224]]\n",
            "\n",
            " [[0.09310741 0.12234151 0.01458949]\n",
            "  [0.21251117 0.03570614 0.40239964]\n",
            "  [0.092309   0.18447197 0.01682088]\n",
            "  [0.00828549 0.09642021 0.1333375 ]\n",
            "  [0.12935557 0.21659305 0.34659758]]\n",
            "\n",
            " [[0.04720082 0.11100385 0.08934063]\n",
            "  [0.18473868 0.54601493 0.09359241]\n",
            "  [0.06691896 0.20075761 0.70689494]\n",
            "  [0.04922201 0.14851203 0.0923755 ]\n",
            "  [0.00628799 0.03910545 0.09387153]]\n",
            "\n",
            " [[0.24405192 0.30959237 0.05769133]\n",
            "  [0.1037681  0.04699447 0.3233228 ]\n",
            "  [0.12484939 0.11645933 0.1223734 ]\n",
            "  [0.24551527 0.48885016 0.30682909]\n",
            "  [0.00278087 0.1335568  0.10887959]]\n",
            "\n",
            " [[0.01579606 0.00682549 0.02033462]\n",
            "  [0.05622764 0.09060913 0.05414435]\n",
            "  [0.64834163 0.33210881 0.69562146]\n",
            "  [0.37953028 0.3821794  0.12388303]\n",
            "  [0.10548698 0.02336246 0.4150243 ]]]\n"
          ]
        }
      ],
      "source": [
        "import numpy as np\n",
        "\n",
        "arr1 = np.random.random((5, 5, 3))\n",
        "arr2 = np.random.random((5, 5))\n",
        "\n",
        "result = arr1 * arr2[:, :, np.newaxis]\n",
        "print(result)\n"
      ]
    },
    {
      "cell_type": "markdown",
      "id": "80a9ac82",
      "metadata": {
        "id": "80a9ac82"
      },
      "source": [
        "#### 72. How to swap two rows of an array? (★★★)"
      ]
    },
    {
      "cell_type": "code",
      "execution_count": null,
      "id": "1aee2791",
      "metadata": {
        "colab": {
          "base_uri": "https://localhost:8080/"
        },
        "id": "1aee2791",
        "outputId": "f63be8f7-098b-47bf-d1fb-84a76dbd4688"
      },
      "outputs": [
        {
          "output_type": "stream",
          "name": "stdout",
          "text": [
            "[[0.13110909 0.71121949 0.88453608 0.58517594 0.23325829]\n",
            " [0.89018144 0.09556788 0.62888198 0.26516873 0.2082913 ]\n",
            " [0.05509533 0.27904186 0.67603809 0.60051279 0.2159265 ]\n",
            " [0.03051502 0.27232379 0.40709322 0.30096434 0.90291471]\n",
            " [0.3149389  0.03797165 0.26577695 0.27154528 0.53340102]]\n"
          ]
        }
      ],
      "source": [
        "import numpy as np\n",
        "\n",
        "arr = np.random.random((5, 5))\n",
        "arr[[0, 1]] = arr[[1, 0]]\n",
        "print(arr)\n"
      ]
    },
    {
      "cell_type": "markdown",
      "id": "5e53d68c",
      "metadata": {
        "id": "5e53d68c"
      },
      "source": [
        "#### 73. Consider a set of 10 triplets describing 10 triangles (with shared vertices), find the set of unique line segments composing all the  triangles (★★★)"
      ]
    },
    {
      "cell_type": "code",
      "execution_count": null,
      "id": "2f975322",
      "metadata": {
        "colab": {
          "base_uri": "https://localhost:8080/"
        },
        "id": "2f975322",
        "outputId": "45a37f77-1b28-4526-cce6-56d418924b52"
      },
      "outputs": [
        {
          "output_type": "stream",
          "name": "stdout",
          "text": [
            "[[0 1]\n",
            " [0 9]\n",
            " [1 2]\n",
            " [2 3]\n",
            " [3 4]\n",
            " [4 5]\n",
            " [5 6]\n",
            " [6 7]\n",
            " [7 8]\n",
            " [8 9]]\n"
          ]
        }
      ],
      "source": [
        "import numpy as np\n",
        "\n",
        "triplets = np.array([[0, 1, 2], [1, 2, 3], [2, 3, 4], [3, 4, 5], [4, 5, 6],\n",
        "                     [5, 6, 7], [6, 7, 8], [7, 8, 9], [8, 9, 0], [9, 0, 1]])\n",
        "\n",
        "edges = np.array([[triplets[:, i], triplets[:, (i+1)%3]] for i in range(3)]).reshape(-1, 2)\n",
        "edges = np.unique(np.sort(edges, axis=1), axis=0)\n",
        "\n",
        "print(edges)\n"
      ]
    },
    {
      "cell_type": "markdown",
      "id": "f85da603",
      "metadata": {
        "id": "f85da603"
      },
      "source": [
        "#### 74. Given a sorted array C that corresponds to a bincount, how to produce an array A such that np.bincount(A) == C? (★★★)"
      ]
    },
    {
      "cell_type": "code",
      "execution_count": null,
      "id": "8c476a73",
      "metadata": {
        "colab": {
          "base_uri": "https://localhost:8080/"
        },
        "id": "8c476a73",
        "outputId": "9afec5bc-1159-410c-84d9-5cbc4da4b0df"
      },
      "outputs": [
        {
          "output_type": "stream",
          "name": "stdout",
          "text": [
            "[0 0 1 1 1 2 3 3 3 3]\n"
          ]
        }
      ],
      "source": [
        "import numpy as np\n",
        "\n",
        "C = np.array([2, 3, 1, 4])\n",
        "\n",
        "A = np.repeat(np.arange(len(C)), C)\n",
        "print(A)\n"
      ]
    },
    {
      "cell_type": "markdown",
      "id": "a2330e6c",
      "metadata": {
        "id": "a2330e6c"
      },
      "source": [
        "#### 75. How to compute averages using a sliding window over an array? (★★★)"
      ]
    },
    {
      "cell_type": "code",
      "execution_count": null,
      "id": "35e5e9f5",
      "metadata": {
        "colab": {
          "base_uri": "https://localhost:8080/"
        },
        "id": "35e5e9f5",
        "outputId": "80f178e0-a819-4f09-be82-288f1b448e51"
      },
      "outputs": [
        {
          "output_type": "stream",
          "name": "stdout",
          "text": [
            "[2. 3. 4. 5.]\n"
          ]
        }
      ],
      "source": [
        "import numpy as np\n",
        "\n",
        "arr = np.array([1, 2, 3, 4, 5, 6])\n",
        "window_size = 3\n",
        "\n",
        "averages = np.convolve(arr, np.ones(window_size)/window_size, mode='valid')\n",
        "print(averages)\n",
        "\n"
      ]
    },
    {
      "cell_type": "markdown",
      "id": "87698de8",
      "metadata": {
        "id": "87698de8"
      },
      "source": [
        "#### 76. Consider a one-dimensional array Z, build a two-dimensional array whose first row is (Z[0],Z[1],Z[2]) and each subsequent row is  shifted by 1 (last row should be (Z[-3],Z[-2],Z[-1]) (★★★)"
      ]
    },
    {
      "cell_type": "code",
      "execution_count": null,
      "id": "753763ed",
      "metadata": {
        "colab": {
          "base_uri": "https://localhost:8080/"
        },
        "id": "753763ed",
        "outputId": "e2c85536-ca28-4e24-e099-1af4ce4f95ba"
      },
      "outputs": [
        {
          "output_type": "stream",
          "name": "stdout",
          "text": [
            "[[1 2 3]\n",
            " [2 3 4]\n",
            " [3 4 5]\n",
            " [4 5 6]\n",
            " [5 6 7]]\n"
          ]
        }
      ],
      "source": [
        "import numpy as np\n",
        "\n",
        "Z = np.array([1, 2, 3, 4, 5, 6, 7])\n",
        "\n",
        "result = np.array([Z[i:i+3] for i in range(len(Z)-2)])\n",
        "print(result)\n"
      ]
    },
    {
      "cell_type": "markdown",
      "id": "b8417b15",
      "metadata": {
        "id": "b8417b15"
      },
      "source": [
        "#### 77. How to negate a boolean, or to change the sign of a float inplace? (★★★)"
      ]
    },
    {
      "cell_type": "code",
      "execution_count": null,
      "id": "3cad31b2",
      "metadata": {
        "colab": {
          "base_uri": "https://localhost:8080/"
        },
        "id": "3cad31b2",
        "outputId": "02b9e4bc-93f3-40be-bf8b-e6850f69c049"
      },
      "outputs": [
        {
          "output_type": "stream",
          "name": "stdout",
          "text": [
            "[False  True False]\n",
            "[-1.5  2.3 -3.1]\n"
          ]
        }
      ],
      "source": [
        "import numpy as np\n",
        "\n",
        "arr = np.array([True, False, True])\n",
        "arr ^= True\n",
        "print(arr)\n",
        "\n",
        "float_arr = np.array([1.5, -2.3, 3.1])\n",
        "float_arr *= -1\n",
        "print(float_arr)\n"
      ]
    },
    {
      "cell_type": "markdown",
      "id": "37a49831",
      "metadata": {
        "id": "37a49831"
      },
      "source": [
        "#### 78. Consider 2 sets of points P0,P1 describing lines (2d) and a point p, how to compute distance from p to each line i (P0[i],P1[i])? (★★★)"
      ]
    },
    {
      "cell_type": "code",
      "execution_count": null,
      "id": "df95dce8",
      "metadata": {
        "colab": {
          "base_uri": "https://localhost:8080/"
        },
        "id": "df95dce8",
        "outputId": "26ee9bee-e828-4e68-b3b5-edfc1e1d4dd7"
      },
      "outputs": [
        {
          "output_type": "stream",
          "name": "stdout",
          "text": [
            "[2. 1. 0.]\n"
          ]
        },
        {
          "output_type": "stream",
          "name": "stderr",
          "text": [
            "<ipython-input-83-8a57935cd38a>:10: DeprecationWarning: Arrays of 2-dimensional vectors are deprecated. Use arrays of 3-dimensional vectors instead. (deprecated in NumPy 2.0)\n",
            "  cross_product = np.cross(lines_vector, p_vector)\n"
          ]
        }
      ],
      "source": [
        "import numpy as np\n",
        "\n",
        "P0 = np.array([[0, 0], [1, 1], [2, 2]])\n",
        "P1 = np.array([[1, 0], [2, 1], [3, 2]])\n",
        "p = np.array([1, 2])\n",
        "\n",
        "lines_vector = P1 - P0\n",
        "p_vector = p - P0\n",
        "\n",
        "cross_product = np.cross(lines_vector, p_vector)\n",
        "distance = np.abs(cross_product) / np.linalg.norm(lines_vector, axis=1)\n",
        "\n",
        "print(distance)\n"
      ]
    },
    {
      "cell_type": "markdown",
      "id": "f5ae032f",
      "metadata": {
        "id": "f5ae032f"
      },
      "source": [
        "#### 79. Consider 2 sets of points P0,P1 describing lines (2d) and a set of points P, how to compute distance from each point j (P[j]) to each line i (P0[i],P1[i])? (★★★)"
      ]
    },
    {
      "cell_type": "code",
      "execution_count": null,
      "id": "f5ae2e9b",
      "metadata": {
        "colab": {
          "base_uri": "https://localhost:8080/"
        },
        "id": "f5ae2e9b",
        "outputId": "0c163d34-7c7c-4d7c-99be-2c3280c34a12"
      },
      "outputs": [
        {
          "output_type": "stream",
          "name": "stdout",
          "text": [
            "[[2. 1. 0.]\n",
            " [3. 2. 1.]\n",
            " [4. 3. 2.]]\n"
          ]
        },
        {
          "output_type": "stream",
          "name": "stderr",
          "text": [
            "<ipython-input-84-175005d039d9>:10: DeprecationWarning: Arrays of 2-dimensional vectors are deprecated. Use arrays of 3-dimensional vectors instead. (deprecated in NumPy 2.0)\n",
            "  cross_product = np.cross(lines_vector, points_vector)\n"
          ]
        }
      ],
      "source": [
        "import numpy as np\n",
        "\n",
        "P0 = np.array([[0, 0], [1, 1], [2, 2]])\n",
        "P1 = np.array([[1, 0], [2, 1], [3, 2]])\n",
        "P = np.array([[1, 2], [2, 3], [3, 4]])\n",
        "\n",
        "lines_vector = P1 - P0\n",
        "points_vector = P[:, np.newaxis] - P0\n",
        "\n",
        "cross_product = np.cross(lines_vector, points_vector)\n",
        "distance = np.abs(cross_product) / np.linalg.norm(lines_vector, axis=1)\n",
        "\n",
        "print(distance)\n"
      ]
    },
    {
      "cell_type": "markdown",
      "id": "6bc35ba2",
      "metadata": {
        "id": "6bc35ba2"
      },
      "source": [
        "#### 80. Consider an arbitrary array, write a function that extract a subpart with a fixed shape and centered on a given element (pad with a `fill` value when necessary) (★★★)"
      ]
    },
    {
      "cell_type": "code",
      "execution_count": null,
      "id": "2ad8db75",
      "metadata": {
        "id": "2ad8db75"
      },
      "outputs": [],
      "source": [
        "import numpy as np\n",
        "\n",
        "def extract_subarray(arr, center, shape, fill_value=0):\n",
        "    arr = np.array(arr)\n",
        "    center_row, center_col = center\n",
        "    height, width = shape\n",
        "    half_h, half_w = height // 2, width // 2\n",
        "\n",
        "    start_row = center_row - half_h\n",
        "    end_row = center_row + half_h + (1 if height % 2 else 0)\n",
        "    start_col = center_col - half_w\n",
        "    end_col = center_col + half_w + (1 if width % 2 else 0)\n",
        "\n",
        "    result = np.full((height, width), fill_value, dtype=arr.dtype)\n",
        "\n",
        "    src_row_start = max(start_row, 0)\n",
        "    src_row_end = min(end_row, arr.shape[0])\n",
        "    src_col_start = max(start_col, 0)\n",
        "    src_col_end = min(end_col, arr.shape[1])\n",
        "\n",
        "    dst_row_start = src_row_start - start_row\n",
        "    dst_row_end = dst_row_start + (src_row_end - src_row_start)\n",
        "    dst_col_start = src_col_start - start_col\n",
        "    dst_col_end = dst_col_start + (src_col_end - src_col_start)\n",
        "\n",
        "    result[dst_row_start:dst_row_end, dst_col_start:dst_col_end] = \\\n",
        "        arr[src_row_start:src_row_end, src_col_start:src_col_end]\n",
        "\n",
        "    return result\n"
      ]
    },
    {
      "cell_type": "markdown",
      "id": "d17818f7",
      "metadata": {
        "id": "d17818f7"
      },
      "source": [
        "#### 81. Consider an array Z = [1,2,3,4,5,6,7,8,9,10,11,12,13,14], how to generate an array R = [[1,2,3,4], [2,3,4,5], [3,4,5,6], ..., [11,12,13,14]]? (★★★)"
      ]
    },
    {
      "cell_type": "code",
      "execution_count": null,
      "id": "97deb72f",
      "metadata": {
        "colab": {
          "base_uri": "https://localhost:8080/"
        },
        "id": "97deb72f",
        "outputId": "4f0074e2-a10d-490b-f773-afc788181f94"
      },
      "outputs": [
        {
          "output_type": "stream",
          "name": "stdout",
          "text": [
            "[[ 1  2  3  4]\n",
            " [ 2  3  4  5]\n",
            " [ 3  4  5  6]\n",
            " [ 4  5  6  7]\n",
            " [ 5  6  7  8]\n",
            " [ 6  7  8  9]\n",
            " [ 7  8  9 10]\n",
            " [ 8  9 10 11]\n",
            " [ 9 10 11 12]\n",
            " [10 11 12 13]\n",
            " [11 12 13 14]]\n"
          ]
        }
      ],
      "source": [
        "import numpy as np\n",
        "from numpy.lib.stride_tricks import sliding_window_view\n",
        "\n",
        "Z = np.array([1,2,3,4,5,6,7,8,9,10,11,12,13,14])\n",
        "R = sliding_window_view(Z, window_shape=4)\n",
        "print(R)\n"
      ]
    },
    {
      "cell_type": "markdown",
      "id": "67f526e6",
      "metadata": {
        "id": "67f526e6"
      },
      "source": [
        "#### 82. Compute a matrix rank (★★★)"
      ]
    },
    {
      "cell_type": "code",
      "execution_count": null,
      "id": "d70bed5b",
      "metadata": {
        "colab": {
          "base_uri": "https://localhost:8080/"
        },
        "id": "d70bed5b",
        "outputId": "6716964f-4023-4497-ae0a-afdd2d7dd657"
      },
      "outputs": [
        {
          "output_type": "stream",
          "name": "stdout",
          "text": [
            "Matrix Rank: 2\n"
          ]
        }
      ],
      "source": [
        "import numpy as np\n",
        "\n",
        "A = np.array([[1, 2, 3],\n",
        "              [4, 5, 6],\n",
        "              [7, 8, 9]])\n",
        "\n",
        "rank = np.linalg.matrix_rank(A)\n",
        "print(\"Matrix Rank:\", rank)\n"
      ]
    },
    {
      "cell_type": "markdown",
      "id": "0a3fb55f",
      "metadata": {
        "id": "0a3fb55f"
      },
      "source": [
        "#### 83. How to find the most frequent value in an array?"
      ]
    },
    {
      "cell_type": "code",
      "execution_count": null,
      "id": "b0647d07",
      "metadata": {
        "colab": {
          "base_uri": "https://localhost:8080/"
        },
        "id": "b0647d07",
        "outputId": "14fa109f-ea3b-4b90-a0ed-6ca077ad9405"
      },
      "outputs": [
        {
          "output_type": "stream",
          "name": "stdout",
          "text": [
            "Most frequent value: 3\n"
          ]
        }
      ],
      "source": [
        "import numpy as np\n",
        "\n",
        "arr = np.array([1, 3, 2, 1, 4, 1, 3, 3, 3])\n",
        "most_frequent = np.bincount(arr).argmax()\n",
        "print(\"Most frequent value:\", most_frequent)\n"
      ]
    },
    {
      "cell_type": "markdown",
      "id": "cb0ac341",
      "metadata": {
        "id": "cb0ac341"
      },
      "source": [
        "#### 84. Extract all the contiguous 3x3 blocks from a random 10x10 matrix (★★★)"
      ]
    },
    {
      "cell_type": "code",
      "execution_count": null,
      "id": "91798923",
      "metadata": {
        "colab": {
          "base_uri": "https://localhost:8080/"
        },
        "id": "91798923",
        "outputId": "45973b97-42ef-4581-fea7-66bf661f450b"
      },
      "outputs": [
        {
          "output_type": "stream",
          "name": "stdout",
          "text": [
            "Shape of blocks: (8, 8, 3, 3)\n",
            "Example block:\n",
            " [[0.30346679 0.23310349 0.97836855]\n",
            " [0.98559336 0.47555266 0.92873602]\n",
            " [0.93964804 0.05657674 0.20874602]]\n"
          ]
        }
      ],
      "source": [
        "import numpy as np\n",
        "from numpy.lib.stride_tricks import sliding_window_view\n",
        "\n",
        "\n",
        "Z = np.random.rand(10, 10)\n",
        "\n",
        "blocks = sliding_window_view(Z, (3, 3))\n",
        "print(\"Shape of blocks:\", blocks.shape)\n",
        "print(\"Example block:\\n\", blocks[0, 0])\n"
      ]
    },
    {
      "cell_type": "markdown",
      "id": "c2a9da0d",
      "metadata": {
        "id": "c2a9da0d"
      },
      "source": [
        "#### 85. Create a 2D array subclass such that Z[i,j] == Z[j,i] (★★★)"
      ]
    },
    {
      "cell_type": "code",
      "execution_count": null,
      "id": "f9b027ff",
      "metadata": {
        "colab": {
          "base_uri": "https://localhost:8080/"
        },
        "id": "f9b027ff",
        "outputId": "b1f6b255-d39c-4330-d1c1-9b2bfc1bf50f"
      },
      "outputs": [
        {
          "output_type": "stream",
          "name": "stdout",
          "text": [
            "[[ 0.  0.  0.  0.  0.]\n",
            " [ 0.  0. 42.  0.  0.]\n",
            " [ 0. 42.  0.  0.  0.]\n",
            " [ 0.  0.  0.  0.  0.]\n",
            " [ 0.  0.  0.  0.  0.]]\n"
          ]
        }
      ],
      "source": [
        "import numpy as np\n",
        "\n",
        "class SymmetricArray(np.ndarray):\n",
        "    def __new__(cls, input_array):\n",
        "        obj = np.asarray(input_array).view(cls)\n",
        "        return obj\n",
        "\n",
        "    def __setitem__(self, index, value):\n",
        "        i, j = index\n",
        "        super(SymmetricArray, self).__setitem__((i, j), value)\n",
        "        super(SymmetricArray, self).__setitem__((j, i), value)\n",
        "\n",
        "\n",
        "Z = SymmetricArray(np.zeros((5, 5)))\n",
        "Z[1, 2] = 42\n",
        "\n",
        "print(Z)\n"
      ]
    },
    {
      "cell_type": "markdown",
      "id": "718ac868",
      "metadata": {
        "id": "718ac868"
      },
      "source": [
        "#### 86. Consider a set of p matrices with shape (n,n) and a set of p vectors with shape (n,1). How to compute the sum of of the p matrix products at once? (result has shape (n,1)) (★★★)"
      ]
    },
    {
      "cell_type": "code",
      "execution_count": null,
      "id": "4de05217",
      "metadata": {
        "colab": {
          "base_uri": "https://localhost:8080/"
        },
        "id": "4de05217",
        "outputId": "8cb430a3-0c1f-4b95-e554-522dd4e292a5"
      },
      "outputs": [
        {
          "output_type": "stream",
          "name": "stdout",
          "text": [
            "(4, 1)\n"
          ]
        }
      ],
      "source": [
        "import numpy as np\n",
        "\n",
        "p, n = 10, 4\n",
        "matrices = np.random.rand(p, n, n)\n",
        "vectors = np.random.rand(p, n, 1)\n",
        "\n",
        "result = np.einsum('pij,pjk->ik', matrices, vectors)\n",
        "print(result.shape)  # (n, 1)\n"
      ]
    },
    {
      "cell_type": "markdown",
      "id": "a6eda6f8",
      "metadata": {
        "id": "a6eda6f8"
      },
      "source": [
        "#### 87. Consider a 16x16 array, how to get the block-sum (block size is 4x4)? (★★★)"
      ]
    },
    {
      "cell_type": "code",
      "execution_count": null,
      "id": "286b8db5",
      "metadata": {
        "colab": {
          "base_uri": "https://localhost:8080/"
        },
        "id": "286b8db5",
        "outputId": "74968574-e41c-4c30-db81-3811faca8535"
      },
      "outputs": [
        {
          "output_type": "stream",
          "name": "stdout",
          "text": [
            "[[ 6.43938604  6.75771845  9.17120074  6.87382685]\n",
            " [ 4.66198942  9.61945635  6.79935593  8.71445358]\n",
            " [ 8.64327711 10.08692209  8.64647153  9.17809654]\n",
            " [ 7.14545792  7.80096148 10.63222611  4.99189305]]\n",
            "Shape: (4, 4)\n"
          ]
        }
      ],
      "source": [
        "import numpy as np\n",
        "\n",
        "Z = np.random.rand(16, 16)\n",
        "block_sums = Z.reshape(4, 4, 4, 4).sum(axis=(1, 3))\n",
        "\n",
        "print(block_sums)\n",
        "print(\"Shape:\", block_sums.shape)\n"
      ]
    },
    {
      "cell_type": "markdown",
      "id": "625aa611",
      "metadata": {
        "id": "625aa611"
      },
      "source": [
        "#### 88. How to implement the Game of Life using numpy arrays? (★★★)"
      ]
    },
    {
      "cell_type": "code",
      "execution_count": null,
      "id": "a01c1ff2",
      "metadata": {
        "colab": {
          "base_uri": "https://localhost:8080/",
          "height": 1000
        },
        "id": "a01c1ff2",
        "outputId": "78113b66-7e68-4254-d6fc-451428cf54bf"
      },
      "outputs": [
        {
          "output_type": "stream",
          "name": "stderr",
          "text": [
            "<ipython-input-97-b71fc1ba984f>:7: DeprecationWarning: Calling np.sum(generator) is deprecated, and in the future will give a different result. Use np.sum(np.fromiter(generator)) or the python sum builtin instead.\n",
            "  neighbors = sum(np.roll(np.roll(board, i, 0), j, 1) for i in [-1, 0, 1] for j in [-1, 0, 1])\n"
          ]
        },
        {
          "output_type": "display_data",
          "data": {
            "text/plain": [
              "<Figure size 640x480 with 1 Axes>"
            ],
            "image/png": "[encoded data removed]"
          },
          "metadata": {}
        },
        {
          "output_type": "display_data",
          "data": {
            "text/plain": [
              "<Figure size 640x480 with 1 Axes>"
            ],
            "image/png": "[encoded data removed]"
          },
          "metadata": {}
        },
        {
          "output_type": "display_data",
          "data": {
            "text/plain": [
              "<Figure size 640x480 with 1 Axes>"
            ],
            "image/png": "[encoded data removed]"
          },
          "metadata": {}
        },
        {
          "output_type": "display_data",
          "data": {
            "text/plain": [
              "<Figure size 640x480 with 1 Axes>"
            ],
            "image/png": "[encoded data removed]"
          },
          "metadata": {}
        },
        {
          "output_type": "display_data",
          "data": {
            "text/plain": [
              "<Figure size 640x480 with 1 Axes>"
            ],
            "image/png": "[encoded data removed]"
          },
          "metadata": {}
        },
        {
          "output_type": "display_data",
          "data": {
            "text/plain": [
              "<Figure size 640x480 with 1 Axes>"
            ],
            "image/png": "[encoded data removed]"
          },
          "metadata": {}
        },
        {
          "output_type": "display_data",
          "data": {
            "text/plain": [
              "<Figure size 640x480 with 1 Axes>"
            ],
            "image/png": "[encoded data removed]"
          },
          "metadata": {}
        },
        {
          "output_type": "display_data",
          "data": {
            "text/plain": [
              "<Figure size 640x480 with 1 Axes>"
            ],
            "image/png": "[encoded data removed]"
          },
          "metadata": {}
        },
        {
          "output_type": "display_data",
          "data": {
            "text/plain": [
              "<Figure size 640x480 with 1 Axes>"
            ],
            "image/png": "[encoded data removed]"
          },
          "metadata": {}
        },
        {
          "output_type": "display_data",
          "data": {
            "text/plain": [
              "<Figure size 640x480 with 1 Axes>"
            ],
            "image/png": "[encoded data removed]"
          },
          "metadata": {}
        }
      ],
      "source": [
        "import numpy as np\n",
        "import matplotlib.pyplot as plt\n",
        "import time\n",
        "\n",
        "def game_of_life(board, steps=10):\n",
        "    for _ in range(steps):\n",
        "        neighbors = sum(np.roll(np.roll(board, i, 0), j, 1) for i in [-1, 0, 1] for j in [-1, 0, 1])\n",
        "        neighbors -= board * 8\n",
        "        board = ((board == 1) & ((neighbors == 2) | (neighbors == 3))) | ((board == 0) & (neighbors == 3))\n",
        "        plt.imshow(board, cmap='binary')\n",
        "        plt.axis('off')\n",
        "        plt.show()\n",
        "        time.sleep(0.1)\n",
        "    return board\n",
        "\n",
        "np.random.seed(42)\n",
        "board = np.random.randint(2, size=(10, 10))\n",
        "board = game_of_life(board, steps=10)\n"
      ]
    },
    {
      "cell_type": "markdown",
      "id": "ca3dde4a",
      "metadata": {
        "id": "ca3dde4a"
      },
      "source": [
        "#### 89. How to get the n largest values of an array (★★★)"
      ]
    },
    {
      "cell_type": "code",
      "execution_count": null,
      "id": "5d14148c",
      "metadata": {
        "colab": {
          "base_uri": "https://localhost:8080/"
        },
        "id": "5d14148c",
        "outputId": "ee8fbb14-456e-4623-cdca-fe639cb975d6"
      },
      "outputs": [
        {
          "output_type": "stream",
          "name": "stdout",
          "text": [
            "[0.92187424 0.93949894 0.96958463]\n"
          ]
        }
      ],
      "source": [
        "import numpy as np\n",
        "\n",
        "arr = np.random.rand(10)  # Example array\n",
        "n = 3  # Number of largest values to get\n",
        "\n",
        "n_largest = np.partition(arr, -n)[-n:]\n",
        "print(n_largest)\n"
      ]
    },
    {
      "cell_type": "markdown",
      "id": "e233805e",
      "metadata": {
        "id": "e233805e"
      },
      "source": [
        "#### 90. Given an arbitrary number of vectors, build the cartesian product (every combinations of every item) (★★★)"
      ]
    },
    {
      "cell_type": "code",
      "execution_count": null,
      "id": "17638e13",
      "metadata": {
        "colab": {
          "base_uri": "https://localhost:8080/"
        },
        "id": "17638e13",
        "outputId": "d96d8b19-f40b-4683-f636-0cefb42ed774"
      },
      "outputs": [
        {
          "output_type": "stream",
          "name": "stdout",
          "text": [
            "[[1 3 5]\n",
            " [1 3 6]\n",
            " [1 4 5]\n",
            " [1 4 6]\n",
            " [2 3 5]\n",
            " [2 3 6]\n",
            " [2 4 5]\n",
            " [2 4 6]]\n"
          ]
        }
      ],
      "source": [
        "import numpy as np\n",
        "from itertools import product\n",
        "\n",
        "vectors = [np.array([1, 2]), np.array([3, 4]), np.array([5, 6])]\n",
        "\n",
        "cartesian_product = np.array(list(product(*vectors)))\n",
        "print(cartesian_product)\n"
      ]
    },
    {
      "cell_type": "markdown",
      "id": "c163f115",
      "metadata": {
        "id": "c163f115"
      },
      "source": [
        "#### 91. How to create a record array from a regular array? (★★★)"
      ]
    },
    {
      "cell_type": "code",
      "execution_count": null,
      "id": "da402514",
      "metadata": {
        "colab": {
          "base_uri": "https://localhost:8080/"
        },
        "id": "da402514",
        "outputId": "6d0cfabb-c71c-4ca6-ca53-3069d95028d7"
      },
      "outputs": [
        {
          "output_type": "stream",
          "name": "stdout",
          "text": [
            "[(1, 'Alice', 25) (2, 'Bob', 30) (3, 'Charlie', 35)]\n"
          ]
        },
        {
          "output_type": "stream",
          "name": "stderr",
          "text": [
            "<ipython-input-101-277c02ecdd2a>:6: DeprecationWarning: numpy.core is deprecated and has been renamed to numpy._core. The numpy._core namespace contains private NumPy internals and its use is discouraged, as NumPy internals can change without warning in any release. In practice, most real-world usage of numpy.core is to access functionality in the public NumPy API. If that is the case, use the public NumPy API. If not, you are using NumPy internals. If you would still like to access an internal attribute, use numpy._core.records.\n",
            "  record_array = np.core.records.fromarrays([regular_array['id'], regular_array['name'], regular_array['age']],\n"
          ]
        }
      ],
      "source": [
        "import numpy as np\n",
        "\n",
        "regular_array = np.array([(1, 'Alice', 25), (2, 'Bob', 30), (3, 'Charlie', 35)],\n",
        "                          dtype=[('id', 'i4'), ('name', 'U10'), ('age', 'i4')])\n",
        "\n",
        "record_array = np.core.records.fromarrays([regular_array['id'], regular_array['name'], regular_array['age']],\n",
        "                                          dtype=regular_array.dtype)\n",
        "print(record_array)"
      ]
    },
    {
      "cell_type": "markdown",
      "id": "049c006e",
      "metadata": {
        "id": "049c006e"
      },
      "source": [
        "#### 92. Consider a large vector Z, compute Z to the power of 3 using 3 different methods (★★★)"
      ]
    },
    {
      "cell_type": "code",
      "execution_count": null,
      "id": "96ce278a",
      "metadata": {
        "id": "96ce278a"
      },
      "outputs": [],
      "source": [
        "import numpy as np\n",
        "\n",
        "Z = np.random.rand(1000000)\n",
        "\n",
        "result1 = np.power(Z, 3)\n"
      ]
    },
    {
      "cell_type": "markdown",
      "id": "6e652635",
      "metadata": {
        "id": "6e652635"
      },
      "source": [
        "#### 93. Consider two arrays A and B of shape (8,3) and (2,2). How to find rows of A that contain elements of each row of B regardless of the order of the elements in B? (★★★)"
      ]
    },
    {
      "cell_type": "code",
      "execution_count": null,
      "id": "f429d6d4",
      "metadata": {
        "colab": {
          "base_uri": "https://localhost:8080/"
        },
        "id": "f429d6d4",
        "outputId": "e5244b9f-5042-4de7-d8fc-d7e18f34ee51"
      },
      "outputs": [
        {
          "output_type": "stream",
          "name": "stdout",
          "text": [
            "[array([[1, 2, 3]]), array([[4, 5, 6]])]\n"
          ]
        }
      ],
      "source": [
        "import numpy as np\n",
        "\n",
        "A = np.array([[1, 2, 3], [4, 5, 6], [7, 8, 9], [10, 11, 12], [13, 14, 15], [16, 17, 18], [19, 20, 21], [22, 23, 24]])\n",
        "B = np.array([[2, 3], [5, 6]])\n",
        "\n",
        "# Find rows of A that contain all elements of each row in B\n",
        "result = []\n",
        "for b in B:\n",
        "    mask = np.all([np.isin(b, row) for row in A], axis=1)\n",
        "    result.append(A[mask])\n",
        "\n",
        "print(result)\n"
      ]
    },
    {
      "cell_type": "markdown",
      "id": "33c4755d",
      "metadata": {
        "id": "33c4755d"
      },
      "source": [
        "#### 94. Considering a 10x3 matrix, extract rows with unequal values (e.g. [2,2,3]) (★★★)"
      ]
    },
    {
      "cell_type": "code",
      "execution_count": null,
      "id": "29507586",
      "metadata": {
        "colab": {
          "base_uri": "https://localhost:8080/"
        },
        "id": "29507586",
        "outputId": "aa48d10c-76b1-4f7b-eda2-98c75d1a2659"
      },
      "outputs": [
        {
          "output_type": "stream",
          "name": "stdout",
          "text": [
            "[]\n"
          ]
        }
      ],
      "source": [
        "import numpy as np\n",
        "\n",
        "matrix = np.random.randint(1, 5, size=(10, 3))\n",
        "\n",
        "# Condition to check if all elements in a row are unequal\n",
        "result = matrix[np.all(matrix[:, None] != matrix[:, :, None], axis=2)]\n",
        "\n",
        "print(result)\n"
      ]
    },
    {
      "cell_type": "markdown",
      "id": "c9fe158d",
      "metadata": {
        "id": "c9fe158d"
      },
      "source": [
        "#### 95. Convert a vector of ints into a matrix binary representation (★★★)"
      ]
    },
    {
      "cell_type": "code",
      "execution_count": null,
      "id": "58209fb7",
      "metadata": {
        "colab": {
          "base_uri": "https://localhost:8080/"
        },
        "id": "58209fb7",
        "outputId": "7ff4e552-7840-4018-952e-18d9535917dd"
      },
      "outputs": [
        {
          "output_type": "stream",
          "name": "stdout",
          "text": [
            "[[0 0 0 0 0 0 0 1]\n",
            " [0 0 0 0 0 0 1 0]\n",
            " [0 0 0 0 0 0 1 1]\n",
            " [0 0 0 0 0 1 0 0]]\n"
          ]
        }
      ],
      "source": [
        "import numpy as np\n",
        "\n",
        "vector = np.array([1, 2, 3, 4])\n",
        "\n",
        "\n",
        "binary_matrix = np.array([list(f'{x:0b}'.zfill(8)) for x in vector], dtype=int)\n",
        "\n",
        "print(binary_matrix)\n"
      ]
    },
    {
      "cell_type": "markdown",
      "id": "f60086c9",
      "metadata": {
        "id": "f60086c9"
      },
      "source": [
        "#### 96. Given a two dimensional array, how to extract unique rows? (★★★)"
      ]
    },
    {
      "cell_type": "code",
      "execution_count": null,
      "id": "787b6e4c",
      "metadata": {
        "colab": {
          "base_uri": "https://localhost:8080/"
        },
        "id": "787b6e4c",
        "outputId": "ad15faac-d778-45d3-a38f-db6f6bd347ac"
      },
      "outputs": [
        {
          "output_type": "stream",
          "name": "stdout",
          "text": [
            "[[1 2 3]\n",
            " [4 5 6]\n",
            " [7 8 9]]\n"
          ]
        }
      ],
      "source": [
        "import numpy as np\n",
        "\n",
        "array = np.array([[1, 2, 3], [4, 5, 6], [1, 2, 3], [7, 8, 9]])\n",
        "\n",
        "unique_rows = np.unique(array, axis=0)\n",
        "\n",
        "print(unique_rows)\n"
      ]
    },
    {
      "cell_type": "markdown",
      "id": "0f5e1299",
      "metadata": {
        "id": "0f5e1299"
      },
      "source": [
        "#### 97. Considering 2 vectors A & B, write the einsum equivalent of inner, outer, sum, and mul function (★★★)"
      ]
    },
    {
      "cell_type": "code",
      "execution_count": null,
      "id": "cd2a8214",
      "metadata": {
        "colab": {
          "base_uri": "https://localhost:8080/"
        },
        "id": "cd2a8214",
        "outputId": "57ac7105-5941-482d-a2a0-99bfce8b8759"
      },
      "outputs": [
        {
          "output_type": "stream",
          "name": "stdout",
          "text": [
            "32\n"
          ]
        }
      ],
      "source": [
        "import numpy as np\n",
        "\n",
        "A = np.array([1, 2, 3])\n",
        "B = np.array([4, 5, 6])\n",
        "\n",
        "inner_product = np.einsum('i,i->', A, B)\n",
        "print(inner_product)\n"
      ]
    },
    {
      "cell_type": "markdown",
      "id": "a04dd898",
      "metadata": {
        "id": "a04dd898"
      },
      "source": [
        "#### 98. Considering a path described by two vectors (X,Y), how to sample it using equidistant samples (★★★)?"
      ]
    },
    {
      "cell_type": "code",
      "execution_count": null,
      "id": "12d9c30f",
      "metadata": {
        "colab": {
          "base_uri": "https://localhost:8080/"
        },
        "id": "12d9c30f",
        "outputId": "75cdcbaa-da60-44ac-cb9e-b196dc9e4052"
      },
      "outputs": [
        {
          "output_type": "stream",
          "name": "stdout",
          "text": [
            "[[0.         0.        ]\n",
            " [0.47387901 0.94775801]\n",
            " [0.94775801 1.89551603]\n",
            " [1.84327404 1.57836298]\n",
            " [2.79103206 1.10448397]\n",
            " [3.36939504 1.73879007]\n",
            " [3.84327404 2.68654809]\n",
            " [4.501463   3.501463  ]\n",
            " [5.2507315  4.2507315 ]\n",
            " [6.         5.        ]]\n"
          ]
        }
      ],
      "source": [
        "import numpy as np\n",
        "from scipy.interpolate import interp1d\n",
        "\n",
        "X = np.array([0, 1, 3, 4, 6])\n",
        "Y = np.array([0, 2, 1, 3, 5])\n",
        "\n",
        "distances = np.sqrt(np.diff(X)**2 + np.diff(Y)**2)\n",
        "total_distance = np.sum(distances)\n",
        "sample_distances = np.linspace(0, total_distance, 10)\n",
        "\n",
        "cumulative_distances = np.concatenate(([0], np.cumsum(distances)))\n",
        "interp_X = interp1d(cumulative_distances, X, kind='linear')\n",
        "interp_Y = interp1d(cumulative_distances, Y, kind='linear')\n",
        "\n",
        "sampled_X = interp_X(sample_distances)\n",
        "sampled_Y = interp_Y(sample_distances)\n",
        "\n",
        "sampled_points = np.vstack((sampled_X, sampled_Y)).T\n",
        "print(sampled_points)\n"
      ]
    },
    {
      "cell_type": "markdown",
      "id": "b45bf2ae",
      "metadata": {
        "id": "b45bf2ae"
      },
      "source": [
        "#### 99. Given an integer n and a 2D array X, select from X the rows which can be interpreted as draws from a multinomial distribution with n degrees, i.e., the rows which only contain integers and which sum to n. (★★★)"
      ]
    },
    {
      "cell_type": "code",
      "execution_count": null,
      "id": "f4179f4a",
      "metadata": {
        "colab": {
          "base_uri": "https://localhost:8080/"
        },
        "id": "f4179f4a",
        "outputId": "8fb142a2-f73c-44f9-bad0-14988a5565a9"
      },
      "outputs": [
        {
          "output_type": "stream",
          "name": "stdout",
          "text": [
            "[[1 2 3]]\n"
          ]
        }
      ],
      "source": [
        "import numpy as np\n",
        "\n",
        "X = np.array([[1, 2, 3], [2, 2, 1], [4, 5, 6], [1, 2, 4]])\n",
        "n = 6\n",
        "\n",
        "result = X[np.all(X == X.astype(int), axis=1) & (X.sum(axis=1) == n)]\n",
        "\n",
        "print(result)\n"
      ]
    },
    {
      "cell_type": "markdown",
      "id": "d92b6592",
      "metadata": {
        "id": "d92b6592"
      },
      "source": [
        "#### 100. Compute bootstrapped 95% confidence intervals for the mean of a 1D array X (i.e., resample the elements of an array with replacement N times, compute the mean of each sample, and then compute percentiles over the means). (★★★)"
      ]
    },
    {
      "cell_type": "code",
      "execution_count": null,
      "id": "256ebe30",
      "metadata": {
        "colab": {
          "base_uri": "https://localhost:8080/"
        },
        "id": "256ebe30",
        "outputId": "953a5ddd-0f88-48fe-f86e-b53f04df83ad"
      },
      "outputs": [
        {
          "output_type": "stream",
          "name": "stdout",
          "text": [
            "[3.7 7.3]\n"
          ]
        }
      ],
      "source": [
        "import numpy as np\n",
        "\n",
        "X = np.array([1, 2, 3, 4, 5, 6, 7, 8, 9, 10])\n",
        "N = 10000\n",
        "\n",
        "boot_means = np.mean(np.random.choice(X, (N, len(X)), replace=True), axis=1)\n",
        "conf_interval = np.percentile(boot_means, [2.5, 97.5])\n",
        "\n",
        "print(conf_interval)\n"
      ]
    }
  ],
  "metadata": {
    "kernelspec": {
      "display_name": "Python 3 (ipykernel)",
      "language": "python",
      "name": "python3"
    },
    "language_info": {
      "codemirror_mode": {
        "name": "ipython",
        "version": 3
      },
      "file_extension": ".py",
      "mimetype": "text/x-python",
      "name": "python",
      "nbconvert_exporter": "python",
      "pygments_lexer": "ipython3",
      "version": "3.11.7"
    },
    "colab": {
      "provenance": []
    }
  },
  "nbformat": 4,
  "nbformat_minor": 5
}